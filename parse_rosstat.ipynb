{
 "cells": [
  {
   "cell_type": "code",
   "execution_count": 2,
   "metadata": {},
   "outputs": [
    {
     "name": "stdout",
     "output_type": "stream",
     "text": [
      "5.3.0\n"
     ]
    }
   ],
   "source": [
    "import pandas as pd\n",
    "import selenium\n",
    "import requests\n",
    "from bs4 import BeautifulSoup\n",
    "import lxml\n",
    "from selenium.webdriver.common.by import By\n",
    "print(lxml.__version__)\n",
    "from selenium import webdriver\n",
    "from selenium.webdriver.chrome.service import Service\n",
    "from webdriver_manager.chrome import ChromeDriverManager\n",
    "from time import sleep\n",
    "service = Service(ChromeDriverManager().install())\n",
    "driver = webdriver.Chrome()\n"
   ]
  },
  {
   "cell_type": "code",
   "execution_count": 4,
   "metadata": {},
   "outputs": [
    {
     "name": "stdout",
     "output_type": "stream",
     "text": [
      "[<selenium.webdriver.remote.webelement.WebElement (session=\"053e03b8efc0de92d93d3832d0807707\", element=\"f.44792DE36FCEC6E2A45BF669526BC5A8.d.9330E3A597C606AC8CEA670CB66C4A8F.e.18\")>, <selenium.webdriver.remote.webelement.WebElement (session=\"053e03b8efc0de92d93d3832d0807707\", element=\"f.44792DE36FCEC6E2A45BF669526BC5A8.d.9330E3A597C606AC8CEA670CB66C4A8F.e.19\")>, <selenium.webdriver.remote.webelement.WebElement (session=\"053e03b8efc0de92d93d3832d0807707\", element=\"f.44792DE36FCEC6E2A45BF669526BC5A8.d.9330E3A597C606AC8CEA670CB66C4A8F.e.20\")>, <selenium.webdriver.remote.webelement.WebElement (session=\"053e03b8efc0de92d93d3832d0807707\", element=\"f.44792DE36FCEC6E2A45BF669526BC5A8.d.9330E3A597C606AC8CEA670CB66C4A8F.e.21\")>, <selenium.webdriver.remote.webelement.WebElement (session=\"053e03b8efc0de92d93d3832d0807707\", element=\"f.44792DE36FCEC6E2A45BF669526BC5A8.d.9330E3A597C606AC8CEA670CB66C4A8F.e.22\")>, <selenium.webdriver.remote.webelement.WebElement (session=\"053e03b8efc0de92d93d3832d0807707\", element=\"f.44792DE36FCEC6E2A45BF669526BC5A8.d.9330E3A597C606AC8CEA670CB66C4A8F.e.23\")>, <selenium.webdriver.remote.webelement.WebElement (session=\"053e03b8efc0de92d93d3832d0807707\", element=\"f.44792DE36FCEC6E2A45BF669526BC5A8.d.9330E3A597C606AC8CEA670CB66C4A8F.e.24\")>, <selenium.webdriver.remote.webelement.WebElement (session=\"053e03b8efc0de92d93d3832d0807707\", element=\"f.44792DE36FCEC6E2A45BF669526BC5A8.d.9330E3A597C606AC8CEA670CB66C4A8F.e.13\")>, <selenium.webdriver.remote.webelement.WebElement (session=\"053e03b8efc0de92d93d3832d0807707\", element=\"f.44792DE36FCEC6E2A45BF669526BC5A8.d.9330E3A597C606AC8CEA670CB66C4A8F.e.25\")>, <selenium.webdriver.remote.webelement.WebElement (session=\"053e03b8efc0de92d93d3832d0807707\", element=\"f.44792DE36FCEC6E2A45BF669526BC5A8.d.9330E3A597C606AC8CEA670CB66C4A8F.e.26\")>, <selenium.webdriver.remote.webelement.WebElement (session=\"053e03b8efc0de92d93d3832d0807707\", element=\"f.44792DE36FCEC6E2A45BF669526BC5A8.d.9330E3A597C606AC8CEA670CB66C4A8F.e.27\")>, <selenium.webdriver.remote.webelement.WebElement (session=\"053e03b8efc0de92d93d3832d0807707\", element=\"f.44792DE36FCEC6E2A45BF669526BC5A8.d.9330E3A597C606AC8CEA670CB66C4A8F.e.28\")>, <selenium.webdriver.remote.webelement.WebElement (session=\"053e03b8efc0de92d93d3832d0807707\", element=\"f.44792DE36FCEC6E2A45BF669526BC5A8.d.9330E3A597C606AC8CEA670CB66C4A8F.e.29\")>, <selenium.webdriver.remote.webelement.WebElement (session=\"053e03b8efc0de92d93d3832d0807707\", element=\"f.44792DE36FCEC6E2A45BF669526BC5A8.d.9330E3A597C606AC8CEA670CB66C4A8F.e.30\")>, <selenium.webdriver.remote.webelement.WebElement (session=\"053e03b8efc0de92d93d3832d0807707\", element=\"f.44792DE36FCEC6E2A45BF669526BC5A8.d.9330E3A597C606AC8CEA670CB66C4A8F.e.31\")>, <selenium.webdriver.remote.webelement.WebElement (session=\"053e03b8efc0de92d93d3832d0807707\", element=\"f.44792DE36FCEC6E2A45BF669526BC5A8.d.9330E3A597C606AC8CEA670CB66C4A8F.e.32\")>, <selenium.webdriver.remote.webelement.WebElement (session=\"053e03b8efc0de92d93d3832d0807707\", element=\"f.44792DE36FCEC6E2A45BF669526BC5A8.d.9330E3A597C606AC8CEA670CB66C4A8F.e.33\")>, <selenium.webdriver.remote.webelement.WebElement (session=\"053e03b8efc0de92d93d3832d0807707\", element=\"f.44792DE36FCEC6E2A45BF669526BC5A8.d.9330E3A597C606AC8CEA670CB66C4A8F.e.34\")>, <selenium.webdriver.remote.webelement.WebElement (session=\"053e03b8efc0de92d93d3832d0807707\", element=\"f.44792DE36FCEC6E2A45BF669526BC5A8.d.9330E3A597C606AC8CEA670CB66C4A8F.e.35\")>, <selenium.webdriver.remote.webelement.WebElement (session=\"053e03b8efc0de92d93d3832d0807707\", element=\"f.44792DE36FCEC6E2A45BF669526BC5A8.d.9330E3A597C606AC8CEA670CB66C4A8F.e.36\")>, <selenium.webdriver.remote.webelement.WebElement (session=\"053e03b8efc0de92d93d3832d0807707\", element=\"f.44792DE36FCEC6E2A45BF669526BC5A8.d.9330E3A597C606AC8CEA670CB66C4A8F.e.37\")>, <selenium.webdriver.remote.webelement.WebElement (session=\"053e03b8efc0de92d93d3832d0807707\", element=\"f.44792DE36FCEC6E2A45BF669526BC5A8.d.9330E3A597C606AC8CEA670CB66C4A8F.e.38\")>, <selenium.webdriver.remote.webelement.WebElement (session=\"053e03b8efc0de92d93d3832d0807707\", element=\"f.44792DE36FCEC6E2A45BF669526BC5A8.d.9330E3A597C606AC8CEA670CB66C4A8F.e.39\")>, <selenium.webdriver.remote.webelement.WebElement (session=\"053e03b8efc0de92d93d3832d0807707\", element=\"f.44792DE36FCEC6E2A45BF669526BC5A8.d.9330E3A597C606AC8CEA670CB66C4A8F.e.40\")>, <selenium.webdriver.remote.webelement.WebElement (session=\"053e03b8efc0de92d93d3832d0807707\", element=\"f.44792DE36FCEC6E2A45BF669526BC5A8.d.9330E3A597C606AC8CEA670CB66C4A8F.e.41\")>, <selenium.webdriver.remote.webelement.WebElement (session=\"053e03b8efc0de92d93d3832d0807707\", element=\"f.44792DE36FCEC6E2A45BF669526BC5A8.d.9330E3A597C606AC8CEA670CB66C4A8F.e.42\")>, <selenium.webdriver.remote.webelement.WebElement (session=\"053e03b8efc0de92d93d3832d0807707\", element=\"f.44792DE36FCEC6E2A45BF669526BC5A8.d.9330E3A597C606AC8CEA670CB66C4A8F.e.43\")>, <selenium.webdriver.remote.webelement.WebElement (session=\"053e03b8efc0de92d93d3832d0807707\", element=\"f.44792DE36FCEC6E2A45BF669526BC5A8.d.9330E3A597C606AC8CEA670CB66C4A8F.e.44\")>, <selenium.webdriver.remote.webelement.WebElement (session=\"053e03b8efc0de92d93d3832d0807707\", element=\"f.44792DE36FCEC6E2A45BF669526BC5A8.d.9330E3A597C606AC8CEA670CB66C4A8F.e.45\")>, <selenium.webdriver.remote.webelement.WebElement (session=\"053e03b8efc0de92d93d3832d0807707\", element=\"f.44792DE36FCEC6E2A45BF669526BC5A8.d.9330E3A597C606AC8CEA670CB66C4A8F.e.46\")>, <selenium.webdriver.remote.webelement.WebElement (session=\"053e03b8efc0de92d93d3832d0807707\", element=\"f.44792DE36FCEC6E2A45BF669526BC5A8.d.9330E3A597C606AC8CEA670CB66C4A8F.e.47\")>, <selenium.webdriver.remote.webelement.WebElement (session=\"053e03b8efc0de92d93d3832d0807707\", element=\"f.44792DE36FCEC6E2A45BF669526BC5A8.d.9330E3A597C606AC8CEA670CB66C4A8F.e.48\")>, <selenium.webdriver.remote.webelement.WebElement (session=\"053e03b8efc0de92d93d3832d0807707\", element=\"f.44792DE36FCEC6E2A45BF669526BC5A8.d.9330E3A597C606AC8CEA670CB66C4A8F.e.49\")>, <selenium.webdriver.remote.webelement.WebElement (session=\"053e03b8efc0de92d93d3832d0807707\", element=\"f.44792DE36FCEC6E2A45BF669526BC5A8.d.9330E3A597C606AC8CEA670CB66C4A8F.e.50\")>, <selenium.webdriver.remote.webelement.WebElement (session=\"053e03b8efc0de92d93d3832d0807707\", element=\"f.44792DE36FCEC6E2A45BF669526BC5A8.d.9330E3A597C606AC8CEA670CB66C4A8F.e.51\")>, <selenium.webdriver.remote.webelement.WebElement (session=\"053e03b8efc0de92d93d3832d0807707\", element=\"f.44792DE36FCEC6E2A45BF669526BC5A8.d.9330E3A597C606AC8CEA670CB66C4A8F.e.52\")>, <selenium.webdriver.remote.webelement.WebElement (session=\"053e03b8efc0de92d93d3832d0807707\", element=\"f.44792DE36FCEC6E2A45BF669526BC5A8.d.9330E3A597C606AC8CEA670CB66C4A8F.e.53\")>, <selenium.webdriver.remote.webelement.WebElement (session=\"053e03b8efc0de92d93d3832d0807707\", element=\"f.44792DE36FCEC6E2A45BF669526BC5A8.d.9330E3A597C606AC8CEA670CB66C4A8F.e.54\")>, <selenium.webdriver.remote.webelement.WebElement (session=\"053e03b8efc0de92d93d3832d0807707\", element=\"f.44792DE36FCEC6E2A45BF669526BC5A8.d.9330E3A597C606AC8CEA670CB66C4A8F.e.55\")>, <selenium.webdriver.remote.webelement.WebElement (session=\"053e03b8efc0de92d93d3832d0807707\", element=\"f.44792DE36FCEC6E2A45BF669526BC5A8.d.9330E3A597C606AC8CEA670CB66C4A8F.e.56\")>, <selenium.webdriver.remote.webelement.WebElement (session=\"053e03b8efc0de92d93d3832d0807707\", element=\"f.44792DE36FCEC6E2A45BF669526BC5A8.d.9330E3A597C606AC8CEA670CB66C4A8F.e.57\")>, <selenium.webdriver.remote.webelement.WebElement (session=\"053e03b8efc0de92d93d3832d0807707\", element=\"f.44792DE36FCEC6E2A45BF669526BC5A8.d.9330E3A597C606AC8CEA670CB66C4A8F.e.58\")>, <selenium.webdriver.remote.webelement.WebElement (session=\"053e03b8efc0de92d93d3832d0807707\", element=\"f.44792DE36FCEC6E2A45BF669526BC5A8.d.9330E3A597C606AC8CEA670CB66C4A8F.e.59\")>, <selenium.webdriver.remote.webelement.WebElement (session=\"053e03b8efc0de92d93d3832d0807707\", element=\"f.44792DE36FCEC6E2A45BF669526BC5A8.d.9330E3A597C606AC8CEA670CB66C4A8F.e.60\")>, <selenium.webdriver.remote.webelement.WebElement (session=\"053e03b8efc0de92d93d3832d0807707\", element=\"f.44792DE36FCEC6E2A45BF669526BC5A8.d.9330E3A597C606AC8CEA670CB66C4A8F.e.61\")>, <selenium.webdriver.remote.webelement.WebElement (session=\"053e03b8efc0de92d93d3832d0807707\", element=\"f.44792DE36FCEC6E2A45BF669526BC5A8.d.9330E3A597C606AC8CEA670CB66C4A8F.e.62\")>, <selenium.webdriver.remote.webelement.WebElement (session=\"053e03b8efc0de92d93d3832d0807707\", element=\"f.44792DE36FCEC6E2A45BF669526BC5A8.d.9330E3A597C606AC8CEA670CB66C4A8F.e.63\")>, <selenium.webdriver.remote.webelement.WebElement (session=\"053e03b8efc0de92d93d3832d0807707\", element=\"f.44792DE36FCEC6E2A45BF669526BC5A8.d.9330E3A597C606AC8CEA670CB66C4A8F.e.64\")>, <selenium.webdriver.remote.webelement.WebElement (session=\"053e03b8efc0de92d93d3832d0807707\", element=\"f.44792DE36FCEC6E2A45BF669526BC5A8.d.9330E3A597C606AC8CEA670CB66C4A8F.e.11\")>, <selenium.webdriver.remote.webelement.WebElement (session=\"053e03b8efc0de92d93d3832d0807707\", element=\"f.44792DE36FCEC6E2A45BF669526BC5A8.d.9330E3A597C606AC8CEA670CB66C4A8F.e.65\")>, <selenium.webdriver.remote.webelement.WebElement (session=\"053e03b8efc0de92d93d3832d0807707\", element=\"f.44792DE36FCEC6E2A45BF669526BC5A8.d.9330E3A597C606AC8CEA670CB66C4A8F.e.66\")>, <selenium.webdriver.remote.webelement.WebElement (session=\"053e03b8efc0de92d93d3832d0807707\", element=\"f.44792DE36FCEC6E2A45BF669526BC5A8.d.9330E3A597C606AC8CEA670CB66C4A8F.e.67\")>, <selenium.webdriver.remote.webelement.WebElement (session=\"053e03b8efc0de92d93d3832d0807707\", element=\"f.44792DE36FCEC6E2A45BF669526BC5A8.d.9330E3A597C606AC8CEA670CB66C4A8F.e.68\")>, <selenium.webdriver.remote.webelement.WebElement (session=\"053e03b8efc0de92d93d3832d0807707\", element=\"f.44792DE36FCEC6E2A45BF669526BC5A8.d.9330E3A597C606AC8CEA670CB66C4A8F.e.69\")>, <selenium.webdriver.remote.webelement.WebElement (session=\"053e03b8efc0de92d93d3832d0807707\", element=\"f.44792DE36FCEC6E2A45BF669526BC5A8.d.9330E3A597C606AC8CEA670CB66C4A8F.e.70\")>, <selenium.webdriver.remote.webelement.WebElement (session=\"053e03b8efc0de92d93d3832d0807707\", element=\"f.44792DE36FCEC6E2A45BF669526BC5A8.d.9330E3A597C606AC8CEA670CB66C4A8F.e.71\")>, <selenium.webdriver.remote.webelement.WebElement (session=\"053e03b8efc0de92d93d3832d0807707\", element=\"f.44792DE36FCEC6E2A45BF669526BC5A8.d.9330E3A597C606AC8CEA670CB66C4A8F.e.72\")>, <selenium.webdriver.remote.webelement.WebElement (session=\"053e03b8efc0de92d93d3832d0807707\", element=\"f.44792DE36FCEC6E2A45BF669526BC5A8.d.9330E3A597C606AC8CEA670CB66C4A8F.e.73\")>, <selenium.webdriver.remote.webelement.WebElement (session=\"053e03b8efc0de92d93d3832d0807707\", element=\"f.44792DE36FCEC6E2A45BF669526BC5A8.d.9330E3A597C606AC8CEA670CB66C4A8F.e.74\")>, <selenium.webdriver.remote.webelement.WebElement (session=\"053e03b8efc0de92d93d3832d0807707\", element=\"f.44792DE36FCEC6E2A45BF669526BC5A8.d.9330E3A597C606AC8CEA670CB66C4A8F.e.75\")>, <selenium.webdriver.remote.webelement.WebElement (session=\"053e03b8efc0de92d93d3832d0807707\", element=\"f.44792DE36FCEC6E2A45BF669526BC5A8.d.9330E3A597C606AC8CEA670CB66C4A8F.e.76\")>, <selenium.webdriver.remote.webelement.WebElement (session=\"053e03b8efc0de92d93d3832d0807707\", element=\"f.44792DE36FCEC6E2A45BF669526BC5A8.d.9330E3A597C606AC8CEA670CB66C4A8F.e.77\")>, <selenium.webdriver.remote.webelement.WebElement (session=\"053e03b8efc0de92d93d3832d0807707\", element=\"f.44792DE36FCEC6E2A45BF669526BC5A8.d.9330E3A597C606AC8CEA670CB66C4A8F.e.78\")>, <selenium.webdriver.remote.webelement.WebElement (session=\"053e03b8efc0de92d93d3832d0807707\", element=\"f.44792DE36FCEC6E2A45BF669526BC5A8.d.9330E3A597C606AC8CEA670CB66C4A8F.e.79\")>, <selenium.webdriver.remote.webelement.WebElement (session=\"053e03b8efc0de92d93d3832d0807707\", element=\"f.44792DE36FCEC6E2A45BF669526BC5A8.d.9330E3A597C606AC8CEA670CB66C4A8F.e.80\")>, <selenium.webdriver.remote.webelement.WebElement (session=\"053e03b8efc0de92d93d3832d0807707\", element=\"f.44792DE36FCEC6E2A45BF669526BC5A8.d.9330E3A597C606AC8CEA670CB66C4A8F.e.81\")>, <selenium.webdriver.remote.webelement.WebElement (session=\"053e03b8efc0de92d93d3832d0807707\", element=\"f.44792DE36FCEC6E2A45BF669526BC5A8.d.9330E3A597C606AC8CEA670CB66C4A8F.e.82\")>, <selenium.webdriver.remote.webelement.WebElement (session=\"053e03b8efc0de92d93d3832d0807707\", element=\"f.44792DE36FCEC6E2A45BF669526BC5A8.d.9330E3A597C606AC8CEA670CB66C4A8F.e.83\")>, <selenium.webdriver.remote.webelement.WebElement (session=\"053e03b8efc0de92d93d3832d0807707\", element=\"f.44792DE36FCEC6E2A45BF669526BC5A8.d.9330E3A597C606AC8CEA670CB66C4A8F.e.84\")>, <selenium.webdriver.remote.webelement.WebElement (session=\"053e03b8efc0de92d93d3832d0807707\", element=\"f.44792DE36FCEC6E2A45BF669526BC5A8.d.9330E3A597C606AC8CEA670CB66C4A8F.e.85\")>, <selenium.webdriver.remote.webelement.WebElement (session=\"053e03b8efc0de92d93d3832d0807707\", element=\"f.44792DE36FCEC6E2A45BF669526BC5A8.d.9330E3A597C606AC8CEA670CB66C4A8F.e.86\")>, <selenium.webdriver.remote.webelement.WebElement (session=\"053e03b8efc0de92d93d3832d0807707\", element=\"f.44792DE36FCEC6E2A45BF669526BC5A8.d.9330E3A597C606AC8CEA670CB66C4A8F.e.87\")>, <selenium.webdriver.remote.webelement.WebElement (session=\"053e03b8efc0de92d93d3832d0807707\", element=\"f.44792DE36FCEC6E2A45BF669526BC5A8.d.9330E3A597C606AC8CEA670CB66C4A8F.e.88\")>, <selenium.webdriver.remote.webelement.WebElement (session=\"053e03b8efc0de92d93d3832d0807707\", element=\"f.44792DE36FCEC6E2A45BF669526BC5A8.d.9330E3A597C606AC8CEA670CB66C4A8F.e.12\")>, <selenium.webdriver.remote.webelement.WebElement (session=\"053e03b8efc0de92d93d3832d0807707\", element=\"f.44792DE36FCEC6E2A45BF669526BC5A8.d.9330E3A597C606AC8CEA670CB66C4A8F.e.89\")>, <selenium.webdriver.remote.webelement.WebElement (session=\"053e03b8efc0de92d93d3832d0807707\", element=\"f.44792DE36FCEC6E2A45BF669526BC5A8.d.9330E3A597C606AC8CEA670CB66C4A8F.e.90\")>, <selenium.webdriver.remote.webelement.WebElement (session=\"053e03b8efc0de92d93d3832d0807707\", element=\"f.44792DE36FCEC6E2A45BF669526BC5A8.d.9330E3A597C606AC8CEA670CB66C4A8F.e.91\")>, <selenium.webdriver.remote.webelement.WebElement (session=\"053e03b8efc0de92d93d3832d0807707\", element=\"f.44792DE36FCEC6E2A45BF669526BC5A8.d.9330E3A597C606AC8CEA670CB66C4A8F.e.92\")>, <selenium.webdriver.remote.webelement.WebElement (session=\"053e03b8efc0de92d93d3832d0807707\", element=\"f.44792DE36FCEC6E2A45BF669526BC5A8.d.9330E3A597C606AC8CEA670CB66C4A8F.e.93\")>, <selenium.webdriver.remote.webelement.WebElement (session=\"053e03b8efc0de92d93d3832d0807707\", element=\"f.44792DE36FCEC6E2A45BF669526BC5A8.d.9330E3A597C606AC8CEA670CB66C4A8F.e.94\")>, <selenium.webdriver.remote.webelement.WebElement (session=\"053e03b8efc0de92d93d3832d0807707\", element=\"f.44792DE36FCEC6E2A45BF669526BC5A8.d.9330E3A597C606AC8CEA670CB66C4A8F.e.95\")>, <selenium.webdriver.remote.webelement.WebElement (session=\"053e03b8efc0de92d93d3832d0807707\", element=\"f.44792DE36FCEC6E2A45BF669526BC5A8.d.9330E3A597C606AC8CEA670CB66C4A8F.e.96\")>, <selenium.webdriver.remote.webelement.WebElement (session=\"053e03b8efc0de92d93d3832d0807707\", element=\"f.44792DE36FCEC6E2A45BF669526BC5A8.d.9330E3A597C606AC8CEA670CB66C4A8F.e.97\")>]\n"
     ]
    }
   ],
   "source": [
    "ref = 'https://rosstat.gov.ru/storage/mediabank/munst.htm'\n",
    "driver.get(ref)\n",
    "driver.implicitly_wait(0.5)\n",
    "driver.maximize_window()\n",
    "driver.implicitly_wait(1)\n",
    "\n",
    "region_links = driver.find_elements(By.XPATH, \"//a[contains(@href, 'munst')]\")\n",
    "print(region_links)\n",
    "links = []\n",
    "for link in region_links:\n",
    "    links.append((link.get_attribute('href'), link.text))\n"
   ]
  },
  {
   "cell_type": "code",
   "execution_count": 5,
   "metadata": {},
   "outputs": [],
   "source": [
    "links = links[1:]"
   ]
  },
  {
   "cell_type": "code",
   "execution_count": 6,
   "metadata": {},
   "outputs": [
    {
     "name": "stdout",
     "output_type": "stream",
     "text": [
      "[('https://gks.ru/dbscripts/munst/munst14/DBInet.cgi', 'Белгородская область'), ('https://gks.ru/dbscripts/munst/munst15/DBInet.cgi', 'Брянская область'), ('https://gks.ru/dbscripts/munst/munst17/DBInet.cgi', 'Владимирская область'), ('https://gks.ru/dbscripts/munst/munst20/DBInet.cgi', 'Воронежская область'), ('https://gks.ru/dbscripts/munst/munst24/DBInet.cgi', 'Ивановская область'), ('https://gks.ru/dbscripts/munst/munst29/DBInet.cgi', 'Калужская область'), ('https://gks.ru/dbscripts/munst/munst34/DBInet.cgi', 'Костромская область'), ('https://gks.ru/dbscripts/munst/munst38/DBInet.cgi', 'Курская область'), ('https://gks.ru/dbscripts/munst/munst42/DBInet.cgi', 'Липецкая область'), ('https://gks.ru/dbscripts/munst/munst46/DBInet.cgi', 'Московская область'), ('https://gks.ru/dbscripts/munst/munst54/DBInet.cgi', 'Орловская область'), ('https://gks.ru/dbscripts/munst/munst61/DBInet.cgi', 'Рязанская область'), ('https://gks.ru/dbscripts/munst/munst66/DBInet.cgi', 'Смоленская область'), ('https://gks.ru/dbscripts/munst/munst68/DBInet.cgi', 'Тамбовская область'), ('https://gks.ru/dbscripts/munst/munst28/DBInet.cgi', 'Тверская область'), ('https://gks.ru/dbscripts/munst/munst70/DBInet.cgi', 'Тульская область'), ('https://gks.ru/dbscripts/munst/munst78/DBInet.cgi', 'Ярославская область'), ('https://gks.ru/dbscripts/munst/munst45/DBInet.cgi', 'г.Москва'), ('https://gks.ru/dbscripts/munst/munst86/DBInet.cgi', 'Республика Карелия'), ('https://gks.ru/dbscripts/munst/munst87/DBInet.cgi', 'Республика Коми'), ('https://gks.ru/dbscripts/munst/munst11/DBInet.cgi', 'Архангельская область'), ('https://gks.ru/dbscripts/munst/munst19/DBInet.cgi', 'Вологодская область'), ('https://gks.ru/dbscripts/munst/munst27/DBInet.cgi', 'Калининградская область'), ('https://gks.ru/dbscripts/munst/munst41/DBInet.cgi', 'Ленинградская область'), ('https://gks.ru/dbscripts/munst/munst47/DBInet.cgi', 'Мурманская область'), ('https://gks.ru/dbscripts/munst/munst49/DBInet.cgi', 'Новгородская область'), ('https://gks.ru/dbscripts/munst/munst58/DBInet.cgi', 'Псковская область'), ('https://gks.ru/dbscripts/munst/munst40/DBInet.cgi', 'г.Санкт-Петербург'), ('https://gks.ru/dbscripts/munst/munst79/DBInet.cgi', 'Республика Адыгея'), ('https://gks.ru/dbscripts/munst/munst85/DBInet.cgi', 'Республика Калмыкия'), ('https://gks.ru/dbscripts/munst/munst35/DBInet.cgi', 'Республика Крым'), ('https://gks.ru/dbscripts/munst/munst03/DBInet.cgi', 'Краснодарский край'), ('https://gks.ru/dbscripts/munst/munst12/DBInet.cgi', 'Астраханская область'), ('https://gks.ru/dbscripts/munst/munst18/DBInet.cgi', 'Волгоградская область'), ('https://gks.ru/dbscripts/munst/munst60/DBInet.cgi', 'Ростовская область'), ('https://gks.ru/dbscripts/munst/munst67/DBInet.cgi', 'г. Севастополь'), ('https://gks.ru/dbscripts/munst/munst82/DBInet.cgi', 'Республика Дагестан'), ('https://gks.ru/dbscripts/munst/munst26/DBInet.cgi', 'Республика Ингушетия'), ('https://gks.ru/dbscripts/munst/munst83/DBInet.cgi', 'Кабардино-Балкарская Республика'), ('https://gks.ru/dbscripts/munst/munst91/DBInet.cgi', 'Карачаево-Черкесская Республика'), ('https://gks.ru/dbscripts/munst/munst90/DBInet.cgi', 'Республика Северная Осетия - Алания'), ('https://gks.ru/dbscripts/munst/munst96/DBInet.cgi', 'Чеченская Республика'), ('https://gks.ru/dbscripts/munst/munst07/DBInet.cgi', 'Ставропольский край'), ('https://gks.ru/dbscripts/munst/munst80/DBInet.cgi', 'Республика Башкортостан'), ('https://gks.ru/dbscripts/munst/munst88/DBInet.cgi', 'Республика Марий Эл'), ('https://gks.ru/dbscripts/munst/munst89/DBInet.cgi', 'Республика Мордовия'), ('https://gks.ru/dbscripts/munst/munst92/DBInet.cgi', 'Республика Татарстан'), ('https://gks.ru/dbscripts/munst/munst94/DBInet.cgi', 'Удмуртская Республика'), ('https://gks.ru/dbscripts/munst/munst97/DBInet.cgi', 'Чувашская Республика'), ('https://gks.ru/dbscripts/munst/munst57/DBInet.cgi', 'Пермский край'), ('https://gks.ru/dbscripts/munst/munst33/DBInet.cgi', 'Кировская область'), ('https://gks.ru/dbscripts/munst/munst22/DBInet.cgi', 'Нижегородская область'), ('https://gks.ru/dbscripts/munst/munst53/DBInet.cgi', 'Оренбургская область'), ('https://gks.ru/dbscripts/munst/munst56/DBInet.cgi', 'Пензенская область'), ('https://gks.ru/dbscripts/munst/munst36/DBInet.cgi', 'Самарская область'), ('https://gks.ru/dbscripts/munst/munst63/DBInet.cgi', 'Саратовская область'), ('https://gks.ru/dbscripts/munst/munst73/DBInet.cgi', 'Ульяновская область'), ('https://gks.ru/dbscripts/munst/munst37/DBInet.cgi', 'Курганская область'), ('https://gks.ru/dbscripts/munst/munst65/DBInet.cgi', 'Свердловская область'), ('https://gks.ru/dbscripts/munst/munst71/DBInet.cgi', 'Тюменская область'), ('https://gks.ru/dbscripts/munst/munst75/DBInet.cgi', 'Челябинская область'), ('https://gks.ru/dbscripts/munst/munst84/DBInet.cgi', 'Республика Алтай'), ('https://gks.ru/dbscripts/munst/munst93/DBInet.cgi', 'Республика Тыва'), ('https://gks.ru/dbscripts/munst/munst95/DBInet.cgi', 'Республика Хакасия'), ('https://gks.ru/dbscripts/munst/munst01/DBInet.cgi', 'Алтайский край'), ('https://gks.ru/dbscripts/munst/munst04/DBInet.cgi', 'Красноярский край'), ('https://gks.ru/dbscripts/munst/munst25/DBInet.cgi', 'Иркутская область'), ('https://gks.ru/dbscripts/munst/munst32/DBInet.cgi', 'Кемеровская область'), ('https://gks.ru/dbscripts/munst/munst50/DBInet.cgi', 'Новосибирская область'), ('https://gks.ru/dbscripts/munst/munst52/DBInet.cgi', 'Омская область'), ('https://gks.ru/dbscripts/munst/munst69/DBInet.cgi', 'Томская область'), ('https://gks.ru/dbscripts/munst/munst81/DBInet.cgi', 'Республика Бурятия'), ('https://gks.ru/dbscripts/munst/munst98/DBInet.cgi', 'Республика Саха (Якутия)'), ('https://gks.ru/dbscripts/munst/munst76/DBInet.cgi', 'Забайкальский край'), ('https://gks.ru/dbscripts/munst/munst30/DBInet.cgi', 'Камчатский край'), ('https://gks.ru/dbscripts/munst/munst05/DBInet.cgi', 'Приморский край'), ('https://gks.ru/dbscripts/munst/munst08/DBInet.cgi', 'Хабаровский край'), ('https://gks.ru/dbscripts/munst/munst10/DBInet.cgi', 'Амурская область'), ('https://gks.ru/dbscripts/munst/munst44/DBInet.cgi', 'Магаданская область'), ('https://gks.ru/dbscripts/munst/munst64/DBInet.cgi', 'Сахалинская область'), ('https://gks.ru/dbscripts/munst/munst99/DBInet.cgi', 'Еврейская автономная область'), ('https://gks.ru/dbscripts/munst/munst77/DBInet.cgi', 'Чукотский автономный округ')]\n"
     ]
    }
   ],
   "source": [
    "print(links)\n"
   ]
  },
  {
   "cell_type": "code",
   "execution_count": 7,
   "metadata": {},
   "outputs": [],
   "source": [
    "def get_table_one_mun(link, cnt):\n",
    "    name_mun = link[1]\n",
    "    link = link[0]\n",
    "    try:\n",
    "        # print(1)\n",
    "        if cnt == 0:\n",
    "\n",
    "            driver.implicitly_wait(0.5)\n",
    "            driver.maximize_window()\n",
    "            driver.implicitly_wait(1)\n",
    "            # print('cnt=0')\n",
    "        else:\n",
    "            window_handles = driver.window_handles\n",
    "            # # Переключаемся на последнюю открытую вкладку (новую)\n",
    "            driver.switch_to.window(window_handles[-1])\n",
    "            # print('cnt=1')\n",
    "        driver.get(link)\n",
    "        search_dir = driver.find_element(By.LINK_TEXT, 'Коммунальная сфера') # сюда вставлять название папки со сферой, которую парсим на данный момент\n",
    "        search_dir.click()\n",
    "        search_elem = driver.find_element(By.NAME, 'p8008025') # сюда вставлять id для критерий\n",
    "        search_elem.click()\n",
    "        button_next = driver.find_element(By.ID, 'Knopka')\n",
    "        button_next.click()\n",
    "        all_mun = driver.find_element(By.NAME, 'munr_chk')\n",
    "        all_mun.click()\n",
    "\n",
    "\n",
    "        mun_obr = driver.find_element(By.NAME, 'oktmo_chk')\n",
    "        mun_obr.click()\n",
    "        chk_years = driver.find_element(By.NAME, 'god_chk')\n",
    "        chk_years.click()\n",
    "        try:\n",
    "            type_pos = driver.find_element(By.XPATH, \"//select//option[contains(text(), 'Муниципальный район')]\")\n",
    "        except:\n",
    "            type_pos = driver.find_element(By.XPATH, \"//select//option[contains(text(), 'Муниципальные районы')]\")\n",
    "        type_pos.click()\n",
    "        type_pos.click()\n",
    "        aa = driver.find_element(By.NAME, 'STbl')\n",
    "        aa.click()\n",
    "        window_handles = driver.window_handles\n",
    "        # # Переключаемся на последнюю открытую вкладку (новую)\n",
    "        driver.switch_to.window(window_handles[-1])\n",
    "        a = driver.find_element(By.NAME, 'Format')\n",
    "        a.click()\n",
    "        b = driver.find_element(By.XPATH, '//select//option[contains(text(), \"CSV\")]')\n",
    "        b.click()\n",
    "        c = driver.find_element(By.NAME, 'showtbl0')\n",
    "        c.click()\n",
    "        # name_file = f'Report ({cnt}).csv' if cnt > 0 else 'Report.csv'\n",
    "        # curr_path = '/home/nomad/Downloads' + name_file\n",
    "        # df = pd.read_csv(curr_path, sep=';', encoding='cp1251', skiprows=2, header=0, index_col=0)\n",
    "\n",
    "        # # Теперь вы можете выполнять действия на новой вкладке\n",
    "        # # Например, получить заголовок страницы\n",
    "        # print(driver.title)\n",
    "\n",
    "        # # Закрытие новой вкладки (по желанию)\n",
    "\n",
    "        # # Переключение обратно на первую вкладку\n",
    "        # # driver.switch_to.window(window_handles[0])\n",
    "        driver.close()\n",
    "        # driver.quit()\n",
    "    except Exception as error:\n",
    "        print(error)\n",
    "        print(name_mun)"
   ]
  },
  {
   "cell_type": "code",
   "execution_count": 8,
   "metadata": {},
   "outputs": [
    {
     "name": "stdout",
     "output_type": "stream",
     "text": [
      "[('https://gks.ru/dbscripts/munst/munst14/DBInet.cgi', 'Белгородская область'), ('https://gks.ru/dbscripts/munst/munst15/DBInet.cgi', 'Брянская область'), ('https://gks.ru/dbscripts/munst/munst17/DBInet.cgi', 'Владимирская область'), ('https://gks.ru/dbscripts/munst/munst20/DBInet.cgi', 'Воронежская область'), ('https://gks.ru/dbscripts/munst/munst24/DBInet.cgi', 'Ивановская область'), ('https://gks.ru/dbscripts/munst/munst29/DBInet.cgi', 'Калужская область'), ('https://gks.ru/dbscripts/munst/munst34/DBInet.cgi', 'Костромская область'), ('https://gks.ru/dbscripts/munst/munst38/DBInet.cgi', 'Курская область'), ('https://gks.ru/dbscripts/munst/munst42/DBInet.cgi', 'Липецкая область'), ('https://gks.ru/dbscripts/munst/munst46/DBInet.cgi', 'Московская область'), ('https://gks.ru/dbscripts/munst/munst54/DBInet.cgi', 'Орловская область'), ('https://gks.ru/dbscripts/munst/munst61/DBInet.cgi', 'Рязанская область'), ('https://gks.ru/dbscripts/munst/munst66/DBInet.cgi', 'Смоленская область'), ('https://gks.ru/dbscripts/munst/munst68/DBInet.cgi', 'Тамбовская область'), ('https://gks.ru/dbscripts/munst/munst28/DBInet.cgi', 'Тверская область'), ('https://gks.ru/dbscripts/munst/munst70/DBInet.cgi', 'Тульская область'), ('https://gks.ru/dbscripts/munst/munst78/DBInet.cgi', 'Ярославская область'), ('https://gks.ru/dbscripts/munst/munst45/DBInet.cgi', 'г.Москва'), ('https://gks.ru/dbscripts/munst/munst86/DBInet.cgi', 'Республика Карелия'), ('https://gks.ru/dbscripts/munst/munst87/DBInet.cgi', 'Республика Коми'), ('https://gks.ru/dbscripts/munst/munst11/DBInet.cgi', 'Архангельская область'), ('https://gks.ru/dbscripts/munst/munst19/DBInet.cgi', 'Вологодская область'), ('https://gks.ru/dbscripts/munst/munst27/DBInet.cgi', 'Калининградская область'), ('https://gks.ru/dbscripts/munst/munst41/DBInet.cgi', 'Ленинградская область'), ('https://gks.ru/dbscripts/munst/munst47/DBInet.cgi', 'Мурманская область'), ('https://gks.ru/dbscripts/munst/munst49/DBInet.cgi', 'Новгородская область'), ('https://gks.ru/dbscripts/munst/munst58/DBInet.cgi', 'Псковская область'), ('https://gks.ru/dbscripts/munst/munst40/DBInet.cgi', 'г.Санкт-Петербург'), ('https://gks.ru/dbscripts/munst/munst79/DBInet.cgi', 'Республика Адыгея'), ('https://gks.ru/dbscripts/munst/munst85/DBInet.cgi', 'Республика Калмыкия'), ('https://gks.ru/dbscripts/munst/munst35/DBInet.cgi', 'Республика Крым'), ('https://gks.ru/dbscripts/munst/munst03/DBInet.cgi', 'Краснодарский край'), ('https://gks.ru/dbscripts/munst/munst12/DBInet.cgi', 'Астраханская область'), ('https://gks.ru/dbscripts/munst/munst18/DBInet.cgi', 'Волгоградская область'), ('https://gks.ru/dbscripts/munst/munst60/DBInet.cgi', 'Ростовская область'), ('https://gks.ru/dbscripts/munst/munst67/DBInet.cgi', 'г. Севастополь'), ('https://gks.ru/dbscripts/munst/munst82/DBInet.cgi', 'Республика Дагестан'), ('https://gks.ru/dbscripts/munst/munst26/DBInet.cgi', 'Республика Ингушетия'), ('https://gks.ru/dbscripts/munst/munst83/DBInet.cgi', 'Кабардино-Балкарская Республика'), ('https://gks.ru/dbscripts/munst/munst91/DBInet.cgi', 'Карачаево-Черкесская Республика'), ('https://gks.ru/dbscripts/munst/munst90/DBInet.cgi', 'Республика Северная Осетия - Алания'), ('https://gks.ru/dbscripts/munst/munst96/DBInet.cgi', 'Чеченская Республика'), ('https://gks.ru/dbscripts/munst/munst07/DBInet.cgi', 'Ставропольский край'), ('https://gks.ru/dbscripts/munst/munst80/DBInet.cgi', 'Республика Башкортостан'), ('https://gks.ru/dbscripts/munst/munst88/DBInet.cgi', 'Республика Марий Эл'), ('https://gks.ru/dbscripts/munst/munst89/DBInet.cgi', 'Республика Мордовия'), ('https://gks.ru/dbscripts/munst/munst92/DBInet.cgi', 'Республика Татарстан'), ('https://gks.ru/dbscripts/munst/munst94/DBInet.cgi', 'Удмуртская Республика'), ('https://gks.ru/dbscripts/munst/munst97/DBInet.cgi', 'Чувашская Республика'), ('https://gks.ru/dbscripts/munst/munst57/DBInet.cgi', 'Пермский край'), ('https://gks.ru/dbscripts/munst/munst33/DBInet.cgi', 'Кировская область'), ('https://gks.ru/dbscripts/munst/munst22/DBInet.cgi', 'Нижегородская область'), ('https://gks.ru/dbscripts/munst/munst53/DBInet.cgi', 'Оренбургская область'), ('https://gks.ru/dbscripts/munst/munst56/DBInet.cgi', 'Пензенская область'), ('https://gks.ru/dbscripts/munst/munst36/DBInet.cgi', 'Самарская область'), ('https://gks.ru/dbscripts/munst/munst63/DBInet.cgi', 'Саратовская область'), ('https://gks.ru/dbscripts/munst/munst73/DBInet.cgi', 'Ульяновская область'), ('https://gks.ru/dbscripts/munst/munst37/DBInet.cgi', 'Курганская область'), ('https://gks.ru/dbscripts/munst/munst65/DBInet.cgi', 'Свердловская область'), ('https://gks.ru/dbscripts/munst/munst71/DBInet.cgi', 'Тюменская область'), ('https://gks.ru/dbscripts/munst/munst75/DBInet.cgi', 'Челябинская область'), ('https://gks.ru/dbscripts/munst/munst84/DBInet.cgi', 'Республика Алтай'), ('https://gks.ru/dbscripts/munst/munst93/DBInet.cgi', 'Республика Тыва'), ('https://gks.ru/dbscripts/munst/munst95/DBInet.cgi', 'Республика Хакасия'), ('https://gks.ru/dbscripts/munst/munst01/DBInet.cgi', 'Алтайский край'), ('https://gks.ru/dbscripts/munst/munst04/DBInet.cgi', 'Красноярский край'), ('https://gks.ru/dbscripts/munst/munst25/DBInet.cgi', 'Иркутская область'), ('https://gks.ru/dbscripts/munst/munst32/DBInet.cgi', 'Кемеровская область'), ('https://gks.ru/dbscripts/munst/munst50/DBInet.cgi', 'Новосибирская область'), ('https://gks.ru/dbscripts/munst/munst52/DBInet.cgi', 'Омская область'), ('https://gks.ru/dbscripts/munst/munst69/DBInet.cgi', 'Томская область'), ('https://gks.ru/dbscripts/munst/munst81/DBInet.cgi', 'Республика Бурятия'), ('https://gks.ru/dbscripts/munst/munst98/DBInet.cgi', 'Республика Саха (Якутия)'), ('https://gks.ru/dbscripts/munst/munst76/DBInet.cgi', 'Забайкальский край'), ('https://gks.ru/dbscripts/munst/munst30/DBInet.cgi', 'Камчатский край'), ('https://gks.ru/dbscripts/munst/munst05/DBInet.cgi', 'Приморский край'), ('https://gks.ru/dbscripts/munst/munst08/DBInet.cgi', 'Хабаровский край'), ('https://gks.ru/dbscripts/munst/munst10/DBInet.cgi', 'Амурская область'), ('https://gks.ru/dbscripts/munst/munst44/DBInet.cgi', 'Магаданская область'), ('https://gks.ru/dbscripts/munst/munst64/DBInet.cgi', 'Сахалинская область'), ('https://gks.ru/dbscripts/munst/munst99/DBInet.cgi', 'Еврейская автономная область'), ('https://gks.ru/dbscripts/munst/munst77/DBInet.cgi', 'Чукотский автономный округ')]\n"
     ]
    }
   ],
   "source": [
    "print(links)"
   ]
  },
  {
   "cell_type": "code",
   "execution_count": 9,
   "metadata": {},
   "outputs": [
    {
     "name": "stderr",
     "output_type": "stream",
     "text": [
      "  0%|          | 0/82 [00:00<?, ?it/s]"
     ]
    },
    {
     "name": "stdout",
     "output_type": "stream",
     "text": [
      "0\n"
     ]
    },
    {
     "name": "stderr",
     "output_type": "stream",
     "text": [
      "  1%|          | 1/82 [00:10<13:35, 10.07s/it]"
     ]
    },
    {
     "name": "stdout",
     "output_type": "stream",
     "text": [
      "1\n"
     ]
    },
    {
     "name": "stderr",
     "output_type": "stream",
     "text": [
      "  2%|▏         | 2/82 [00:18<12:04,  9.06s/it]"
     ]
    },
    {
     "name": "stdout",
     "output_type": "stream",
     "text": [
      "2\n"
     ]
    },
    {
     "name": "stderr",
     "output_type": "stream",
     "text": [
      "  4%|▎         | 3/82 [00:26<11:07,  8.45s/it]"
     ]
    },
    {
     "name": "stdout",
     "output_type": "stream",
     "text": [
      "3\n"
     ]
    },
    {
     "name": "stderr",
     "output_type": "stream",
     "text": [
      "  5%|▍         | 4/82 [00:35<11:22,  8.74s/it]"
     ]
    },
    {
     "name": "stdout",
     "output_type": "stream",
     "text": [
      "Message: no such element: Unable to locate element: {\"method\":\"xpath\",\"selector\":\"//select//option[contains(text(), 'Муниципальные районы')]\"}\n",
      "  (Session info: chrome=132.0.6834.159); For documentation on this error, please visit: https://www.selenium.dev/documentation/webdriver/troubleshooting/errors#no-such-element-exception\n",
      "Stacktrace:\n",
      "#0 0x58b11d1af53a <unknown>\n",
      "#1 0x58b11ccaaf00 <unknown>\n",
      "#2 0x58b11ccfac0c <unknown>\n",
      "#3 0x58b11ccfae31 <unknown>\n",
      "#4 0x58b11cd40bd4 <unknown>\n",
      "#5 0x58b11cd1f5cd <unknown>\n",
      "#6 0x58b11cd3df84 <unknown>\n",
      "#7 0x58b11cd1f343 <unknown>\n",
      "#8 0x58b11ccec78a <unknown>\n",
      "#9 0x58b11cced9de <unknown>\n",
      "#10 0x58b11d1792cb <unknown>\n",
      "#11 0x58b11d17d242 <unknown>\n",
      "#12 0x58b11d1667ac <unknown>\n",
      "#13 0x58b11d17ddf7 <unknown>\n",
      "#14 0x58b11d14ab2f <unknown>\n",
      "#15 0x58b11d19e1a8 <unknown>\n",
      "#16 0x58b11d19e370 <unknown>\n",
      "#17 0x58b11d1ae3b6 <unknown>\n",
      "#18 0x7e49ef69caa4 <unknown>\n",
      "#19 0x7e49ef729c3c <unknown>\n",
      "\n",
      "Воронежская область\n",
      "4\n"
     ]
    },
    {
     "name": "stderr",
     "output_type": "stream",
     "text": [
      "  6%|▌         | 5/82 [00:44<11:23,  8.88s/it]"
     ]
    },
    {
     "name": "stdout",
     "output_type": "stream",
     "text": [
      "5\n"
     ]
    },
    {
     "name": "stderr",
     "output_type": "stream",
     "text": [
      "  7%|▋         | 6/82 [00:53<11:19,  8.94s/it]"
     ]
    },
    {
     "name": "stdout",
     "output_type": "stream",
     "text": [
      "6\n"
     ]
    },
    {
     "name": "stderr",
     "output_type": "stream",
     "text": [
      "  9%|▊         | 7/82 [01:04<11:56,  9.55s/it]"
     ]
    },
    {
     "name": "stdout",
     "output_type": "stream",
     "text": [
      "7\n"
     ]
    },
    {
     "name": "stderr",
     "output_type": "stream",
     "text": [
      " 10%|▉         | 8/82 [01:15<12:29, 10.13s/it]"
     ]
    },
    {
     "name": "stdout",
     "output_type": "stream",
     "text": [
      "8\n"
     ]
    },
    {
     "name": "stderr",
     "output_type": "stream",
     "text": [
      " 11%|█         | 9/82 [01:26<12:38, 10.39s/it]"
     ]
    },
    {
     "name": "stdout",
     "output_type": "stream",
     "text": [
      "9\n"
     ]
    },
    {
     "name": "stderr",
     "output_type": "stream",
     "text": [
      " 12%|█▏        | 10/82 [03:32<55:10, 45.98s/it]"
     ]
    },
    {
     "name": "stdout",
     "output_type": "stream",
     "text": [
      "10\n"
     ]
    },
    {
     "name": "stderr",
     "output_type": "stream",
     "text": [
      " 13%|█▎        | 11/82 [03:42<41:18, 34.91s/it]"
     ]
    },
    {
     "name": "stdout",
     "output_type": "stream",
     "text": [
      "11\n"
     ]
    },
    {
     "name": "stderr",
     "output_type": "stream",
     "text": [
      " 15%|█▍        | 12/82 [03:51<31:28, 26.98s/it]"
     ]
    },
    {
     "name": "stdout",
     "output_type": "stream",
     "text": [
      "12\n"
     ]
    },
    {
     "name": "stderr",
     "output_type": "stream",
     "text": [
      " 16%|█▌        | 13/82 [03:59<24:24, 21.23s/it]"
     ]
    },
    {
     "name": "stdout",
     "output_type": "stream",
     "text": [
      "13\n"
     ]
    },
    {
     "name": "stderr",
     "output_type": "stream",
     "text": [
      " 17%|█▋        | 14/82 [04:07<19:52, 17.54s/it]"
     ]
    },
    {
     "name": "stdout",
     "output_type": "stream",
     "text": [
      "14\n"
     ]
    },
    {
     "name": "stderr",
     "output_type": "stream",
     "text": [
      " 18%|█▊        | 15/82 [04:16<16:25, 14.70s/it]"
     ]
    },
    {
     "name": "stdout",
     "output_type": "stream",
     "text": [
      "15\n"
     ]
    },
    {
     "name": "stderr",
     "output_type": "stream",
     "text": [
      " 20%|█▉        | 16/82 [04:24<13:57, 12.68s/it]"
     ]
    },
    {
     "name": "stdout",
     "output_type": "stream",
     "text": [
      "16\n"
     ]
    },
    {
     "name": "stderr",
     "output_type": "stream",
     "text": [
      " 21%|██        | 17/82 [04:33<12:32, 11.58s/it]"
     ]
    },
    {
     "name": "stdout",
     "output_type": "stream",
     "text": [
      "17\n"
     ]
    },
    {
     "name": "stderr",
     "output_type": "stream",
     "text": [
      " 22%|██▏       | 18/82 [04:41<11:10, 10.48s/it]"
     ]
    },
    {
     "name": "stdout",
     "output_type": "stream",
     "text": [
      "18\n"
     ]
    },
    {
     "name": "stderr",
     "output_type": "stream",
     "text": [
      " 23%|██▎       | 19/82 [04:50<10:31, 10.03s/it]"
     ]
    },
    {
     "name": "stdout",
     "output_type": "stream",
     "text": [
      "19\n"
     ]
    },
    {
     "name": "stderr",
     "output_type": "stream",
     "text": [
      " 24%|██▍       | 20/82 [05:00<10:29, 10.15s/it]"
     ]
    },
    {
     "name": "stdout",
     "output_type": "stream",
     "text": [
      "20\n"
     ]
    },
    {
     "name": "stderr",
     "output_type": "stream",
     "text": [
      " 26%|██▌       | 21/82 [05:10<10:08,  9.98s/it]"
     ]
    },
    {
     "name": "stdout",
     "output_type": "stream",
     "text": [
      "21\n"
     ]
    },
    {
     "name": "stderr",
     "output_type": "stream",
     "text": [
      " 27%|██▋       | 22/82 [05:19<09:47,  9.79s/it]"
     ]
    },
    {
     "name": "stdout",
     "output_type": "stream",
     "text": [
      "22\n"
     ]
    },
    {
     "name": "stderr",
     "output_type": "stream",
     "text": [
      " 28%|██▊       | 23/82 [05:28<09:18,  9.47s/it]"
     ]
    },
    {
     "name": "stdout",
     "output_type": "stream",
     "text": [
      "23\n"
     ]
    },
    {
     "name": "stderr",
     "output_type": "stream",
     "text": [
      " 29%|██▉       | 24/82 [05:45<11:20, 11.73s/it]"
     ]
    },
    {
     "name": "stdout",
     "output_type": "stream",
     "text": [
      "24\n"
     ]
    },
    {
     "name": "stderr",
     "output_type": "stream",
     "text": [
      " 30%|███       | 25/82 [05:53<10:18, 10.86s/it]"
     ]
    },
    {
     "name": "stdout",
     "output_type": "stream",
     "text": [
      "25\n"
     ]
    },
    {
     "name": "stderr",
     "output_type": "stream",
     "text": [
      " 32%|███▏      | 26/82 [06:02<09:36, 10.30s/it]"
     ]
    },
    {
     "name": "stdout",
     "output_type": "stream",
     "text": [
      "26\n"
     ]
    },
    {
     "name": "stderr",
     "output_type": "stream",
     "text": [
      " 33%|███▎      | 27/82 [07:56<37:54, 41.35s/it]"
     ]
    },
    {
     "name": "stdout",
     "output_type": "stream",
     "text": [
      "27\n"
     ]
    },
    {
     "name": "stderr",
     "output_type": "stream",
     "text": [
      " 34%|███▍      | 28/82 [08:03<27:50, 30.94s/it]"
     ]
    },
    {
     "name": "stdout",
     "output_type": "stream",
     "text": [
      "Message: no such element: Unable to locate element: {\"method\":\"css selector\",\"selector\":\"[name=\"munr_chk\"]\"}\n",
      "  (Session info: chrome=132.0.6834.159); For documentation on this error, please visit: https://www.selenium.dev/documentation/webdriver/troubleshooting/errors#no-such-element-exception\n",
      "Stacktrace:\n",
      "#0 0x58b11d1af53a <unknown>\n",
      "#1 0x58b11ccaaf00 <unknown>\n",
      "#2 0x58b11ccfac0c <unknown>\n",
      "#3 0x58b11ccfae31 <unknown>\n",
      "#4 0x58b11cd40bd4 <unknown>\n",
      "#5 0x58b11cd1f5cd <unknown>\n",
      "#6 0x58b11cd3df84 <unknown>\n",
      "#7 0x58b11cd1f343 <unknown>\n",
      "#8 0x58b11ccec78a <unknown>\n",
      "#9 0x58b11cced9de <unknown>\n",
      "#10 0x58b11d1792cb <unknown>\n",
      "#11 0x58b11d17d242 <unknown>\n",
      "#12 0x58b11d1667ac <unknown>\n",
      "#13 0x58b11d17ddf7 <unknown>\n",
      "#14 0x58b11d14ab2f <unknown>\n",
      "#15 0x58b11d19e1a8 <unknown>\n",
      "#16 0x58b11d19e370 <unknown>\n",
      "#17 0x58b11d1ae3b6 <unknown>\n",
      "#18 0x7e49ef69caa4 <unknown>\n",
      "#19 0x7e49ef729c3c <unknown>\n",
      "\n",
      "г.Санкт-Петербург\n",
      "28\n"
     ]
    },
    {
     "name": "stderr",
     "output_type": "stream",
     "text": [
      " 35%|███▌      | 29/82 [08:11<21:17, 24.11s/it]"
     ]
    },
    {
     "name": "stdout",
     "output_type": "stream",
     "text": [
      "29\n"
     ]
    },
    {
     "name": "stderr",
     "output_type": "stream",
     "text": [
      " 37%|███▋      | 30/82 [08:22<17:24, 20.08s/it]"
     ]
    },
    {
     "name": "stdout",
     "output_type": "stream",
     "text": [
      "30\n"
     ]
    },
    {
     "name": "stderr",
     "output_type": "stream",
     "text": [
      " 38%|███▊      | 31/82 [08:37<15:46, 18.57s/it]"
     ]
    },
    {
     "name": "stdout",
     "output_type": "stream",
     "text": [
      "31\n"
     ]
    },
    {
     "name": "stderr",
     "output_type": "stream",
     "text": [
      " 39%|███▉      | 32/82 [08:46<13:15, 15.91s/it]"
     ]
    },
    {
     "name": "stdout",
     "output_type": "stream",
     "text": [
      "32\n"
     ]
    },
    {
     "name": "stderr",
     "output_type": "stream",
     "text": [
      " 40%|████      | 33/82 [08:58<11:52, 14.55s/it]"
     ]
    },
    {
     "name": "stdout",
     "output_type": "stream",
     "text": [
      "33\n"
     ]
    },
    {
     "name": "stderr",
     "output_type": "stream",
     "text": [
      " 41%|████▏     | 34/82 [09:08<10:32, 13.18s/it]"
     ]
    },
    {
     "name": "stdout",
     "output_type": "stream",
     "text": [
      "34\n"
     ]
    },
    {
     "name": "stderr",
     "output_type": "stream",
     "text": [
      " 43%|████▎     | 35/82 [09:20<10:04, 12.85s/it]"
     ]
    },
    {
     "name": "stdout",
     "output_type": "stream",
     "text": [
      "35\n"
     ]
    },
    {
     "name": "stderr",
     "output_type": "stream",
     "text": [
      " 44%|████▍     | 36/82 [09:33<09:56, 12.98s/it]"
     ]
    },
    {
     "name": "stdout",
     "output_type": "stream",
     "text": [
      "Message: no such element: Unable to locate element: {\"method\":\"xpath\",\"selector\":\"//select//option[contains(text(), 'Муниципальные районы')]\"}\n",
      "  (Session info: chrome=132.0.6834.159); For documentation on this error, please visit: https://www.selenium.dev/documentation/webdriver/troubleshooting/errors#no-such-element-exception\n",
      "Stacktrace:\n",
      "#0 0x58b11d1af53a <unknown>\n",
      "#1 0x58b11ccaaf00 <unknown>\n",
      "#2 0x58b11ccfac0c <unknown>\n",
      "#3 0x58b11ccfae31 <unknown>\n",
      "#4 0x58b11cd40bd4 <unknown>\n",
      "#5 0x58b11cd1f5cd <unknown>\n",
      "#6 0x58b11cd3df84 <unknown>\n",
      "#7 0x58b11cd1f343 <unknown>\n",
      "#8 0x58b11ccec78a <unknown>\n",
      "#9 0x58b11cced9de <unknown>\n",
      "#10 0x58b11d1792cb <unknown>\n",
      "#11 0x58b11d17d242 <unknown>\n",
      "#12 0x58b11d1667ac <unknown>\n",
      "#13 0x58b11d17ddf7 <unknown>\n",
      "#14 0x58b11d14ab2f <unknown>\n",
      "#15 0x58b11d19e1a8 <unknown>\n",
      "#16 0x58b11d19e370 <unknown>\n",
      "#17 0x58b11d1ae3b6 <unknown>\n",
      "#18 0x7e49ef69caa4 <unknown>\n",
      "#19 0x7e49ef729c3c <unknown>\n",
      "\n",
      "г. Севастополь\n",
      "36\n"
     ]
    },
    {
     "name": "stderr",
     "output_type": "stream",
     "text": [
      " 45%|████▌     | 37/82 [09:38<07:49, 10.43s/it]"
     ]
    },
    {
     "name": "stdout",
     "output_type": "stream",
     "text": [
      "Message: no such element: Unable to locate element: {\"method\":\"link text\",\"selector\":\"Коммунальная сфера\"}\n",
      "  (Session info: chrome=132.0.6834.159); For documentation on this error, please visit: https://www.selenium.dev/documentation/webdriver/troubleshooting/errors#no-such-element-exception\n",
      "Stacktrace:\n",
      "#0 0x58b11d1af53a <unknown>\n",
      "#1 0x58b11ccaaf00 <unknown>\n",
      "#2 0x58b11ccfac0c <unknown>\n",
      "#3 0x58b11ccfae31 <unknown>\n",
      "#4 0x58b11cd40bd4 <unknown>\n",
      "#5 0x58b11cd1f5cd <unknown>\n",
      "#6 0x58b11cd3df84 <unknown>\n",
      "#7 0x58b11cd1f343 <unknown>\n",
      "#8 0x58b11ccec78a <unknown>\n",
      "#9 0x58b11cced9de <unknown>\n",
      "#10 0x58b11d1792cb <unknown>\n",
      "#11 0x58b11d17d242 <unknown>\n",
      "#12 0x58b11d1667ac <unknown>\n",
      "#13 0x58b11d17ddf7 <unknown>\n",
      "#14 0x58b11d14ab2f <unknown>\n",
      "#15 0x58b11d19e1a8 <unknown>\n",
      "#16 0x58b11d19e370 <unknown>\n",
      "#17 0x58b11d1ae3b6 <unknown>\n",
      "#18 0x7e49ef69caa4 <unknown>\n",
      "#19 0x7e49ef729c3c <unknown>\n",
      "\n",
      "Республика Дагестан\n",
      "37\n"
     ]
    },
    {
     "name": "stderr",
     "output_type": "stream",
     "text": [
      " 46%|████▋     | 38/82 [09:41<06:04,  8.28s/it]"
     ]
    },
    {
     "name": "stdout",
     "output_type": "stream",
     "text": [
      "Message: no such element: Unable to locate element: {\"method\":\"link text\",\"selector\":\"Коммунальная сфера\"}\n",
      "  (Session info: chrome=132.0.6834.159); For documentation on this error, please visit: https://www.selenium.dev/documentation/webdriver/troubleshooting/errors#no-such-element-exception\n",
      "Stacktrace:\n",
      "#0 0x58b11d1af53a <unknown>\n",
      "#1 0x58b11ccaaf00 <unknown>\n",
      "#2 0x58b11ccfac0c <unknown>\n",
      "#3 0x58b11ccfae31 <unknown>\n",
      "#4 0x58b11cd40bd4 <unknown>\n",
      "#5 0x58b11cd1f5cd <unknown>\n",
      "#6 0x58b11cd3df84 <unknown>\n",
      "#7 0x58b11cd1f343 <unknown>\n",
      "#8 0x58b11ccec78a <unknown>\n",
      "#9 0x58b11cced9de <unknown>\n",
      "#10 0x58b11d1792cb <unknown>\n",
      "#11 0x58b11d17d242 <unknown>\n",
      "#12 0x58b11d1667ac <unknown>\n",
      "#13 0x58b11d17ddf7 <unknown>\n",
      "#14 0x58b11d14ab2f <unknown>\n",
      "#15 0x58b11d19e1a8 <unknown>\n",
      "#16 0x58b11d19e370 <unknown>\n",
      "#17 0x58b11d1ae3b6 <unknown>\n",
      "#18 0x7e49ef69caa4 <unknown>\n",
      "#19 0x7e49ef729c3c <unknown>\n",
      "\n",
      "Республика Ингушетия\n",
      "38\n"
     ]
    },
    {
     "name": "stderr",
     "output_type": "stream",
     "text": [
      " 48%|████▊     | 39/82 [09:49<05:47,  8.07s/it]"
     ]
    },
    {
     "name": "stdout",
     "output_type": "stream",
     "text": [
      "39\n"
     ]
    },
    {
     "name": "stderr",
     "output_type": "stream",
     "text": [
      " 49%|████▉     | 40/82 [11:26<24:21, 34.80s/it]"
     ]
    },
    {
     "name": "stdout",
     "output_type": "stream",
     "text": [
      "40\n"
     ]
    },
    {
     "name": "stderr",
     "output_type": "stream",
     "text": [
      " 50%|█████     | 41/82 [11:38<19:12, 28.10s/it]"
     ]
    },
    {
     "name": "stdout",
     "output_type": "stream",
     "text": [
      "41\n"
     ]
    },
    {
     "name": "stderr",
     "output_type": "stream",
     "text": [
      " 51%|█████     | 42/82 [11:48<15:05, 22.63s/it]"
     ]
    },
    {
     "name": "stdout",
     "output_type": "stream",
     "text": [
      "42\n"
     ]
    },
    {
     "name": "stderr",
     "output_type": "stream",
     "text": [
      " 52%|█████▏    | 43/82 [11:59<12:20, 19.00s/it]"
     ]
    },
    {
     "name": "stdout",
     "output_type": "stream",
     "text": [
      "43\n"
     ]
    },
    {
     "name": "stderr",
     "output_type": "stream",
     "text": [
      " 54%|█████▎    | 44/82 [12:08<10:11, 16.08s/it]"
     ]
    },
    {
     "name": "stdout",
     "output_type": "stream",
     "text": [
      "44\n"
     ]
    },
    {
     "name": "stderr",
     "output_type": "stream",
     "text": [
      " 55%|█████▍    | 45/82 [12:18<08:47, 14.25s/it]"
     ]
    },
    {
     "name": "stdout",
     "output_type": "stream",
     "text": [
      "45\n"
     ]
    },
    {
     "name": "stderr",
     "output_type": "stream",
     "text": [
      " 56%|█████▌    | 46/82 [12:29<07:58, 13.30s/it]"
     ]
    },
    {
     "name": "stdout",
     "output_type": "stream",
     "text": [
      "46\n"
     ]
    },
    {
     "name": "stderr",
     "output_type": "stream",
     "text": [
      " 57%|█████▋    | 47/82 [12:44<08:06, 13.89s/it]"
     ]
    },
    {
     "name": "stdout",
     "output_type": "stream",
     "text": [
      "47\n"
     ]
    },
    {
     "name": "stderr",
     "output_type": "stream",
     "text": [
      " 59%|█████▊    | 48/82 [12:55<07:22, 13.02s/it]"
     ]
    },
    {
     "name": "stdout",
     "output_type": "stream",
     "text": [
      "48\n"
     ]
    },
    {
     "name": "stderr",
     "output_type": "stream",
     "text": [
      " 60%|█████▉    | 49/82 [13:05<06:37, 12.03s/it]"
     ]
    },
    {
     "name": "stdout",
     "output_type": "stream",
     "text": [
      "49\n"
     ]
    },
    {
     "name": "stderr",
     "output_type": "stream",
     "text": [
      " 61%|██████    | 50/82 [13:17<06:28, 12.14s/it]"
     ]
    },
    {
     "name": "stdout",
     "output_type": "stream",
     "text": [
      "50\n"
     ]
    },
    {
     "name": "stderr",
     "output_type": "stream",
     "text": [
      " 62%|██████▏   | 51/82 [13:28<06:02, 11.70s/it]"
     ]
    },
    {
     "name": "stdout",
     "output_type": "stream",
     "text": [
      "51\n"
     ]
    },
    {
     "name": "stderr",
     "output_type": "stream",
     "text": [
      " 63%|██████▎   | 52/82 [13:42<06:10, 12.36s/it]"
     ]
    },
    {
     "name": "stdout",
     "output_type": "stream",
     "text": [
      "52\n"
     ]
    },
    {
     "name": "stderr",
     "output_type": "stream",
     "text": [
      " 65%|██████▍   | 53/82 [13:45<04:38,  9.61s/it]"
     ]
    },
    {
     "name": "stdout",
     "output_type": "stream",
     "text": [
      "Message: no such element: Unable to locate element: {\"method\":\"link text\",\"selector\":\"Коммунальная сфера\"}\n",
      "  (Session info: chrome=132.0.6834.159); For documentation on this error, please visit: https://www.selenium.dev/documentation/webdriver/troubleshooting/errors#no-such-element-exception\n",
      "Stacktrace:\n",
      "#0 0x58b11d1af53a <unknown>\n",
      "#1 0x58b11ccaaf00 <unknown>\n",
      "#2 0x58b11ccfac0c <unknown>\n",
      "#3 0x58b11ccfae31 <unknown>\n",
      "#4 0x58b11cd40bd4 <unknown>\n",
      "#5 0x58b11cd1f5cd <unknown>\n",
      "#6 0x58b11cd3df84 <unknown>\n",
      "#7 0x58b11cd1f343 <unknown>\n",
      "#8 0x58b11ccec78a <unknown>\n",
      "#9 0x58b11cced9de <unknown>\n",
      "#10 0x58b11d1792cb <unknown>\n",
      "#11 0x58b11d17d242 <unknown>\n",
      "#12 0x58b11d1667ac <unknown>\n",
      "#13 0x58b11d17ddf7 <unknown>\n",
      "#14 0x58b11d14ab2f <unknown>\n",
      "#15 0x58b11d19e1a8 <unknown>\n",
      "#16 0x58b11d19e370 <unknown>\n",
      "#17 0x58b11d1ae3b6 <unknown>\n",
      "#18 0x7e49ef69caa4 <unknown>\n",
      "#19 0x7e49ef729c3c <unknown>\n",
      "\n",
      "Оренбургская область\n",
      "53\n"
     ]
    },
    {
     "name": "stderr",
     "output_type": "stream",
     "text": [
      " 66%|██████▌   | 54/82 [13:53<04:15,  9.13s/it]"
     ]
    },
    {
     "name": "stdout",
     "output_type": "stream",
     "text": [
      "54\n"
     ]
    },
    {
     "name": "stderr",
     "output_type": "stream",
     "text": [
      " 67%|██████▋   | 55/82 [14:05<04:29,  9.98s/it]"
     ]
    },
    {
     "name": "stdout",
     "output_type": "stream",
     "text": [
      "55\n"
     ]
    },
    {
     "name": "stderr",
     "output_type": "stream",
     "text": [
      " 68%|██████▊   | 56/82 [14:16<04:29, 10.35s/it]"
     ]
    },
    {
     "name": "stdout",
     "output_type": "stream",
     "text": [
      "56\n"
     ]
    },
    {
     "name": "stderr",
     "output_type": "stream",
     "text": [
      " 70%|██████▉   | 57/82 [14:25<04:06,  9.87s/it]"
     ]
    },
    {
     "name": "stdout",
     "output_type": "stream",
     "text": [
      "57\n"
     ]
    },
    {
     "name": "stderr",
     "output_type": "stream",
     "text": [
      " 71%|███████   | 58/82 [14:35<03:59,  9.97s/it]"
     ]
    },
    {
     "name": "stdout",
     "output_type": "stream",
     "text": [
      "58\n"
     ]
    },
    {
     "name": "stderr",
     "output_type": "stream",
     "text": [
      " 72%|███████▏  | 59/82 [14:44<03:44,  9.76s/it]"
     ]
    },
    {
     "name": "stdout",
     "output_type": "stream",
     "text": [
      "59\n"
     ]
    },
    {
     "name": "stderr",
     "output_type": "stream",
     "text": [
      " 73%|███████▎  | 60/82 [15:01<04:19, 11.81s/it]"
     ]
    },
    {
     "name": "stdout",
     "output_type": "stream",
     "text": [
      "60\n"
     ]
    },
    {
     "name": "stderr",
     "output_type": "stream",
     "text": [
      " 74%|███████▍  | 61/82 [15:11<03:55, 11.20s/it]"
     ]
    },
    {
     "name": "stdout",
     "output_type": "stream",
     "text": [
      "61\n"
     ]
    },
    {
     "name": "stderr",
     "output_type": "stream",
     "text": [
      " 76%|███████▌  | 62/82 [15:19<03:23, 10.19s/it]"
     ]
    },
    {
     "name": "stdout",
     "output_type": "stream",
     "text": [
      "62\n"
     ]
    },
    {
     "name": "stderr",
     "output_type": "stream",
     "text": [
      " 77%|███████▋  | 63/82 [15:30<03:19, 10.49s/it]"
     ]
    },
    {
     "name": "stdout",
     "output_type": "stream",
     "text": [
      "63\n"
     ]
    },
    {
     "name": "stderr",
     "output_type": "stream",
     "text": [
      " 78%|███████▊  | 64/82 [15:38<02:57,  9.88s/it]"
     ]
    },
    {
     "name": "stdout",
     "output_type": "stream",
     "text": [
      "64\n"
     ]
    },
    {
     "name": "stderr",
     "output_type": "stream",
     "text": [
      " 79%|███████▉  | 65/82 [15:54<03:16, 11.59s/it]"
     ]
    },
    {
     "name": "stdout",
     "output_type": "stream",
     "text": [
      "65\n"
     ]
    },
    {
     "name": "stderr",
     "output_type": "stream",
     "text": [
      " 80%|████████  | 66/82 [16:07<03:11, 11.97s/it]"
     ]
    },
    {
     "name": "stdout",
     "output_type": "stream",
     "text": [
      "66\n"
     ]
    },
    {
     "name": "stderr",
     "output_type": "stream",
     "text": [
      " 82%|████████▏ | 67/82 [16:16<02:48, 11.26s/it]"
     ]
    },
    {
     "name": "stdout",
     "output_type": "stream",
     "text": [
      "67\n"
     ]
    },
    {
     "name": "stderr",
     "output_type": "stream",
     "text": [
      " 83%|████████▎ | 68/82 [16:33<02:58, 12.74s/it]"
     ]
    },
    {
     "name": "stdout",
     "output_type": "stream",
     "text": [
      "68\n"
     ]
    },
    {
     "name": "stderr",
     "output_type": "stream",
     "text": [
      " 84%|████████▍ | 69/82 [16:58<03:36, 16.67s/it]"
     ]
    },
    {
     "name": "stdout",
     "output_type": "stream",
     "text": [
      "69\n"
     ]
    },
    {
     "name": "stderr",
     "output_type": "stream",
     "text": [
      " 85%|████████▌ | 70/82 [18:49<08:59, 44.94s/it]"
     ]
    },
    {
     "name": "stdout",
     "output_type": "stream",
     "text": [
      "70\n"
     ]
    },
    {
     "name": "stderr",
     "output_type": "stream",
     "text": [
      " 87%|████████▋ | 71/82 [18:57<06:11, 33.81s/it]"
     ]
    },
    {
     "name": "stdout",
     "output_type": "stream",
     "text": [
      "71\n"
     ]
    },
    {
     "name": "stderr",
     "output_type": "stream",
     "text": [
      " 88%|████████▊ | 72/82 [19:05<04:20, 26.08s/it]"
     ]
    },
    {
     "name": "stdout",
     "output_type": "stream",
     "text": [
      "72\n"
     ]
    },
    {
     "name": "stderr",
     "output_type": "stream",
     "text": [
      " 89%|████████▉ | 73/82 [19:14<03:08, 20.99s/it]"
     ]
    },
    {
     "name": "stdout",
     "output_type": "stream",
     "text": [
      "73\n"
     ]
    },
    {
     "name": "stderr",
     "output_type": "stream",
     "text": [
      " 90%|█████████ | 74/82 [19:23<02:18, 17.34s/it]"
     ]
    },
    {
     "name": "stdout",
     "output_type": "stream",
     "text": [
      "74\n"
     ]
    },
    {
     "name": "stderr",
     "output_type": "stream",
     "text": [
      " 91%|█████████▏| 75/82 [19:33<01:46, 15.15s/it]"
     ]
    },
    {
     "name": "stdout",
     "output_type": "stream",
     "text": [
      "75\n"
     ]
    },
    {
     "name": "stderr",
     "output_type": "stream",
     "text": [
      " 93%|█████████▎| 76/82 [19:45<01:24, 14.02s/it]"
     ]
    },
    {
     "name": "stdout",
     "output_type": "stream",
     "text": [
      "76\n"
     ]
    },
    {
     "name": "stderr",
     "output_type": "stream",
     "text": [
      " 94%|█████████▍| 77/82 [19:55<01:04, 12.97s/it]"
     ]
    },
    {
     "name": "stdout",
     "output_type": "stream",
     "text": [
      "77\n"
     ]
    },
    {
     "name": "stderr",
     "output_type": "stream",
     "text": [
      " 95%|█████████▌| 78/82 [21:53<02:58, 44.57s/it]"
     ]
    },
    {
     "name": "stdout",
     "output_type": "stream",
     "text": [
      "78\n"
     ]
    },
    {
     "name": "stderr",
     "output_type": "stream",
     "text": [
      " 96%|█████████▋| 79/82 [22:03<01:42, 34.22s/it]"
     ]
    },
    {
     "name": "stdout",
     "output_type": "stream",
     "text": [
      "79\n"
     ]
    },
    {
     "name": "stderr",
     "output_type": "stream",
     "text": [
      " 98%|█████████▊| 80/82 [22:11<00:52, 26.37s/it]"
     ]
    },
    {
     "name": "stdout",
     "output_type": "stream",
     "text": [
      "80\n"
     ]
    },
    {
     "name": "stderr",
     "output_type": "stream",
     "text": [
      " 99%|█████████▉| 81/82 [24:42<01:03, 63.49s/it]"
     ]
    },
    {
     "name": "stdout",
     "output_type": "stream",
     "text": [
      "81\n"
     ]
    },
    {
     "name": "stderr",
     "output_type": "stream",
     "text": [
      "100%|██████████| 82/82 [24:54<00:00, 18.22s/it]\n"
     ]
    }
   ],
   "source": [
    "from tqdm import tqdm\n",
    "cnt = 0\n",
    "for i in tqdm(links):\n",
    "    print(cnt)\n",
    "    get_table_one_mun(i, cnt)\n",
    "    cnt += 1"
   ]
  },
  {
   "cell_type": "code",
   "execution_count": 26,
   "metadata": {},
   "outputs": [],
   "source": [
    "get_table_one_mun(links[38], cnt)\n",
    "\n",
    "# for i in links:\n",
    "    # print(i[1])\n"
   ]
  },
  {
   "cell_type": "markdown",
   "metadata": {},
   "source": [
    "Воронежская область\n",
    "Республика Карелия\n",
    "г.Санкт-Петербург - нет данных\n",
    "Республика Ингушетия\n",
    "Оренбургская область - нет данных\n",
    "Республика Дагестан\n",
    "г. Севастополь\n",
    "Краснодарский край"
   ]
  },
  {
   "cell_type": "code",
   "execution_count": 6,
   "metadata": {},
   "outputs": [],
   "source": [
    "# search_elem = driver.find_element(By.NAME, 'p8008020') # name элемента, вроде у всех одинаковый"
   ]
  },
  {
   "cell_type": "markdown",
   "metadata": {},
   "source": [
    "в Костроме критерия с аварийным жильем"
   ]
  },
  {
   "cell_type": "code",
   "execution_count": 7,
   "metadata": {},
   "outputs": [],
   "source": [
    "# window_handles = driver.window_handles\n",
    "#         # # Переключаемся на последнюю открытую вкладку (новую)\n",
    "# driver.switch_to.window(window_handles[-1])"
   ]
  }
 ],
 "metadata": {
  "kernelspec": {
   "display_name": ".venv",
   "language": "python",
   "name": "python3"
  },
  "language_info": {
   "codemirror_mode": {
    "name": "ipython",
    "version": 3
   },
   "file_extension": ".py",
   "mimetype": "text/x-python",
   "name": "python",
   "nbconvert_exporter": "python",
   "pygments_lexer": "ipython3",
   "version": "3.12.3"
  }
 },
 "nbformat": 4,
 "nbformat_minor": 2
}
