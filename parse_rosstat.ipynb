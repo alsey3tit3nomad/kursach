{
 "cells": [
  {
   "cell_type": "code",
   "execution_count": 3,
   "metadata": {},
   "outputs": [
    {
     "name": "stdout",
     "output_type": "stream",
     "text": [
      "5.3.0\n"
     ]
    }
   ],
   "source": [
    "import pandas as pd\n",
    "import selenium\n",
    "import requests\n",
    "from bs4 import BeautifulSoup\n",
    "import lxml\n",
    "from selenium.webdriver.common.by import By\n",
    "print(lxml.__version__)\n",
    "from selenium import webdriver\n",
    "from selenium.webdriver.chrome.service import Service\n",
    "from webdriver_manager.chrome import ChromeDriverManager\n",
    "import time\n",
    "service = Service(ChromeDriverManager().install())\n",
    "driver = webdriver.Chrome()\n"
   ]
  },
  {
   "cell_type": "code",
   "execution_count": 12,
   "metadata": {},
   "outputs": [
    {
     "name": "stdout",
     "output_type": "stream",
     "text": [
      "[<selenium.webdriver.remote.webelement.WebElement (session=\"16f413e36995df6cf470fc91e8e9c33c\", element=\"f.907D8424AE128CB8E985B0F106BD484B.d.EFE26F79EF63874493A0B4A7BFA1D8B1.e.9\")>, <selenium.webdriver.remote.webelement.WebElement (session=\"16f413e36995df6cf470fc91e8e9c33c\", element=\"f.907D8424AE128CB8E985B0F106BD484B.d.EFE26F79EF63874493A0B4A7BFA1D8B1.e.10\")>, <selenium.webdriver.remote.webelement.WebElement (session=\"16f413e36995df6cf470fc91e8e9c33c\", element=\"f.907D8424AE128CB8E985B0F106BD484B.d.EFE26F79EF63874493A0B4A7BFA1D8B1.e.11\")>, <selenium.webdriver.remote.webelement.WebElement (session=\"16f413e36995df6cf470fc91e8e9c33c\", element=\"f.907D8424AE128CB8E985B0F106BD484B.d.EFE26F79EF63874493A0B4A7BFA1D8B1.e.12\")>, <selenium.webdriver.remote.webelement.WebElement (session=\"16f413e36995df6cf470fc91e8e9c33c\", element=\"f.907D8424AE128CB8E985B0F106BD484B.d.EFE26F79EF63874493A0B4A7BFA1D8B1.e.13\")>, <selenium.webdriver.remote.webelement.WebElement (session=\"16f413e36995df6cf470fc91e8e9c33c\", element=\"f.907D8424AE128CB8E985B0F106BD484B.d.EFE26F79EF63874493A0B4A7BFA1D8B1.e.14\")>, <selenium.webdriver.remote.webelement.WebElement (session=\"16f413e36995df6cf470fc91e8e9c33c\", element=\"f.907D8424AE128CB8E985B0F106BD484B.d.EFE26F79EF63874493A0B4A7BFA1D8B1.e.15\")>, <selenium.webdriver.remote.webelement.WebElement (session=\"16f413e36995df6cf470fc91e8e9c33c\", element=\"f.907D8424AE128CB8E985B0F106BD484B.d.EFE26F79EF63874493A0B4A7BFA1D8B1.e.16\")>, <selenium.webdriver.remote.webelement.WebElement (session=\"16f413e36995df6cf470fc91e8e9c33c\", element=\"f.907D8424AE128CB8E985B0F106BD484B.d.EFE26F79EF63874493A0B4A7BFA1D8B1.e.17\")>, <selenium.webdriver.remote.webelement.WebElement (session=\"16f413e36995df6cf470fc91e8e9c33c\", element=\"f.907D8424AE128CB8E985B0F106BD484B.d.EFE26F79EF63874493A0B4A7BFA1D8B1.e.18\")>, <selenium.webdriver.remote.webelement.WebElement (session=\"16f413e36995df6cf470fc91e8e9c33c\", element=\"f.907D8424AE128CB8E985B0F106BD484B.d.EFE26F79EF63874493A0B4A7BFA1D8B1.e.19\")>, <selenium.webdriver.remote.webelement.WebElement (session=\"16f413e36995df6cf470fc91e8e9c33c\", element=\"f.907D8424AE128CB8E985B0F106BD484B.d.EFE26F79EF63874493A0B4A7BFA1D8B1.e.20\")>, <selenium.webdriver.remote.webelement.WebElement (session=\"16f413e36995df6cf470fc91e8e9c33c\", element=\"f.907D8424AE128CB8E985B0F106BD484B.d.EFE26F79EF63874493A0B4A7BFA1D8B1.e.21\")>, <selenium.webdriver.remote.webelement.WebElement (session=\"16f413e36995df6cf470fc91e8e9c33c\", element=\"f.907D8424AE128CB8E985B0F106BD484B.d.EFE26F79EF63874493A0B4A7BFA1D8B1.e.22\")>, <selenium.webdriver.remote.webelement.WebElement (session=\"16f413e36995df6cf470fc91e8e9c33c\", element=\"f.907D8424AE128CB8E985B0F106BD484B.d.EFE26F79EF63874493A0B4A7BFA1D8B1.e.23\")>, <selenium.webdriver.remote.webelement.WebElement (session=\"16f413e36995df6cf470fc91e8e9c33c\", element=\"f.907D8424AE128CB8E985B0F106BD484B.d.EFE26F79EF63874493A0B4A7BFA1D8B1.e.24\")>, <selenium.webdriver.remote.webelement.WebElement (session=\"16f413e36995df6cf470fc91e8e9c33c\", element=\"f.907D8424AE128CB8E985B0F106BD484B.d.EFE26F79EF63874493A0B4A7BFA1D8B1.e.25\")>, <selenium.webdriver.remote.webelement.WebElement (session=\"16f413e36995df6cf470fc91e8e9c33c\", element=\"f.907D8424AE128CB8E985B0F106BD484B.d.EFE26F79EF63874493A0B4A7BFA1D8B1.e.26\")>, <selenium.webdriver.remote.webelement.WebElement (session=\"16f413e36995df6cf470fc91e8e9c33c\", element=\"f.907D8424AE128CB8E985B0F106BD484B.d.EFE26F79EF63874493A0B4A7BFA1D8B1.e.27\")>, <selenium.webdriver.remote.webelement.WebElement (session=\"16f413e36995df6cf470fc91e8e9c33c\", element=\"f.907D8424AE128CB8E985B0F106BD484B.d.EFE26F79EF63874493A0B4A7BFA1D8B1.e.28\")>, <selenium.webdriver.remote.webelement.WebElement (session=\"16f413e36995df6cf470fc91e8e9c33c\", element=\"f.907D8424AE128CB8E985B0F106BD484B.d.EFE26F79EF63874493A0B4A7BFA1D8B1.e.29\")>, <selenium.webdriver.remote.webelement.WebElement (session=\"16f413e36995df6cf470fc91e8e9c33c\", element=\"f.907D8424AE128CB8E985B0F106BD484B.d.EFE26F79EF63874493A0B4A7BFA1D8B1.e.30\")>, <selenium.webdriver.remote.webelement.WebElement (session=\"16f413e36995df6cf470fc91e8e9c33c\", element=\"f.907D8424AE128CB8E985B0F106BD484B.d.EFE26F79EF63874493A0B4A7BFA1D8B1.e.31\")>, <selenium.webdriver.remote.webelement.WebElement (session=\"16f413e36995df6cf470fc91e8e9c33c\", element=\"f.907D8424AE128CB8E985B0F106BD484B.d.EFE26F79EF63874493A0B4A7BFA1D8B1.e.32\")>, <selenium.webdriver.remote.webelement.WebElement (session=\"16f413e36995df6cf470fc91e8e9c33c\", element=\"f.907D8424AE128CB8E985B0F106BD484B.d.EFE26F79EF63874493A0B4A7BFA1D8B1.e.33\")>, <selenium.webdriver.remote.webelement.WebElement (session=\"16f413e36995df6cf470fc91e8e9c33c\", element=\"f.907D8424AE128CB8E985B0F106BD484B.d.EFE26F79EF63874493A0B4A7BFA1D8B1.e.34\")>, <selenium.webdriver.remote.webelement.WebElement (session=\"16f413e36995df6cf470fc91e8e9c33c\", element=\"f.907D8424AE128CB8E985B0F106BD484B.d.EFE26F79EF63874493A0B4A7BFA1D8B1.e.35\")>, <selenium.webdriver.remote.webelement.WebElement (session=\"16f413e36995df6cf470fc91e8e9c33c\", element=\"f.907D8424AE128CB8E985B0F106BD484B.d.EFE26F79EF63874493A0B4A7BFA1D8B1.e.36\")>, <selenium.webdriver.remote.webelement.WebElement (session=\"16f413e36995df6cf470fc91e8e9c33c\", element=\"f.907D8424AE128CB8E985B0F106BD484B.d.EFE26F79EF63874493A0B4A7BFA1D8B1.e.37\")>, <selenium.webdriver.remote.webelement.WebElement (session=\"16f413e36995df6cf470fc91e8e9c33c\", element=\"f.907D8424AE128CB8E985B0F106BD484B.d.EFE26F79EF63874493A0B4A7BFA1D8B1.e.38\")>, <selenium.webdriver.remote.webelement.WebElement (session=\"16f413e36995df6cf470fc91e8e9c33c\", element=\"f.907D8424AE128CB8E985B0F106BD484B.d.EFE26F79EF63874493A0B4A7BFA1D8B1.e.39\")>, <selenium.webdriver.remote.webelement.WebElement (session=\"16f413e36995df6cf470fc91e8e9c33c\", element=\"f.907D8424AE128CB8E985B0F106BD484B.d.EFE26F79EF63874493A0B4A7BFA1D8B1.e.40\")>, <selenium.webdriver.remote.webelement.WebElement (session=\"16f413e36995df6cf470fc91e8e9c33c\", element=\"f.907D8424AE128CB8E985B0F106BD484B.d.EFE26F79EF63874493A0B4A7BFA1D8B1.e.41\")>, <selenium.webdriver.remote.webelement.WebElement (session=\"16f413e36995df6cf470fc91e8e9c33c\", element=\"f.907D8424AE128CB8E985B0F106BD484B.d.EFE26F79EF63874493A0B4A7BFA1D8B1.e.42\")>, <selenium.webdriver.remote.webelement.WebElement (session=\"16f413e36995df6cf470fc91e8e9c33c\", element=\"f.907D8424AE128CB8E985B0F106BD484B.d.EFE26F79EF63874493A0B4A7BFA1D8B1.e.43\")>, <selenium.webdriver.remote.webelement.WebElement (session=\"16f413e36995df6cf470fc91e8e9c33c\", element=\"f.907D8424AE128CB8E985B0F106BD484B.d.EFE26F79EF63874493A0B4A7BFA1D8B1.e.44\")>, <selenium.webdriver.remote.webelement.WebElement (session=\"16f413e36995df6cf470fc91e8e9c33c\", element=\"f.907D8424AE128CB8E985B0F106BD484B.d.EFE26F79EF63874493A0B4A7BFA1D8B1.e.45\")>, <selenium.webdriver.remote.webelement.WebElement (session=\"16f413e36995df6cf470fc91e8e9c33c\", element=\"f.907D8424AE128CB8E985B0F106BD484B.d.EFE26F79EF63874493A0B4A7BFA1D8B1.e.46\")>, <selenium.webdriver.remote.webelement.WebElement (session=\"16f413e36995df6cf470fc91e8e9c33c\", element=\"f.907D8424AE128CB8E985B0F106BD484B.d.EFE26F79EF63874493A0B4A7BFA1D8B1.e.47\")>, <selenium.webdriver.remote.webelement.WebElement (session=\"16f413e36995df6cf470fc91e8e9c33c\", element=\"f.907D8424AE128CB8E985B0F106BD484B.d.EFE26F79EF63874493A0B4A7BFA1D8B1.e.48\")>, <selenium.webdriver.remote.webelement.WebElement (session=\"16f413e36995df6cf470fc91e8e9c33c\", element=\"f.907D8424AE128CB8E985B0F106BD484B.d.EFE26F79EF63874493A0B4A7BFA1D8B1.e.49\")>, <selenium.webdriver.remote.webelement.WebElement (session=\"16f413e36995df6cf470fc91e8e9c33c\", element=\"f.907D8424AE128CB8E985B0F106BD484B.d.EFE26F79EF63874493A0B4A7BFA1D8B1.e.50\")>, <selenium.webdriver.remote.webelement.WebElement (session=\"16f413e36995df6cf470fc91e8e9c33c\", element=\"f.907D8424AE128CB8E985B0F106BD484B.d.EFE26F79EF63874493A0B4A7BFA1D8B1.e.51\")>, <selenium.webdriver.remote.webelement.WebElement (session=\"16f413e36995df6cf470fc91e8e9c33c\", element=\"f.907D8424AE128CB8E985B0F106BD484B.d.EFE26F79EF63874493A0B4A7BFA1D8B1.e.52\")>, <selenium.webdriver.remote.webelement.WebElement (session=\"16f413e36995df6cf470fc91e8e9c33c\", element=\"f.907D8424AE128CB8E985B0F106BD484B.d.EFE26F79EF63874493A0B4A7BFA1D8B1.e.53\")>, <selenium.webdriver.remote.webelement.WebElement (session=\"16f413e36995df6cf470fc91e8e9c33c\", element=\"f.907D8424AE128CB8E985B0F106BD484B.d.EFE26F79EF63874493A0B4A7BFA1D8B1.e.54\")>, <selenium.webdriver.remote.webelement.WebElement (session=\"16f413e36995df6cf470fc91e8e9c33c\", element=\"f.907D8424AE128CB8E985B0F106BD484B.d.EFE26F79EF63874493A0B4A7BFA1D8B1.e.55\")>, <selenium.webdriver.remote.webelement.WebElement (session=\"16f413e36995df6cf470fc91e8e9c33c\", element=\"f.907D8424AE128CB8E985B0F106BD484B.d.EFE26F79EF63874493A0B4A7BFA1D8B1.e.56\")>, <selenium.webdriver.remote.webelement.WebElement (session=\"16f413e36995df6cf470fc91e8e9c33c\", element=\"f.907D8424AE128CB8E985B0F106BD484B.d.EFE26F79EF63874493A0B4A7BFA1D8B1.e.57\")>, <selenium.webdriver.remote.webelement.WebElement (session=\"16f413e36995df6cf470fc91e8e9c33c\", element=\"f.907D8424AE128CB8E985B0F106BD484B.d.EFE26F79EF63874493A0B4A7BFA1D8B1.e.58\")>, <selenium.webdriver.remote.webelement.WebElement (session=\"16f413e36995df6cf470fc91e8e9c33c\", element=\"f.907D8424AE128CB8E985B0F106BD484B.d.EFE26F79EF63874493A0B4A7BFA1D8B1.e.59\")>, <selenium.webdriver.remote.webelement.WebElement (session=\"16f413e36995df6cf470fc91e8e9c33c\", element=\"f.907D8424AE128CB8E985B0F106BD484B.d.EFE26F79EF63874493A0B4A7BFA1D8B1.e.60\")>, <selenium.webdriver.remote.webelement.WebElement (session=\"16f413e36995df6cf470fc91e8e9c33c\", element=\"f.907D8424AE128CB8E985B0F106BD484B.d.EFE26F79EF63874493A0B4A7BFA1D8B1.e.61\")>, <selenium.webdriver.remote.webelement.WebElement (session=\"16f413e36995df6cf470fc91e8e9c33c\", element=\"f.907D8424AE128CB8E985B0F106BD484B.d.EFE26F79EF63874493A0B4A7BFA1D8B1.e.62\")>, <selenium.webdriver.remote.webelement.WebElement (session=\"16f413e36995df6cf470fc91e8e9c33c\", element=\"f.907D8424AE128CB8E985B0F106BD484B.d.EFE26F79EF63874493A0B4A7BFA1D8B1.e.63\")>, <selenium.webdriver.remote.webelement.WebElement (session=\"16f413e36995df6cf470fc91e8e9c33c\", element=\"f.907D8424AE128CB8E985B0F106BD484B.d.EFE26F79EF63874493A0B4A7BFA1D8B1.e.64\")>, <selenium.webdriver.remote.webelement.WebElement (session=\"16f413e36995df6cf470fc91e8e9c33c\", element=\"f.907D8424AE128CB8E985B0F106BD484B.d.EFE26F79EF63874493A0B4A7BFA1D8B1.e.65\")>, <selenium.webdriver.remote.webelement.WebElement (session=\"16f413e36995df6cf470fc91e8e9c33c\", element=\"f.907D8424AE128CB8E985B0F106BD484B.d.EFE26F79EF63874493A0B4A7BFA1D8B1.e.66\")>, <selenium.webdriver.remote.webelement.WebElement (session=\"16f413e36995df6cf470fc91e8e9c33c\", element=\"f.907D8424AE128CB8E985B0F106BD484B.d.EFE26F79EF63874493A0B4A7BFA1D8B1.e.67\")>, <selenium.webdriver.remote.webelement.WebElement (session=\"16f413e36995df6cf470fc91e8e9c33c\", element=\"f.907D8424AE128CB8E985B0F106BD484B.d.EFE26F79EF63874493A0B4A7BFA1D8B1.e.68\")>, <selenium.webdriver.remote.webelement.WebElement (session=\"16f413e36995df6cf470fc91e8e9c33c\", element=\"f.907D8424AE128CB8E985B0F106BD484B.d.EFE26F79EF63874493A0B4A7BFA1D8B1.e.69\")>, <selenium.webdriver.remote.webelement.WebElement (session=\"16f413e36995df6cf470fc91e8e9c33c\", element=\"f.907D8424AE128CB8E985B0F106BD484B.d.EFE26F79EF63874493A0B4A7BFA1D8B1.e.70\")>, <selenium.webdriver.remote.webelement.WebElement (session=\"16f413e36995df6cf470fc91e8e9c33c\", element=\"f.907D8424AE128CB8E985B0F106BD484B.d.EFE26F79EF63874493A0B4A7BFA1D8B1.e.71\")>, <selenium.webdriver.remote.webelement.WebElement (session=\"16f413e36995df6cf470fc91e8e9c33c\", element=\"f.907D8424AE128CB8E985B0F106BD484B.d.EFE26F79EF63874493A0B4A7BFA1D8B1.e.72\")>, <selenium.webdriver.remote.webelement.WebElement (session=\"16f413e36995df6cf470fc91e8e9c33c\", element=\"f.907D8424AE128CB8E985B0F106BD484B.d.EFE26F79EF63874493A0B4A7BFA1D8B1.e.73\")>, <selenium.webdriver.remote.webelement.WebElement (session=\"16f413e36995df6cf470fc91e8e9c33c\", element=\"f.907D8424AE128CB8E985B0F106BD484B.d.EFE26F79EF63874493A0B4A7BFA1D8B1.e.74\")>, <selenium.webdriver.remote.webelement.WebElement (session=\"16f413e36995df6cf470fc91e8e9c33c\", element=\"f.907D8424AE128CB8E985B0F106BD484B.d.EFE26F79EF63874493A0B4A7BFA1D8B1.e.75\")>, <selenium.webdriver.remote.webelement.WebElement (session=\"16f413e36995df6cf470fc91e8e9c33c\", element=\"f.907D8424AE128CB8E985B0F106BD484B.d.EFE26F79EF63874493A0B4A7BFA1D8B1.e.76\")>, <selenium.webdriver.remote.webelement.WebElement (session=\"16f413e36995df6cf470fc91e8e9c33c\", element=\"f.907D8424AE128CB8E985B0F106BD484B.d.EFE26F79EF63874493A0B4A7BFA1D8B1.e.77\")>, <selenium.webdriver.remote.webelement.WebElement (session=\"16f413e36995df6cf470fc91e8e9c33c\", element=\"f.907D8424AE128CB8E985B0F106BD484B.d.EFE26F79EF63874493A0B4A7BFA1D8B1.e.78\")>, <selenium.webdriver.remote.webelement.WebElement (session=\"16f413e36995df6cf470fc91e8e9c33c\", element=\"f.907D8424AE128CB8E985B0F106BD484B.d.EFE26F79EF63874493A0B4A7BFA1D8B1.e.79\")>, <selenium.webdriver.remote.webelement.WebElement (session=\"16f413e36995df6cf470fc91e8e9c33c\", element=\"f.907D8424AE128CB8E985B0F106BD484B.d.EFE26F79EF63874493A0B4A7BFA1D8B1.e.80\")>, <selenium.webdriver.remote.webelement.WebElement (session=\"16f413e36995df6cf470fc91e8e9c33c\", element=\"f.907D8424AE128CB8E985B0F106BD484B.d.EFE26F79EF63874493A0B4A7BFA1D8B1.e.81\")>, <selenium.webdriver.remote.webelement.WebElement (session=\"16f413e36995df6cf470fc91e8e9c33c\", element=\"f.907D8424AE128CB8E985B0F106BD484B.d.EFE26F79EF63874493A0B4A7BFA1D8B1.e.82\")>, <selenium.webdriver.remote.webelement.WebElement (session=\"16f413e36995df6cf470fc91e8e9c33c\", element=\"f.907D8424AE128CB8E985B0F106BD484B.d.EFE26F79EF63874493A0B4A7BFA1D8B1.e.83\")>, <selenium.webdriver.remote.webelement.WebElement (session=\"16f413e36995df6cf470fc91e8e9c33c\", element=\"f.907D8424AE128CB8E985B0F106BD484B.d.EFE26F79EF63874493A0B4A7BFA1D8B1.e.84\")>, <selenium.webdriver.remote.webelement.WebElement (session=\"16f413e36995df6cf470fc91e8e9c33c\", element=\"f.907D8424AE128CB8E985B0F106BD484B.d.EFE26F79EF63874493A0B4A7BFA1D8B1.e.85\")>, <selenium.webdriver.remote.webelement.WebElement (session=\"16f413e36995df6cf470fc91e8e9c33c\", element=\"f.907D8424AE128CB8E985B0F106BD484B.d.EFE26F79EF63874493A0B4A7BFA1D8B1.e.86\")>, <selenium.webdriver.remote.webelement.WebElement (session=\"16f413e36995df6cf470fc91e8e9c33c\", element=\"f.907D8424AE128CB8E985B0F106BD484B.d.EFE26F79EF63874493A0B4A7BFA1D8B1.e.87\")>, <selenium.webdriver.remote.webelement.WebElement (session=\"16f413e36995df6cf470fc91e8e9c33c\", element=\"f.907D8424AE128CB8E985B0F106BD484B.d.EFE26F79EF63874493A0B4A7BFA1D8B1.e.88\")>, <selenium.webdriver.remote.webelement.WebElement (session=\"16f413e36995df6cf470fc91e8e9c33c\", element=\"f.907D8424AE128CB8E985B0F106BD484B.d.EFE26F79EF63874493A0B4A7BFA1D8B1.e.89\")>, <selenium.webdriver.remote.webelement.WebElement (session=\"16f413e36995df6cf470fc91e8e9c33c\", element=\"f.907D8424AE128CB8E985B0F106BD484B.d.EFE26F79EF63874493A0B4A7BFA1D8B1.e.90\")>, <selenium.webdriver.remote.webelement.WebElement (session=\"16f413e36995df6cf470fc91e8e9c33c\", element=\"f.907D8424AE128CB8E985B0F106BD484B.d.EFE26F79EF63874493A0B4A7BFA1D8B1.e.91\")>]\n"
     ]
    }
   ],
   "source": [
    "ref = 'https://rosstat.gov.ru/storage/mediabank/munst.htm'\n",
    "driver.get(ref)\n",
    "driver.implicitly_wait(0.5)\n",
    "driver.maximize_window()\n",
    "driver.implicitly_wait(1)\n",
    "\n",
    "region_links = driver.find_elements(By.XPATH, \"//a[contains(@href, 'munst')]\")\n",
    "print(region_links)\n",
    "links = []\n",
    "for link in region_links:\n",
    "    links.append((link.get_attribute('href'), link.text))\n",
    "# driver.close()\n"
   ]
  },
  {
   "cell_type": "code",
   "execution_count": 13,
   "metadata": {},
   "outputs": [],
   "source": [
    "links = links[1:]"
   ]
  },
  {
   "cell_type": "code",
   "execution_count": 14,
   "metadata": {},
   "outputs": [],
   "source": [
    "def get_table_one_mun(link, cnt):\n",
    "    try:\n",
    "        if cnt == 0:\n",
    "\n",
    "            driver.implicitly_wait(0.5)\n",
    "            driver.maximize_window()\n",
    "            driver.implicitly_wait(1)\n",
    "        else:\n",
    "            window_handles = driver.window_handles\n",
    "            # # Переключаемся на последнюю открытую вкладку (новую)\n",
    "            driver.switch_to.window(window_handles[-1])\n",
    "        driver.get(link)\n",
    "        search_dir = driver.find_element(By.LINK_TEXT, 'Коммунальная сфера') # сюда вставлять название папки со сферой, которую парсим на данный момент\n",
    "        search_dir.click()\n",
    "        search_elem = driver.find_element(By.NAME, 'p8008020') # сюда вставлять id для критерий\n",
    "        search_elem.click()\n",
    "        button_next = driver.find_element(By.ID, 'Knopka')\n",
    "        button_next.click()\n",
    "        all_mun = driver.find_element(By.NAME, 'munr_chk')\n",
    "        all_mun.click()\n",
    "        type_pos = driver.find_element(By.NAME, \"tippos_chk\")\n",
    "        type_pos.click()\n",
    "        mun_obr = driver.find_element(By.NAME, 'oktmo_chk')\n",
    "        mun_obr.click()\n",
    "        chk_years = driver.find_element(By.NAME, 'god_chk')\n",
    "        chk_years.click()\n",
    "        aa = driver.find_element(By.NAME, 'STbl')\n",
    "        aa.click()\n",
    "        window_handles = driver.window_handles\n",
    "        # # Переключаемся на последнюю открытую вкладку (новую)\n",
    "        driver.switch_to.window(window_handles[-1])\n",
    "        a = driver.find_element(By.NAME, 'Format')\n",
    "        a.click()\n",
    "        b = driver.find_element(By.XPATH, '//select//option[contains(text(), \"CSV\")]')\n",
    "        b.click()\n",
    "        c = driver.find_element(By.NAME, 'showtbl0')\n",
    "        c.click()\n",
    "        # name_file = f'Report ({cnt}).csv' if cnt > 0 else 'Report.csv'\n",
    "        # curr_path = '/home/nomad/Downloads' + name_file\n",
    "        # df = pd.read_csv(curr_path, sep=';', encoding='cp1251', skiprows=2, header=0, index_col=0)\n",
    "\n",
    "        # # Теперь вы можете выполнять действия на новой вкладке\n",
    "        # # Например, получить заголовок страницы\n",
    "        # print(driver.title)\n",
    "\n",
    "        # # Закрытие новой вкладки (по желанию)\n",
    "\n",
    "        # # Переключение обратно на первую вкладку\n",
    "        # # driver.switch_to.window(window_handles[0])\n",
    "        driver.close()\n",
    "        # driver.quit()\n",
    "    except Exception as error:\n",
    "        print(error)"
   ]
  },
  {
   "cell_type": "code",
   "execution_count": 15,
   "metadata": {},
   "outputs": [
    {
     "name": "stderr",
     "output_type": "stream",
     "text": [
      "  9%|▊         | 7/82 [02:39<49:07, 39.30s/it]"
     ]
    },
    {
     "name": "stdout",
     "output_type": "stream",
     "text": [
      "Message: no such element: Unable to locate element: {\"method\":\"css selector\",\"selector\":\"[name=\"p8008020\"]\"}\n",
      "  (Session info: chrome=131.0.6778.264); For documentation on this error, please visit: https://www.selenium.dev/documentation/webdriver/troubleshooting/errors#no-such-element-exception\n",
      "Stacktrace:\n",
      "#0 0x5862a9c2f1fa <unknown>\n",
      "#1 0x5862a973f810 <unknown>\n",
      "#2 0x5862a978e506 <unknown>\n",
      "#3 0x5862a978e7a1 <unknown>\n",
      "#4 0x5862a97d3c24 <unknown>\n",
      "#5 0x5862a97b25ad <unknown>\n",
      "#6 0x5862a97d1007 <unknown>\n",
      "#7 0x5862a97b2323 <unknown>\n",
      "#8 0x5862a9780de0 <unknown>\n",
      "#9 0x5862a9781dbe <unknown>\n",
      "#10 0x5862a9bfb12b <unknown>\n",
      "#11 0x5862a9bff0c7 <unknown>\n",
      "#12 0x5862a9be86cc <unknown>\n",
      "#13 0x5862a9bffc47 <unknown>\n",
      "#14 0x5862a9bcd67f <unknown>\n",
      "#15 0x5862a9c1e288 <unknown>\n",
      "#16 0x5862a9c1e450 <unknown>\n",
      "#17 0x5862a9c2e076 <unknown>\n",
      "#18 0x7933e709ca94 <unknown>\n",
      "#19 0x7933e7129c3c <unknown>\n",
      "\n"
     ]
    },
    {
     "name": "stderr",
     "output_type": "stream",
     "text": [
      " 34%|███▍      | 28/82 [05:41<07:11,  7.99s/it]"
     ]
    },
    {
     "name": "stdout",
     "output_type": "stream",
     "text": [
      "Message: no such element: Unable to locate element: {\"method\":\"css selector\",\"selector\":\"[name=\"munr_chk\"]\"}\n",
      "  (Session info: chrome=131.0.6778.264); For documentation on this error, please visit: https://www.selenium.dev/documentation/webdriver/troubleshooting/errors#no-such-element-exception\n",
      "Stacktrace:\n",
      "#0 0x5862a9c2f1fa <unknown>\n",
      "#1 0x5862a973f810 <unknown>\n",
      "#2 0x5862a978e506 <unknown>\n",
      "#3 0x5862a978e7a1 <unknown>\n",
      "#4 0x5862a97d3c24 <unknown>\n",
      "#5 0x5862a97b25ad <unknown>\n",
      "#6 0x5862a97d1007 <unknown>\n",
      "#7 0x5862a97b2323 <unknown>\n",
      "#8 0x5862a9780de0 <unknown>\n",
      "#9 0x5862a9781dbe <unknown>\n",
      "#10 0x5862a9bfb12b <unknown>\n",
      "#11 0x5862a9bff0c7 <unknown>\n",
      "#12 0x5862a9be86cc <unknown>\n",
      "#13 0x5862a9bffc47 <unknown>\n",
      "#14 0x5862a9bcd67f <unknown>\n",
      "#15 0x5862a9c1e288 <unknown>\n",
      "#16 0x5862a9c1e450 <unknown>\n",
      "#17 0x5862a9c2e076 <unknown>\n",
      "#18 0x7933e709ca94 <unknown>\n",
      "#19 0x7933e7129c3c <unknown>\n",
      "\n"
     ]
    },
    {
     "name": "stderr",
     "output_type": "stream",
     "text": [
      " 44%|████▍     | 36/82 [06:53<06:48,  8.88s/it]"
     ]
    },
    {
     "name": "stdout",
     "output_type": "stream",
     "text": [
      "Message: no such element: Unable to locate element: {\"method\":\"css selector\",\"selector\":\"[name=\"munr_chk\"]\"}\n",
      "  (Session info: chrome=131.0.6778.264); For documentation on this error, please visit: https://www.selenium.dev/documentation/webdriver/troubleshooting/errors#no-such-element-exception\n",
      "Stacktrace:\n",
      "#0 0x5862a9c2f1fa <unknown>\n",
      "#1 0x5862a973f810 <unknown>\n",
      "#2 0x5862a978e506 <unknown>\n",
      "#3 0x5862a978e7a1 <unknown>\n",
      "#4 0x5862a97d3c24 <unknown>\n",
      "#5 0x5862a97b25ad <unknown>\n",
      "#6 0x5862a97d1007 <unknown>\n",
      "#7 0x5862a97b2323 <unknown>\n",
      "#8 0x5862a9780de0 <unknown>\n",
      "#9 0x5862a9781dbe <unknown>\n",
      "#10 0x5862a9bfb12b <unknown>\n",
      "#11 0x5862a9bff0c7 <unknown>\n",
      "#12 0x5862a9be86cc <unknown>\n",
      "#13 0x5862a9bffc47 <unknown>\n",
      "#14 0x5862a9bcd67f <unknown>\n",
      "#15 0x5862a9c1e288 <unknown>\n",
      "#16 0x5862a9c1e450 <unknown>\n",
      "#17 0x5862a9c2e076 <unknown>\n",
      "#18 0x7933e709ca94 <unknown>\n",
      "#19 0x7933e7129c3c <unknown>\n",
      "\n"
     ]
    },
    {
     "name": "stderr",
     "output_type": "stream",
     "text": [
      " 45%|████▌     | 37/82 [06:57<05:20,  7.12s/it]"
     ]
    },
    {
     "name": "stdout",
     "output_type": "stream",
     "text": [
      "Message: no such element: Unable to locate element: {\"method\":\"link text\",\"selector\":\"Коммунальная сфера\"}\n",
      "  (Session info: chrome=131.0.6778.264); For documentation on this error, please visit: https://www.selenium.dev/documentation/webdriver/troubleshooting/errors#no-such-element-exception\n",
      "Stacktrace:\n",
      "#0 0x5862a9c2f1fa <unknown>\n",
      "#1 0x5862a973f810 <unknown>\n",
      "#2 0x5862a978e506 <unknown>\n",
      "#3 0x5862a978e7a1 <unknown>\n",
      "#4 0x5862a97d3c24 <unknown>\n",
      "#5 0x5862a97b25ad <unknown>\n",
      "#6 0x5862a97d1007 <unknown>\n",
      "#7 0x5862a97b2323 <unknown>\n",
      "#8 0x5862a9780de0 <unknown>\n",
      "#9 0x5862a9781dbe <unknown>\n",
      "#10 0x5862a9bfb12b <unknown>\n",
      "#11 0x5862a9bff0c7 <unknown>\n",
      "#12 0x5862a9be86cc <unknown>\n",
      "#13 0x5862a9bffc47 <unknown>\n",
      "#14 0x5862a9bcd67f <unknown>\n",
      "#15 0x5862a9c1e288 <unknown>\n",
      "#16 0x5862a9c1e450 <unknown>\n",
      "#17 0x5862a9c2e076 <unknown>\n",
      "#18 0x7933e709ca94 <unknown>\n",
      "#19 0x7933e7129c3c <unknown>\n",
      "\n"
     ]
    },
    {
     "name": "stderr",
     "output_type": "stream",
     "text": [
      " 46%|████▋     | 38/82 [07:00<04:20,  5.92s/it]"
     ]
    },
    {
     "name": "stdout",
     "output_type": "stream",
     "text": [
      "Message: no such element: Unable to locate element: {\"method\":\"link text\",\"selector\":\"Коммунальная сфера\"}\n",
      "  (Session info: chrome=131.0.6778.264); For documentation on this error, please visit: https://www.selenium.dev/documentation/webdriver/troubleshooting/errors#no-such-element-exception\n",
      "Stacktrace:\n",
      "#0 0x5862a9c2f1fa <unknown>\n",
      "#1 0x5862a973f810 <unknown>\n",
      "#2 0x5862a978e506 <unknown>\n",
      "#3 0x5862a978e7a1 <unknown>\n",
      "#4 0x5862a97d3c24 <unknown>\n",
      "#5 0x5862a97b25ad <unknown>\n",
      "#6 0x5862a97d1007 <unknown>\n",
      "#7 0x5862a97b2323 <unknown>\n",
      "#8 0x5862a9780de0 <unknown>\n",
      "#9 0x5862a9781dbe <unknown>\n",
      "#10 0x5862a9bfb12b <unknown>\n",
      "#11 0x5862a9bff0c7 <unknown>\n",
      "#12 0x5862a9be86cc <unknown>\n",
      "#13 0x5862a9bffc47 <unknown>\n",
      "#14 0x5862a9bcd67f <unknown>\n",
      "#15 0x5862a9c1e288 <unknown>\n",
      "#16 0x5862a9c1e450 <unknown>\n",
      "#17 0x5862a9c2e076 <unknown>\n",
      "#18 0x7933e709ca94 <unknown>\n",
      "#19 0x7933e7129c3c <unknown>\n",
      "\n"
     ]
    },
    {
     "name": "stderr",
     "output_type": "stream",
     "text": [
      " 56%|█████▌    | 46/82 [08:02<04:23,  7.31s/it]"
     ]
    },
    {
     "name": "stdout",
     "output_type": "stream",
     "text": [
      "Message: no such element: Unable to locate element: {\"method\":\"css selector\",\"selector\":\"[name=\"munr_chk\"]\"}\n",
      "  (Session info: chrome=131.0.6778.264); For documentation on this error, please visit: https://www.selenium.dev/documentation/webdriver/troubleshooting/errors#no-such-element-exception\n",
      "Stacktrace:\n",
      "#0 0x5862a9c2f1fa <unknown>\n",
      "#1 0x5862a973f810 <unknown>\n",
      "#2 0x5862a978e506 <unknown>\n",
      "#3 0x5862a978e7a1 <unknown>\n",
      "#4 0x5862a97d3c24 <unknown>\n",
      "#5 0x5862a97b25ad <unknown>\n",
      "#6 0x5862a97d1007 <unknown>\n",
      "#7 0x5862a97b2323 <unknown>\n",
      "#8 0x5862a9780de0 <unknown>\n",
      "#9 0x5862a9781dbe <unknown>\n",
      "#10 0x5862a9bfb12b <unknown>\n",
      "#11 0x5862a9bff0c7 <unknown>\n",
      "#12 0x5862a9be86cc <unknown>\n",
      "#13 0x5862a9bffc47 <unknown>\n",
      "#14 0x5862a9bcd67f <unknown>\n",
      "#15 0x5862a9c1e288 <unknown>\n",
      "#16 0x5862a9c1e450 <unknown>\n",
      "#17 0x5862a9c2e076 <unknown>\n",
      "#18 0x7933e709ca94 <unknown>\n",
      "#19 0x7933e7129c3c <unknown>\n",
      "\n"
     ]
    },
    {
     "name": "stderr",
     "output_type": "stream",
     "text": [
      " 62%|██████▏   | 51/82 [08:45<03:52,  7.50s/it]"
     ]
    },
    {
     "name": "stdout",
     "output_type": "stream",
     "text": [
      "Message: element not interactable\n",
      "  (Session info: chrome=131.0.6778.264)\n",
      "Stacktrace:\n",
      "#0 0x5862a9c2f1fa <unknown>\n",
      "#1 0x5862a973f66d <unknown>\n",
      "#2 0x5862a978f66c <unknown>\n",
      "#3 0x5862a97831f5 <unknown>\n",
      "#4 0x5862a97b2582 <unknown>\n",
      "#5 0x5862a9782b38 <unknown>\n",
      "#6 0x5862a97b274e <unknown>\n",
      "#7 0x5862a97d1007 <unknown>\n",
      "#8 0x5862a97b2323 <unknown>\n",
      "#9 0x5862a9780de0 <unknown>\n",
      "#10 0x5862a9781dbe <unknown>\n",
      "#11 0x5862a9bfb12b <unknown>\n",
      "#12 0x5862a9bff0c7 <unknown>\n",
      "#13 0x5862a9be86cc <unknown>\n",
      "#14 0x5862a9bffc47 <unknown>\n",
      "#15 0x5862a9bcd67f <unknown>\n",
      "#16 0x5862a9c1e288 <unknown>\n",
      "#17 0x5862a9c1e450 <unknown>\n",
      "#18 0x5862a9c2e076 <unknown>\n",
      "#19 0x7933e709ca94 <unknown>\n",
      "#20 0x7933e7129c3c <unknown>\n",
      "\n"
     ]
    },
    {
     "name": "stderr",
     "output_type": "stream",
     "text": [
      " 70%|██████▉   | 57/82 [09:42<03:27,  8.32s/it]"
     ]
    },
    {
     "name": "stdout",
     "output_type": "stream",
     "text": [
      "Message: no such element: Unable to locate element: {\"method\":\"css selector\",\"selector\":\"[name=\"p8008020\"]\"}\n",
      "  (Session info: chrome=131.0.6778.264); For documentation on this error, please visit: https://www.selenium.dev/documentation/webdriver/troubleshooting/errors#no-such-element-exception\n",
      "Stacktrace:\n",
      "#0 0x5862a9c2f1fa <unknown>\n",
      "#1 0x5862a973f810 <unknown>\n",
      "#2 0x5862a978e506 <unknown>\n",
      "#3 0x5862a978e7a1 <unknown>\n",
      "#4 0x5862a97d3c24 <unknown>\n",
      "#5 0x5862a97b25ad <unknown>\n",
      "#6 0x5862a97d1007 <unknown>\n",
      "#7 0x5862a97b2323 <unknown>\n",
      "#8 0x5862a9780de0 <unknown>\n",
      "#9 0x5862a9781dbe <unknown>\n",
      "#10 0x5862a9bfb12b <unknown>\n",
      "#11 0x5862a9bff0c7 <unknown>\n",
      "#12 0x5862a9be86cc <unknown>\n",
      "#13 0x5862a9bffc47 <unknown>\n",
      "#14 0x5862a9bcd67f <unknown>\n",
      "#15 0x5862a9c1e288 <unknown>\n",
      "#16 0x5862a9c1e450 <unknown>\n",
      "#17 0x5862a9c2e076 <unknown>\n",
      "#18 0x7933e709ca94 <unknown>\n",
      "#19 0x7933e7129c3c <unknown>\n",
      "\n"
     ]
    },
    {
     "name": "stderr",
     "output_type": "stream",
     "text": [
      " 76%|███████▌  | 62/82 [10:55<05:45, 17.27s/it]"
     ]
    },
    {
     "name": "stdout",
     "output_type": "stream",
     "text": [
      "Message: no such element: Unable to locate element: {\"method\":\"css selector\",\"selector\":\"[name=\"munr_chk\"]\"}\n",
      "  (Session info: chrome=131.0.6778.264); For documentation on this error, please visit: https://www.selenium.dev/documentation/webdriver/troubleshooting/errors#no-such-element-exception\n",
      "Stacktrace:\n",
      "#0 0x5862a9c2f1fa <unknown>\n",
      "#1 0x5862a973f810 <unknown>\n",
      "#2 0x5862a978e506 <unknown>\n",
      "#3 0x5862a978e7a1 <unknown>\n",
      "#4 0x5862a97d3c24 <unknown>\n",
      "#5 0x5862a97b25ad <unknown>\n",
      "#6 0x5862a97d1007 <unknown>\n",
      "#7 0x5862a97b2323 <unknown>\n",
      "#8 0x5862a9780de0 <unknown>\n",
      "#9 0x5862a9781dbe <unknown>\n",
      "#10 0x5862a9bfb12b <unknown>\n",
      "#11 0x5862a9bff0c7 <unknown>\n",
      "#12 0x5862a9be86cc <unknown>\n",
      "#13 0x5862a9bffc47 <unknown>\n",
      "#14 0x5862a9bcd67f <unknown>\n",
      "#15 0x5862a9c1e288 <unknown>\n",
      "#16 0x5862a9c1e450 <unknown>\n",
      "#17 0x5862a9c2e076 <unknown>\n",
      "#18 0x7933e709ca94 <unknown>\n",
      "#19 0x7933e7129c3c <unknown>\n",
      "\n"
     ]
    },
    {
     "name": "stderr",
     "output_type": "stream",
     "text": [
      " 77%|███████▋  | 63/82 [12:55<15:14, 48.12s/it]"
     ]
    },
    {
     "name": "stdout",
     "output_type": "stream",
     "text": [
      "HTTPConnectionPool(host='localhost', port=35077): Read timed out. (read timeout=120)\n"
     ]
    },
    {
     "name": "stderr",
     "output_type": "stream",
     "text": [
      " 80%|████████  | 66/82 [14:51<03:36, 13.50s/it]\n"
     ]
    },
    {
     "ename": "KeyboardInterrupt",
     "evalue": "",
     "output_type": "error",
     "traceback": [
      "\u001b[0;31m---------------------------------------------------------------------------\u001b[0m",
      "\u001b[0;31mKeyboardInterrupt\u001b[0m                         Traceback (most recent call last)",
      "Cell \u001b[0;32mIn[15], line 4\u001b[0m\n\u001b[1;32m      2\u001b[0m cnt \u001b[38;5;241m=\u001b[39m \u001b[38;5;241m0\u001b[39m\n\u001b[1;32m      3\u001b[0m \u001b[38;5;28;01mfor\u001b[39;00m i \u001b[38;5;129;01min\u001b[39;00m tqdm(links):\n\u001b[0;32m----> 4\u001b[0m     \u001b[43mget_table_one_mun\u001b[49m\u001b[43m(\u001b[49m\u001b[43mi\u001b[49m\u001b[43m[\u001b[49m\u001b[38;5;241;43m0\u001b[39;49m\u001b[43m]\u001b[49m\u001b[43m,\u001b[49m\u001b[43m \u001b[49m\u001b[43mcnt\u001b[49m\u001b[43m)\u001b[49m\n\u001b[1;32m      5\u001b[0m     cnt \u001b[38;5;241m+\u001b[39m\u001b[38;5;241m=\u001b[39m \u001b[38;5;241m1\u001b[39m\n",
      "Cell \u001b[0;32mIn[14], line 12\u001b[0m, in \u001b[0;36mget_table_one_mun\u001b[0;34m(link, cnt)\u001b[0m\n\u001b[1;32m     10\u001b[0m     \u001b[38;5;66;03m# # Переключаемся на последнюю открытую вкладку (новую)\u001b[39;00m\n\u001b[1;32m     11\u001b[0m     driver\u001b[38;5;241m.\u001b[39mswitch_to\u001b[38;5;241m.\u001b[39mwindow(window_handles[\u001b[38;5;241m-\u001b[39m\u001b[38;5;241m1\u001b[39m])\n\u001b[0;32m---> 12\u001b[0m \u001b[43mdriver\u001b[49m\u001b[38;5;241;43m.\u001b[39;49m\u001b[43mget\u001b[49m\u001b[43m(\u001b[49m\u001b[43mlink\u001b[49m\u001b[43m)\u001b[49m\n\u001b[1;32m     13\u001b[0m search_dir \u001b[38;5;241m=\u001b[39m driver\u001b[38;5;241m.\u001b[39mfind_element(By\u001b[38;5;241m.\u001b[39mLINK_TEXT, \u001b[38;5;124m'\u001b[39m\u001b[38;5;124mКоммунальная сфера\u001b[39m\u001b[38;5;124m'\u001b[39m)\n\u001b[1;32m     14\u001b[0m search_dir\u001b[38;5;241m.\u001b[39mclick()\n",
      "File \u001b[0;32m~/Downloads/mainpy/.venv/lib/python3.12/site-packages/selenium/webdriver/remote/webdriver.py:454\u001b[0m, in \u001b[0;36mWebDriver.get\u001b[0;34m(self, url)\u001b[0m\n\u001b[1;32m    436\u001b[0m \u001b[38;5;28;01mdef\u001b[39;00m\u001b[38;5;250m \u001b[39m\u001b[38;5;21mget\u001b[39m(\u001b[38;5;28mself\u001b[39m, url: \u001b[38;5;28mstr\u001b[39m) \u001b[38;5;241m-\u001b[39m\u001b[38;5;241m>\u001b[39m \u001b[38;5;28;01mNone\u001b[39;00m:\n\u001b[1;32m    437\u001b[0m \u001b[38;5;250m    \u001b[39m\u001b[38;5;124;03m\"\"\"Navigate the browser to the specified URL in the current window or\u001b[39;00m\n\u001b[1;32m    438\u001b[0m \u001b[38;5;124;03m    tab.\u001b[39;00m\n\u001b[1;32m    439\u001b[0m \n\u001b[0;32m   (...)\u001b[0m\n\u001b[1;32m    452\u001b[0m \u001b[38;5;124;03m    >>> driver.get(\"https://example.com\")\u001b[39;00m\n\u001b[1;32m    453\u001b[0m \u001b[38;5;124;03m    \"\"\"\u001b[39;00m\n\u001b[0;32m--> 454\u001b[0m     \u001b[38;5;28;43mself\u001b[39;49m\u001b[38;5;241;43m.\u001b[39;49m\u001b[43mexecute\u001b[49m\u001b[43m(\u001b[49m\u001b[43mCommand\u001b[49m\u001b[38;5;241;43m.\u001b[39;49m\u001b[43mGET\u001b[49m\u001b[43m,\u001b[49m\u001b[43m \u001b[49m\u001b[43m{\u001b[49m\u001b[38;5;124;43m\"\u001b[39;49m\u001b[38;5;124;43murl\u001b[39;49m\u001b[38;5;124;43m\"\u001b[39;49m\u001b[43m:\u001b[49m\u001b[43m \u001b[49m\u001b[43murl\u001b[49m\u001b[43m}\u001b[49m\u001b[43m)\u001b[49m\n",
      "File \u001b[0;32m~/Downloads/mainpy/.venv/lib/python3.12/site-packages/selenium/webdriver/remote/webdriver.py:427\u001b[0m, in \u001b[0;36mWebDriver.execute\u001b[0;34m(self, driver_command, params)\u001b[0m\n\u001b[1;32m    424\u001b[0m     \u001b[38;5;28;01melif\u001b[39;00m \u001b[38;5;124m\"\u001b[39m\u001b[38;5;124msessionId\u001b[39m\u001b[38;5;124m\"\u001b[39m \u001b[38;5;129;01mnot\u001b[39;00m \u001b[38;5;129;01min\u001b[39;00m params:\n\u001b[1;32m    425\u001b[0m         params[\u001b[38;5;124m\"\u001b[39m\u001b[38;5;124msessionId\u001b[39m\u001b[38;5;124m\"\u001b[39m] \u001b[38;5;241m=\u001b[39m \u001b[38;5;28mself\u001b[39m\u001b[38;5;241m.\u001b[39msession_id\n\u001b[0;32m--> 427\u001b[0m response \u001b[38;5;241m=\u001b[39m \u001b[38;5;28;43mself\u001b[39;49m\u001b[38;5;241;43m.\u001b[39;49m\u001b[43mcommand_executor\u001b[49m\u001b[38;5;241;43m.\u001b[39;49m\u001b[43mexecute\u001b[49m\u001b[43m(\u001b[49m\u001b[43mdriver_command\u001b[49m\u001b[43m,\u001b[49m\u001b[43m \u001b[49m\u001b[43mparams\u001b[49m\u001b[43m)\u001b[49m\n\u001b[1;32m    428\u001b[0m \u001b[38;5;28;01mif\u001b[39;00m response:\n\u001b[1;32m    429\u001b[0m     \u001b[38;5;28mself\u001b[39m\u001b[38;5;241m.\u001b[39merror_handler\u001b[38;5;241m.\u001b[39mcheck_response(response)\n",
      "File \u001b[0;32m~/Downloads/mainpy/.venv/lib/python3.12/site-packages/selenium/webdriver/remote/remote_connection.py:404\u001b[0m, in \u001b[0;36mRemoteConnection.execute\u001b[0;34m(self, command, params)\u001b[0m\n\u001b[1;32m    402\u001b[0m trimmed \u001b[38;5;241m=\u001b[39m \u001b[38;5;28mself\u001b[39m\u001b[38;5;241m.\u001b[39m_trim_large_entries(params)\n\u001b[1;32m    403\u001b[0m LOGGER\u001b[38;5;241m.\u001b[39mdebug(\u001b[38;5;124m\"\u001b[39m\u001b[38;5;132;01m%s\u001b[39;00m\u001b[38;5;124m \u001b[39m\u001b[38;5;132;01m%s\u001b[39;00m\u001b[38;5;124m \u001b[39m\u001b[38;5;132;01m%s\u001b[39;00m\u001b[38;5;124m\"\u001b[39m, command_info[\u001b[38;5;241m0\u001b[39m], url, \u001b[38;5;28mstr\u001b[39m(trimmed))\n\u001b[0;32m--> 404\u001b[0m \u001b[38;5;28;01mreturn\u001b[39;00m \u001b[38;5;28;43mself\u001b[39;49m\u001b[38;5;241;43m.\u001b[39;49m\u001b[43m_request\u001b[49m\u001b[43m(\u001b[49m\u001b[43mcommand_info\u001b[49m\u001b[43m[\u001b[49m\u001b[38;5;241;43m0\u001b[39;49m\u001b[43m]\u001b[49m\u001b[43m,\u001b[49m\u001b[43m \u001b[49m\u001b[43murl\u001b[49m\u001b[43m,\u001b[49m\u001b[43m \u001b[49m\u001b[43mbody\u001b[49m\u001b[38;5;241;43m=\u001b[39;49m\u001b[43mdata\u001b[49m\u001b[43m)\u001b[49m\n",
      "File \u001b[0;32m~/Downloads/mainpy/.venv/lib/python3.12/site-packages/selenium/webdriver/remote/remote_connection.py:428\u001b[0m, in \u001b[0;36mRemoteConnection._request\u001b[0;34m(self, method, url, body)\u001b[0m\n\u001b[1;32m    425\u001b[0m     body \u001b[38;5;241m=\u001b[39m \u001b[38;5;28;01mNone\u001b[39;00m\n\u001b[1;32m    427\u001b[0m \u001b[38;5;28;01mif\u001b[39;00m \u001b[38;5;28mself\u001b[39m\u001b[38;5;241m.\u001b[39m_client_config\u001b[38;5;241m.\u001b[39mkeep_alive:\n\u001b[0;32m--> 428\u001b[0m     response \u001b[38;5;241m=\u001b[39m \u001b[38;5;28;43mself\u001b[39;49m\u001b[38;5;241;43m.\u001b[39;49m\u001b[43m_conn\u001b[49m\u001b[38;5;241;43m.\u001b[39;49m\u001b[43mrequest\u001b[49m\u001b[43m(\u001b[49m\u001b[43mmethod\u001b[49m\u001b[43m,\u001b[49m\u001b[43m \u001b[49m\u001b[43murl\u001b[49m\u001b[43m,\u001b[49m\u001b[43m \u001b[49m\u001b[43mbody\u001b[49m\u001b[38;5;241;43m=\u001b[39;49m\u001b[43mbody\u001b[49m\u001b[43m,\u001b[49m\u001b[43m \u001b[49m\u001b[43mheaders\u001b[49m\u001b[38;5;241;43m=\u001b[39;49m\u001b[43mheaders\u001b[49m\u001b[43m,\u001b[49m\u001b[43m \u001b[49m\u001b[43mtimeout\u001b[49m\u001b[38;5;241;43m=\u001b[39;49m\u001b[38;5;28;43mself\u001b[39;49m\u001b[38;5;241;43m.\u001b[39;49m\u001b[43m_client_config\u001b[49m\u001b[38;5;241;43m.\u001b[39;49m\u001b[43mtimeout\u001b[49m\u001b[43m)\u001b[49m\n\u001b[1;32m    429\u001b[0m     statuscode \u001b[38;5;241m=\u001b[39m response\u001b[38;5;241m.\u001b[39mstatus\n\u001b[1;32m    430\u001b[0m \u001b[38;5;28;01melse\u001b[39;00m:\n",
      "File \u001b[0;32m~/Downloads/mainpy/.venv/lib/python3.12/site-packages/urllib3/_request_methods.py:143\u001b[0m, in \u001b[0;36mRequestMethods.request\u001b[0;34m(self, method, url, body, fields, headers, json, **urlopen_kw)\u001b[0m\n\u001b[1;32m    135\u001b[0m     \u001b[38;5;28;01mreturn\u001b[39;00m \u001b[38;5;28mself\u001b[39m\u001b[38;5;241m.\u001b[39mrequest_encode_url(\n\u001b[1;32m    136\u001b[0m         method,\n\u001b[1;32m    137\u001b[0m         url,\n\u001b[0;32m   (...)\u001b[0m\n\u001b[1;32m    140\u001b[0m         \u001b[38;5;241m*\u001b[39m\u001b[38;5;241m*\u001b[39murlopen_kw,\n\u001b[1;32m    141\u001b[0m     )\n\u001b[1;32m    142\u001b[0m \u001b[38;5;28;01melse\u001b[39;00m:\n\u001b[0;32m--> 143\u001b[0m     \u001b[38;5;28;01mreturn\u001b[39;00m \u001b[38;5;28;43mself\u001b[39;49m\u001b[38;5;241;43m.\u001b[39;49m\u001b[43mrequest_encode_body\u001b[49m\u001b[43m(\u001b[49m\n\u001b[1;32m    144\u001b[0m \u001b[43m        \u001b[49m\u001b[43mmethod\u001b[49m\u001b[43m,\u001b[49m\u001b[43m \u001b[49m\u001b[43murl\u001b[49m\u001b[43m,\u001b[49m\u001b[43m \u001b[49m\u001b[43mfields\u001b[49m\u001b[38;5;241;43m=\u001b[39;49m\u001b[43mfields\u001b[49m\u001b[43m,\u001b[49m\u001b[43m \u001b[49m\u001b[43mheaders\u001b[49m\u001b[38;5;241;43m=\u001b[39;49m\u001b[43mheaders\u001b[49m\u001b[43m,\u001b[49m\u001b[43m \u001b[49m\u001b[38;5;241;43m*\u001b[39;49m\u001b[38;5;241;43m*\u001b[39;49m\u001b[43murlopen_kw\u001b[49m\n\u001b[1;32m    145\u001b[0m \u001b[43m    \u001b[49m\u001b[43m)\u001b[49m\n",
      "File \u001b[0;32m~/Downloads/mainpy/.venv/lib/python3.12/site-packages/urllib3/_request_methods.py:278\u001b[0m, in \u001b[0;36mRequestMethods.request_encode_body\u001b[0;34m(self, method, url, fields, headers, encode_multipart, multipart_boundary, **urlopen_kw)\u001b[0m\n\u001b[1;32m    274\u001b[0m     extra_kw[\u001b[38;5;124m\"\u001b[39m\u001b[38;5;124mheaders\u001b[39m\u001b[38;5;124m\"\u001b[39m]\u001b[38;5;241m.\u001b[39msetdefault(\u001b[38;5;124m\"\u001b[39m\u001b[38;5;124mContent-Type\u001b[39m\u001b[38;5;124m\"\u001b[39m, content_type)\n\u001b[1;32m    276\u001b[0m extra_kw\u001b[38;5;241m.\u001b[39mupdate(urlopen_kw)\n\u001b[0;32m--> 278\u001b[0m \u001b[38;5;28;01mreturn\u001b[39;00m \u001b[38;5;28;43mself\u001b[39;49m\u001b[38;5;241;43m.\u001b[39;49m\u001b[43murlopen\u001b[49m\u001b[43m(\u001b[49m\u001b[43mmethod\u001b[49m\u001b[43m,\u001b[49m\u001b[43m \u001b[49m\u001b[43murl\u001b[49m\u001b[43m,\u001b[49m\u001b[43m \u001b[49m\u001b[38;5;241;43m*\u001b[39;49m\u001b[38;5;241;43m*\u001b[39;49m\u001b[43mextra_kw\u001b[49m\u001b[43m)\u001b[49m\n",
      "File \u001b[0;32m~/Downloads/mainpy/.venv/lib/python3.12/site-packages/urllib3/poolmanager.py:443\u001b[0m, in \u001b[0;36mPoolManager.urlopen\u001b[0;34m(self, method, url, redirect, **kw)\u001b[0m\n\u001b[1;32m    441\u001b[0m     response \u001b[38;5;241m=\u001b[39m conn\u001b[38;5;241m.\u001b[39murlopen(method, url, \u001b[38;5;241m*\u001b[39m\u001b[38;5;241m*\u001b[39mkw)\n\u001b[1;32m    442\u001b[0m \u001b[38;5;28;01melse\u001b[39;00m:\n\u001b[0;32m--> 443\u001b[0m     response \u001b[38;5;241m=\u001b[39m \u001b[43mconn\u001b[49m\u001b[38;5;241;43m.\u001b[39;49m\u001b[43murlopen\u001b[49m\u001b[43m(\u001b[49m\u001b[43mmethod\u001b[49m\u001b[43m,\u001b[49m\u001b[43m \u001b[49m\u001b[43mu\u001b[49m\u001b[38;5;241;43m.\u001b[39;49m\u001b[43mrequest_uri\u001b[49m\u001b[43m,\u001b[49m\u001b[43m \u001b[49m\u001b[38;5;241;43m*\u001b[39;49m\u001b[38;5;241;43m*\u001b[39;49m\u001b[43mkw\u001b[49m\u001b[43m)\u001b[49m\n\u001b[1;32m    445\u001b[0m redirect_location \u001b[38;5;241m=\u001b[39m redirect \u001b[38;5;129;01mand\u001b[39;00m response\u001b[38;5;241m.\u001b[39mget_redirect_location()\n\u001b[1;32m    446\u001b[0m \u001b[38;5;28;01mif\u001b[39;00m \u001b[38;5;129;01mnot\u001b[39;00m redirect_location:\n",
      "File \u001b[0;32m~/Downloads/mainpy/.venv/lib/python3.12/site-packages/urllib3/connectionpool.py:787\u001b[0m, in \u001b[0;36mHTTPConnectionPool.urlopen\u001b[0;34m(self, method, url, body, headers, retries, redirect, assert_same_host, timeout, pool_timeout, release_conn, chunked, body_pos, preload_content, decode_content, **response_kw)\u001b[0m\n\u001b[1;32m    784\u001b[0m response_conn \u001b[38;5;241m=\u001b[39m conn \u001b[38;5;28;01mif\u001b[39;00m \u001b[38;5;129;01mnot\u001b[39;00m release_conn \u001b[38;5;28;01melse\u001b[39;00m \u001b[38;5;28;01mNone\u001b[39;00m\n\u001b[1;32m    786\u001b[0m \u001b[38;5;66;03m# Make the request on the HTTPConnection object\u001b[39;00m\n\u001b[0;32m--> 787\u001b[0m response \u001b[38;5;241m=\u001b[39m \u001b[38;5;28;43mself\u001b[39;49m\u001b[38;5;241;43m.\u001b[39;49m\u001b[43m_make_request\u001b[49m\u001b[43m(\u001b[49m\n\u001b[1;32m    788\u001b[0m \u001b[43m    \u001b[49m\u001b[43mconn\u001b[49m\u001b[43m,\u001b[49m\n\u001b[1;32m    789\u001b[0m \u001b[43m    \u001b[49m\u001b[43mmethod\u001b[49m\u001b[43m,\u001b[49m\n\u001b[1;32m    790\u001b[0m \u001b[43m    \u001b[49m\u001b[43murl\u001b[49m\u001b[43m,\u001b[49m\n\u001b[1;32m    791\u001b[0m \u001b[43m    \u001b[49m\u001b[43mtimeout\u001b[49m\u001b[38;5;241;43m=\u001b[39;49m\u001b[43mtimeout_obj\u001b[49m\u001b[43m,\u001b[49m\n\u001b[1;32m    792\u001b[0m \u001b[43m    \u001b[49m\u001b[43mbody\u001b[49m\u001b[38;5;241;43m=\u001b[39;49m\u001b[43mbody\u001b[49m\u001b[43m,\u001b[49m\n\u001b[1;32m    793\u001b[0m \u001b[43m    \u001b[49m\u001b[43mheaders\u001b[49m\u001b[38;5;241;43m=\u001b[39;49m\u001b[43mheaders\u001b[49m\u001b[43m,\u001b[49m\n\u001b[1;32m    794\u001b[0m \u001b[43m    \u001b[49m\u001b[43mchunked\u001b[49m\u001b[38;5;241;43m=\u001b[39;49m\u001b[43mchunked\u001b[49m\u001b[43m,\u001b[49m\n\u001b[1;32m    795\u001b[0m \u001b[43m    \u001b[49m\u001b[43mretries\u001b[49m\u001b[38;5;241;43m=\u001b[39;49m\u001b[43mretries\u001b[49m\u001b[43m,\u001b[49m\n\u001b[1;32m    796\u001b[0m \u001b[43m    \u001b[49m\u001b[43mresponse_conn\u001b[49m\u001b[38;5;241;43m=\u001b[39;49m\u001b[43mresponse_conn\u001b[49m\u001b[43m,\u001b[49m\n\u001b[1;32m    797\u001b[0m \u001b[43m    \u001b[49m\u001b[43mpreload_content\u001b[49m\u001b[38;5;241;43m=\u001b[39;49m\u001b[43mpreload_content\u001b[49m\u001b[43m,\u001b[49m\n\u001b[1;32m    798\u001b[0m \u001b[43m    \u001b[49m\u001b[43mdecode_content\u001b[49m\u001b[38;5;241;43m=\u001b[39;49m\u001b[43mdecode_content\u001b[49m\u001b[43m,\u001b[49m\n\u001b[1;32m    799\u001b[0m \u001b[43m    \u001b[49m\u001b[38;5;241;43m*\u001b[39;49m\u001b[38;5;241;43m*\u001b[39;49m\u001b[43mresponse_kw\u001b[49m\u001b[43m,\u001b[49m\n\u001b[1;32m    800\u001b[0m \u001b[43m\u001b[49m\u001b[43m)\u001b[49m\n\u001b[1;32m    802\u001b[0m \u001b[38;5;66;03m# Everything went great!\u001b[39;00m\n\u001b[1;32m    803\u001b[0m clean_exit \u001b[38;5;241m=\u001b[39m \u001b[38;5;28;01mTrue\u001b[39;00m\n",
      "File \u001b[0;32m~/Downloads/mainpy/.venv/lib/python3.12/site-packages/urllib3/connectionpool.py:534\u001b[0m, in \u001b[0;36mHTTPConnectionPool._make_request\u001b[0;34m(self, conn, method, url, body, headers, retries, timeout, chunked, response_conn, preload_content, decode_content, enforce_content_length)\u001b[0m\n\u001b[1;32m    532\u001b[0m \u001b[38;5;66;03m# Receive the response from the server\u001b[39;00m\n\u001b[1;32m    533\u001b[0m \u001b[38;5;28;01mtry\u001b[39;00m:\n\u001b[0;32m--> 534\u001b[0m     response \u001b[38;5;241m=\u001b[39m \u001b[43mconn\u001b[49m\u001b[38;5;241;43m.\u001b[39;49m\u001b[43mgetresponse\u001b[49m\u001b[43m(\u001b[49m\u001b[43m)\u001b[49m\n\u001b[1;32m    535\u001b[0m \u001b[38;5;28;01mexcept\u001b[39;00m (BaseSSLError, \u001b[38;5;167;01mOSError\u001b[39;00m) \u001b[38;5;28;01mas\u001b[39;00m e:\n\u001b[1;32m    536\u001b[0m     \u001b[38;5;28mself\u001b[39m\u001b[38;5;241m.\u001b[39m_raise_timeout(err\u001b[38;5;241m=\u001b[39me, url\u001b[38;5;241m=\u001b[39murl, timeout_value\u001b[38;5;241m=\u001b[39mread_timeout)\n",
      "File \u001b[0;32m~/Downloads/mainpy/.venv/lib/python3.12/site-packages/urllib3/connection.py:516\u001b[0m, in \u001b[0;36mHTTPConnection.getresponse\u001b[0;34m(self)\u001b[0m\n\u001b[1;32m    513\u001b[0m _shutdown \u001b[38;5;241m=\u001b[39m \u001b[38;5;28mgetattr\u001b[39m(\u001b[38;5;28mself\u001b[39m\u001b[38;5;241m.\u001b[39msock, \u001b[38;5;124m\"\u001b[39m\u001b[38;5;124mshutdown\u001b[39m\u001b[38;5;124m\"\u001b[39m, \u001b[38;5;28;01mNone\u001b[39;00m)\n\u001b[1;32m    515\u001b[0m \u001b[38;5;66;03m# Get the response from http.client.HTTPConnection\u001b[39;00m\n\u001b[0;32m--> 516\u001b[0m httplib_response \u001b[38;5;241m=\u001b[39m \u001b[38;5;28;43msuper\u001b[39;49m\u001b[43m(\u001b[49m\u001b[43m)\u001b[49m\u001b[38;5;241;43m.\u001b[39;49m\u001b[43mgetresponse\u001b[49m\u001b[43m(\u001b[49m\u001b[43m)\u001b[49m\n\u001b[1;32m    518\u001b[0m \u001b[38;5;28;01mtry\u001b[39;00m:\n\u001b[1;32m    519\u001b[0m     assert_header_parsing(httplib_response\u001b[38;5;241m.\u001b[39mmsg)\n",
      "File \u001b[0;32m/usr/lib/python3.12/http/client.py:1428\u001b[0m, in \u001b[0;36mHTTPConnection.getresponse\u001b[0;34m(self)\u001b[0m\n\u001b[1;32m   1426\u001b[0m \u001b[38;5;28;01mtry\u001b[39;00m:\n\u001b[1;32m   1427\u001b[0m     \u001b[38;5;28;01mtry\u001b[39;00m:\n\u001b[0;32m-> 1428\u001b[0m         \u001b[43mresponse\u001b[49m\u001b[38;5;241;43m.\u001b[39;49m\u001b[43mbegin\u001b[49m\u001b[43m(\u001b[49m\u001b[43m)\u001b[49m\n\u001b[1;32m   1429\u001b[0m     \u001b[38;5;28;01mexcept\u001b[39;00m \u001b[38;5;167;01mConnectionError\u001b[39;00m:\n\u001b[1;32m   1430\u001b[0m         \u001b[38;5;28mself\u001b[39m\u001b[38;5;241m.\u001b[39mclose()\n",
      "File \u001b[0;32m/usr/lib/python3.12/http/client.py:331\u001b[0m, in \u001b[0;36mHTTPResponse.begin\u001b[0;34m(self)\u001b[0m\n\u001b[1;32m    329\u001b[0m \u001b[38;5;66;03m# read until we get a non-100 response\u001b[39;00m\n\u001b[1;32m    330\u001b[0m \u001b[38;5;28;01mwhile\u001b[39;00m \u001b[38;5;28;01mTrue\u001b[39;00m:\n\u001b[0;32m--> 331\u001b[0m     version, status, reason \u001b[38;5;241m=\u001b[39m \u001b[38;5;28;43mself\u001b[39;49m\u001b[38;5;241;43m.\u001b[39;49m\u001b[43m_read_status\u001b[49m\u001b[43m(\u001b[49m\u001b[43m)\u001b[49m\n\u001b[1;32m    332\u001b[0m     \u001b[38;5;28;01mif\u001b[39;00m status \u001b[38;5;241m!=\u001b[39m CONTINUE:\n\u001b[1;32m    333\u001b[0m         \u001b[38;5;28;01mbreak\u001b[39;00m\n",
      "File \u001b[0;32m/usr/lib/python3.12/http/client.py:292\u001b[0m, in \u001b[0;36mHTTPResponse._read_status\u001b[0;34m(self)\u001b[0m\n\u001b[1;32m    291\u001b[0m \u001b[38;5;28;01mdef\u001b[39;00m\u001b[38;5;250m \u001b[39m\u001b[38;5;21m_read_status\u001b[39m(\u001b[38;5;28mself\u001b[39m):\n\u001b[0;32m--> 292\u001b[0m     line \u001b[38;5;241m=\u001b[39m \u001b[38;5;28mstr\u001b[39m(\u001b[38;5;28;43mself\u001b[39;49m\u001b[38;5;241;43m.\u001b[39;49m\u001b[43mfp\u001b[49m\u001b[38;5;241;43m.\u001b[39;49m\u001b[43mreadline\u001b[49m\u001b[43m(\u001b[49m\u001b[43m_MAXLINE\u001b[49m\u001b[43m \u001b[49m\u001b[38;5;241;43m+\u001b[39;49m\u001b[43m \u001b[49m\u001b[38;5;241;43m1\u001b[39;49m\u001b[43m)\u001b[49m, \u001b[38;5;124m\"\u001b[39m\u001b[38;5;124miso-8859-1\u001b[39m\u001b[38;5;124m\"\u001b[39m)\n\u001b[1;32m    293\u001b[0m     \u001b[38;5;28;01mif\u001b[39;00m \u001b[38;5;28mlen\u001b[39m(line) \u001b[38;5;241m>\u001b[39m _MAXLINE:\n\u001b[1;32m    294\u001b[0m         \u001b[38;5;28;01mraise\u001b[39;00m LineTooLong(\u001b[38;5;124m\"\u001b[39m\u001b[38;5;124mstatus line\u001b[39m\u001b[38;5;124m\"\u001b[39m)\n",
      "File \u001b[0;32m/usr/lib/python3.12/socket.py:707\u001b[0m, in \u001b[0;36mSocketIO.readinto\u001b[0;34m(self, b)\u001b[0m\n\u001b[1;32m    705\u001b[0m \u001b[38;5;28;01mwhile\u001b[39;00m \u001b[38;5;28;01mTrue\u001b[39;00m:\n\u001b[1;32m    706\u001b[0m     \u001b[38;5;28;01mtry\u001b[39;00m:\n\u001b[0;32m--> 707\u001b[0m         \u001b[38;5;28;01mreturn\u001b[39;00m \u001b[38;5;28;43mself\u001b[39;49m\u001b[38;5;241;43m.\u001b[39;49m\u001b[43m_sock\u001b[49m\u001b[38;5;241;43m.\u001b[39;49m\u001b[43mrecv_into\u001b[49m\u001b[43m(\u001b[49m\u001b[43mb\u001b[49m\u001b[43m)\u001b[49m\n\u001b[1;32m    708\u001b[0m     \u001b[38;5;28;01mexcept\u001b[39;00m timeout:\n\u001b[1;32m    709\u001b[0m         \u001b[38;5;28mself\u001b[39m\u001b[38;5;241m.\u001b[39m_timeout_occurred \u001b[38;5;241m=\u001b[39m \u001b[38;5;28;01mTrue\u001b[39;00m\n",
      "\u001b[0;31mKeyboardInterrupt\u001b[0m: "
     ]
    }
   ],
   "source": [
    "from tqdm import tqdm\n",
    "cnt = 0\n",
    "for i in tqdm(links):\n",
    "    get_table_one_mun(i[0], cnt)\n",
    "    cnt += 1"
   ]
  },
  {
   "cell_type": "code",
   "execution_count": 71,
   "metadata": {},
   "outputs": [
    {
     "ename": "NoSuchElementException",
     "evalue": "Message: no such element: Unable to locate element: {\"method\":\"css selector\",\"selector\":\"[name=\"p8008020\"]\"}\n  (Session info: chrome=131.0.6778.85); For documentation on this error, please visit: https://www.selenium.dev/documentation/webdriver/troubleshooting/errors#no-such-element-exception\nStacktrace:\n#0 0x5bd3e444231a <unknown>\n#1 0x5bd3e3f586e0 <unknown>\n#2 0x5bd3e3fa73e6 <unknown>\n#3 0x5bd3e3fa7681 <unknown>\n#4 0x5bd3e3fecb04 <unknown>\n#5 0x5bd3e3fcb48d <unknown>\n#6 0x5bd3e3fe9ed7 <unknown>\n#7 0x5bd3e3fcb203 <unknown>\n#8 0x5bd3e3f99cc0 <unknown>\n#9 0x5bd3e3f9ac9e <unknown>\n#10 0x5bd3e440fd0b <unknown>\n#11 0x5bd3e4413c92 <unknown>\n#12 0x5bd3e43fcb3c <unknown>\n#13 0x5bd3e4414807 <unknown>\n#14 0x5bd3e43e20df <unknown>\n#15 0x5bd3e4431578 <unknown>\n#16 0x5bd3e4431740 <unknown>\n#17 0x5bd3e4441196 <unknown>\n#18 0x71e2d329ca94 <unknown>\n#19 0x71e2d3329c3c <unknown>\n",
     "output_type": "error",
     "traceback": [
      "\u001b[0;31m---------------------------------------------------------------------------\u001b[0m",
      "\u001b[0;31mNoSuchElementException\u001b[0m                    Traceback (most recent call last)",
      "Cell \u001b[0;32mIn[71], line 1\u001b[0m\n\u001b[0;32m----> 1\u001b[0m search_elem \u001b[38;5;241m=\u001b[39m \u001b[43mdriver\u001b[49m\u001b[38;5;241;43m.\u001b[39;49m\u001b[43mfind_element\u001b[49m\u001b[43m(\u001b[49m\u001b[43mBy\u001b[49m\u001b[38;5;241;43m.\u001b[39;49m\u001b[43mNAME\u001b[49m\u001b[43m,\u001b[49m\u001b[43m \u001b[49m\u001b[38;5;124;43m'\u001b[39;49m\u001b[38;5;124;43mp8008020\u001b[39;49m\u001b[38;5;124;43m'\u001b[39;49m\u001b[43m)\u001b[49m \u001b[38;5;66;03m# name элемента, вроде у всех одинаковый\u001b[39;00m\n",
      "File \u001b[0;32m~/Downloads/mainpy/.venv/lib/python3.12/site-packages/selenium/webdriver/remote/webdriver.py:770\u001b[0m, in \u001b[0;36mWebDriver.find_element\u001b[0;34m(self, by, value)\u001b[0m\n\u001b[1;32m    767\u001b[0m         \u001b[38;5;28;01mraise\u001b[39;00m NoSuchElementException(\u001b[38;5;124mf\u001b[39m\u001b[38;5;124m\"\u001b[39m\u001b[38;5;124mCannot locate relative element with: \u001b[39m\u001b[38;5;132;01m{\u001b[39;00mby\u001b[38;5;241m.\u001b[39mroot\u001b[38;5;132;01m}\u001b[39;00m\u001b[38;5;124m\"\u001b[39m)\n\u001b[1;32m    768\u001b[0m     \u001b[38;5;28;01mreturn\u001b[39;00m elements[\u001b[38;5;241m0\u001b[39m]\n\u001b[0;32m--> 770\u001b[0m \u001b[38;5;28;01mreturn\u001b[39;00m \u001b[38;5;28;43mself\u001b[39;49m\u001b[38;5;241;43m.\u001b[39;49m\u001b[43mexecute\u001b[49m\u001b[43m(\u001b[49m\u001b[43mCommand\u001b[49m\u001b[38;5;241;43m.\u001b[39;49m\u001b[43mFIND_ELEMENT\u001b[49m\u001b[43m,\u001b[49m\u001b[43m \u001b[49m\u001b[43m{\u001b[49m\u001b[38;5;124;43m\"\u001b[39;49m\u001b[38;5;124;43musing\u001b[39;49m\u001b[38;5;124;43m\"\u001b[39;49m\u001b[43m:\u001b[49m\u001b[43m \u001b[49m\u001b[43mby\u001b[49m\u001b[43m,\u001b[49m\u001b[43m \u001b[49m\u001b[38;5;124;43m\"\u001b[39;49m\u001b[38;5;124;43mvalue\u001b[39;49m\u001b[38;5;124;43m\"\u001b[39;49m\u001b[43m:\u001b[49m\u001b[43m \u001b[49m\u001b[43mvalue\u001b[49m\u001b[43m}\u001b[49m\u001b[43m)\u001b[49m[\u001b[38;5;124m\"\u001b[39m\u001b[38;5;124mvalue\u001b[39m\u001b[38;5;124m\"\u001b[39m]\n",
      "File \u001b[0;32m~/Downloads/mainpy/.venv/lib/python3.12/site-packages/selenium/webdriver/remote/webdriver.py:384\u001b[0m, in \u001b[0;36mWebDriver.execute\u001b[0;34m(self, driver_command, params)\u001b[0m\n\u001b[1;32m    382\u001b[0m response \u001b[38;5;241m=\u001b[39m \u001b[38;5;28mself\u001b[39m\u001b[38;5;241m.\u001b[39mcommand_executor\u001b[38;5;241m.\u001b[39mexecute(driver_command, params)\n\u001b[1;32m    383\u001b[0m \u001b[38;5;28;01mif\u001b[39;00m response:\n\u001b[0;32m--> 384\u001b[0m     \u001b[38;5;28;43mself\u001b[39;49m\u001b[38;5;241;43m.\u001b[39;49m\u001b[43merror_handler\u001b[49m\u001b[38;5;241;43m.\u001b[39;49m\u001b[43mcheck_response\u001b[49m\u001b[43m(\u001b[49m\u001b[43mresponse\u001b[49m\u001b[43m)\u001b[49m\n\u001b[1;32m    385\u001b[0m     response[\u001b[38;5;124m\"\u001b[39m\u001b[38;5;124mvalue\u001b[39m\u001b[38;5;124m\"\u001b[39m] \u001b[38;5;241m=\u001b[39m \u001b[38;5;28mself\u001b[39m\u001b[38;5;241m.\u001b[39m_unwrap_value(response\u001b[38;5;241m.\u001b[39mget(\u001b[38;5;124m\"\u001b[39m\u001b[38;5;124mvalue\u001b[39m\u001b[38;5;124m\"\u001b[39m, \u001b[38;5;28;01mNone\u001b[39;00m))\n\u001b[1;32m    386\u001b[0m     \u001b[38;5;28;01mreturn\u001b[39;00m response\n",
      "File \u001b[0;32m~/Downloads/mainpy/.venv/lib/python3.12/site-packages/selenium/webdriver/remote/errorhandler.py:232\u001b[0m, in \u001b[0;36mErrorHandler.check_response\u001b[0;34m(self, response)\u001b[0m\n\u001b[1;32m    230\u001b[0m         alert_text \u001b[38;5;241m=\u001b[39m value[\u001b[38;5;124m\"\u001b[39m\u001b[38;5;124malert\u001b[39m\u001b[38;5;124m\"\u001b[39m]\u001b[38;5;241m.\u001b[39mget(\u001b[38;5;124m\"\u001b[39m\u001b[38;5;124mtext\u001b[39m\u001b[38;5;124m\"\u001b[39m)\n\u001b[1;32m    231\u001b[0m     \u001b[38;5;28;01mraise\u001b[39;00m exception_class(message, screen, stacktrace, alert_text)  \u001b[38;5;66;03m# type: ignore[call-arg]  # mypy is not smart enough here\u001b[39;00m\n\u001b[0;32m--> 232\u001b[0m \u001b[38;5;28;01mraise\u001b[39;00m exception_class(message, screen, stacktrace)\n",
      "\u001b[0;31mNoSuchElementException\u001b[0m: Message: no such element: Unable to locate element: {\"method\":\"css selector\",\"selector\":\"[name=\"p8008020\"]\"}\n  (Session info: chrome=131.0.6778.85); For documentation on this error, please visit: https://www.selenium.dev/documentation/webdriver/troubleshooting/errors#no-such-element-exception\nStacktrace:\n#0 0x5bd3e444231a <unknown>\n#1 0x5bd3e3f586e0 <unknown>\n#2 0x5bd3e3fa73e6 <unknown>\n#3 0x5bd3e3fa7681 <unknown>\n#4 0x5bd3e3fecb04 <unknown>\n#5 0x5bd3e3fcb48d <unknown>\n#6 0x5bd3e3fe9ed7 <unknown>\n#7 0x5bd3e3fcb203 <unknown>\n#8 0x5bd3e3f99cc0 <unknown>\n#9 0x5bd3e3f9ac9e <unknown>\n#10 0x5bd3e440fd0b <unknown>\n#11 0x5bd3e4413c92 <unknown>\n#12 0x5bd3e43fcb3c <unknown>\n#13 0x5bd3e4414807 <unknown>\n#14 0x5bd3e43e20df <unknown>\n#15 0x5bd3e4431578 <unknown>\n#16 0x5bd3e4431740 <unknown>\n#17 0x5bd3e4441196 <unknown>\n#18 0x71e2d329ca94 <unknown>\n#19 0x71e2d3329c3c <unknown>\n"
     ]
    }
   ],
   "source": [
    "# search_elem = driver.find_element(By.NAME, 'p8008020') # name элемента, вроде у всех одинаковый"
   ]
  },
  {
   "cell_type": "markdown",
   "metadata": {},
   "source": [
    "в Костроме критерия с аварийным жильем"
   ]
  },
  {
   "cell_type": "code",
   "execution_count": null,
   "metadata": {},
   "outputs": [],
   "source": [
    "# window_handles = driver.window_handles\n",
    "#         # # Переключаемся на последнюю открытую вкладку (новую)\n",
    "# driver.switch_to.window(window_handles[-1])"
   ]
  }
 ],
 "metadata": {
  "kernelspec": {
   "display_name": ".venv",
   "language": "python",
   "name": "python3"
  },
  "language_info": {
   "codemirror_mode": {
    "name": "ipython",
    "version": 3
   },
   "file_extension": ".py",
   "mimetype": "text/x-python",
   "name": "python",
   "nbconvert_exporter": "python",
   "pygments_lexer": "ipython3",
   "version": "3.12.3"
  }
 },
 "nbformat": 4,
 "nbformat_minor": 2
}
