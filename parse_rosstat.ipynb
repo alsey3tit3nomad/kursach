{
 "cells": [
  {
   "cell_type": "code",
   "execution_count": 1,
   "metadata": {},
   "outputs": [
    {
     "name": "stdout",
     "output_type": "stream",
     "text": [
      "5.3.0\n"
     ]
    },
    {
     "name": "stderr",
     "output_type": "stream",
     "text": [
      "There was an error managing chromedriver (error decoding response body); using driver found in the cache\n"
     ]
    }
   ],
   "source": [
    "import pandas as pd\n",
    "import selenium\n",
    "import requests\n",
    "from bs4 import BeautifulSoup\n",
    "import lxml\n",
    "from selenium.webdriver.common.by import By\n",
    "print(lxml.__version__)\n",
    "from selenium import webdriver\n",
    "from selenium.webdriver.chrome.service import Service\n",
    "from webdriver_manager.chrome import ChromeDriverManager\n",
    "from time import sleep\n",
    "service = Service(ChromeDriverManager().install())\n",
    "driver = webdriver.Chrome()\n"
   ]
  },
  {
   "cell_type": "code",
   "execution_count": 7,
   "metadata": {},
   "outputs": [
    {
     "name": "stdout",
     "output_type": "stream",
     "text": [
      "[<selenium.webdriver.remote.webelement.WebElement (session=\"5699cf8cc6ee1447ae96360c090841e2\", element=\"f.3E0F76E15CACD9123192E94E2CE74CDB.d.DDF7075FB2A7961721B86C5B3B512B4D.e.10\")>, <selenium.webdriver.remote.webelement.WebElement (session=\"5699cf8cc6ee1447ae96360c090841e2\", element=\"f.3E0F76E15CACD9123192E94E2CE74CDB.d.DDF7075FB2A7961721B86C5B3B512B4D.e.11\")>, <selenium.webdriver.remote.webelement.WebElement (session=\"5699cf8cc6ee1447ae96360c090841e2\", element=\"f.3E0F76E15CACD9123192E94E2CE74CDB.d.DDF7075FB2A7961721B86C5B3B512B4D.e.12\")>, <selenium.webdriver.remote.webelement.WebElement (session=\"5699cf8cc6ee1447ae96360c090841e2\", element=\"f.3E0F76E15CACD9123192E94E2CE74CDB.d.DDF7075FB2A7961721B86C5B3B512B4D.e.13\")>, <selenium.webdriver.remote.webelement.WebElement (session=\"5699cf8cc6ee1447ae96360c090841e2\", element=\"f.3E0F76E15CACD9123192E94E2CE74CDB.d.DDF7075FB2A7961721B86C5B3B512B4D.e.14\")>, <selenium.webdriver.remote.webelement.WebElement (session=\"5699cf8cc6ee1447ae96360c090841e2\", element=\"f.3E0F76E15CACD9123192E94E2CE74CDB.d.DDF7075FB2A7961721B86C5B3B512B4D.e.15\")>, <selenium.webdriver.remote.webelement.WebElement (session=\"5699cf8cc6ee1447ae96360c090841e2\", element=\"f.3E0F76E15CACD9123192E94E2CE74CDB.d.DDF7075FB2A7961721B86C5B3B512B4D.e.16\")>, <selenium.webdriver.remote.webelement.WebElement (session=\"5699cf8cc6ee1447ae96360c090841e2\", element=\"f.3E0F76E15CACD9123192E94E2CE74CDB.d.DDF7075FB2A7961721B86C5B3B512B4D.e.17\")>, <selenium.webdriver.remote.webelement.WebElement (session=\"5699cf8cc6ee1447ae96360c090841e2\", element=\"f.3E0F76E15CACD9123192E94E2CE74CDB.d.DDF7075FB2A7961721B86C5B3B512B4D.e.18\")>, <selenium.webdriver.remote.webelement.WebElement (session=\"5699cf8cc6ee1447ae96360c090841e2\", element=\"f.3E0F76E15CACD9123192E94E2CE74CDB.d.DDF7075FB2A7961721B86C5B3B512B4D.e.19\")>, <selenium.webdriver.remote.webelement.WebElement (session=\"5699cf8cc6ee1447ae96360c090841e2\", element=\"f.3E0F76E15CACD9123192E94E2CE74CDB.d.DDF7075FB2A7961721B86C5B3B512B4D.e.20\")>, <selenium.webdriver.remote.webelement.WebElement (session=\"5699cf8cc6ee1447ae96360c090841e2\", element=\"f.3E0F76E15CACD9123192E94E2CE74CDB.d.DDF7075FB2A7961721B86C5B3B512B4D.e.21\")>, <selenium.webdriver.remote.webelement.WebElement (session=\"5699cf8cc6ee1447ae96360c090841e2\", element=\"f.3E0F76E15CACD9123192E94E2CE74CDB.d.DDF7075FB2A7961721B86C5B3B512B4D.e.22\")>, <selenium.webdriver.remote.webelement.WebElement (session=\"5699cf8cc6ee1447ae96360c090841e2\", element=\"f.3E0F76E15CACD9123192E94E2CE74CDB.d.DDF7075FB2A7961721B86C5B3B512B4D.e.23\")>, <selenium.webdriver.remote.webelement.WebElement (session=\"5699cf8cc6ee1447ae96360c090841e2\", element=\"f.3E0F76E15CACD9123192E94E2CE74CDB.d.DDF7075FB2A7961721B86C5B3B512B4D.e.24\")>, <selenium.webdriver.remote.webelement.WebElement (session=\"5699cf8cc6ee1447ae96360c090841e2\", element=\"f.3E0F76E15CACD9123192E94E2CE74CDB.d.DDF7075FB2A7961721B86C5B3B512B4D.e.25\")>, <selenium.webdriver.remote.webelement.WebElement (session=\"5699cf8cc6ee1447ae96360c090841e2\", element=\"f.3E0F76E15CACD9123192E94E2CE74CDB.d.DDF7075FB2A7961721B86C5B3B512B4D.e.26\")>, <selenium.webdriver.remote.webelement.WebElement (session=\"5699cf8cc6ee1447ae96360c090841e2\", element=\"f.3E0F76E15CACD9123192E94E2CE74CDB.d.DDF7075FB2A7961721B86C5B3B512B4D.e.27\")>, <selenium.webdriver.remote.webelement.WebElement (session=\"5699cf8cc6ee1447ae96360c090841e2\", element=\"f.3E0F76E15CACD9123192E94E2CE74CDB.d.DDF7075FB2A7961721B86C5B3B512B4D.e.28\")>, <selenium.webdriver.remote.webelement.WebElement (session=\"5699cf8cc6ee1447ae96360c090841e2\", element=\"f.3E0F76E15CACD9123192E94E2CE74CDB.d.DDF7075FB2A7961721B86C5B3B512B4D.e.29\")>, <selenium.webdriver.remote.webelement.WebElement (session=\"5699cf8cc6ee1447ae96360c090841e2\", element=\"f.3E0F76E15CACD9123192E94E2CE74CDB.d.DDF7075FB2A7961721B86C5B3B512B4D.e.30\")>, <selenium.webdriver.remote.webelement.WebElement (session=\"5699cf8cc6ee1447ae96360c090841e2\", element=\"f.3E0F76E15CACD9123192E94E2CE74CDB.d.DDF7075FB2A7961721B86C5B3B512B4D.e.31\")>, <selenium.webdriver.remote.webelement.WebElement (session=\"5699cf8cc6ee1447ae96360c090841e2\", element=\"f.3E0F76E15CACD9123192E94E2CE74CDB.d.DDF7075FB2A7961721B86C5B3B512B4D.e.32\")>, <selenium.webdriver.remote.webelement.WebElement (session=\"5699cf8cc6ee1447ae96360c090841e2\", element=\"f.3E0F76E15CACD9123192E94E2CE74CDB.d.DDF7075FB2A7961721B86C5B3B512B4D.e.33\")>, <selenium.webdriver.remote.webelement.WebElement (session=\"5699cf8cc6ee1447ae96360c090841e2\", element=\"f.3E0F76E15CACD9123192E94E2CE74CDB.d.DDF7075FB2A7961721B86C5B3B512B4D.e.34\")>, <selenium.webdriver.remote.webelement.WebElement (session=\"5699cf8cc6ee1447ae96360c090841e2\", element=\"f.3E0F76E15CACD9123192E94E2CE74CDB.d.DDF7075FB2A7961721B86C5B3B512B4D.e.35\")>, <selenium.webdriver.remote.webelement.WebElement (session=\"5699cf8cc6ee1447ae96360c090841e2\", element=\"f.3E0F76E15CACD9123192E94E2CE74CDB.d.DDF7075FB2A7961721B86C5B3B512B4D.e.36\")>, <selenium.webdriver.remote.webelement.WebElement (session=\"5699cf8cc6ee1447ae96360c090841e2\", element=\"f.3E0F76E15CACD9123192E94E2CE74CDB.d.DDF7075FB2A7961721B86C5B3B512B4D.e.37\")>, <selenium.webdriver.remote.webelement.WebElement (session=\"5699cf8cc6ee1447ae96360c090841e2\", element=\"f.3E0F76E15CACD9123192E94E2CE74CDB.d.DDF7075FB2A7961721B86C5B3B512B4D.e.38\")>, <selenium.webdriver.remote.webelement.WebElement (session=\"5699cf8cc6ee1447ae96360c090841e2\", element=\"f.3E0F76E15CACD9123192E94E2CE74CDB.d.DDF7075FB2A7961721B86C5B3B512B4D.e.39\")>, <selenium.webdriver.remote.webelement.WebElement (session=\"5699cf8cc6ee1447ae96360c090841e2\", element=\"f.3E0F76E15CACD9123192E94E2CE74CDB.d.DDF7075FB2A7961721B86C5B3B512B4D.e.40\")>, <selenium.webdriver.remote.webelement.WebElement (session=\"5699cf8cc6ee1447ae96360c090841e2\", element=\"f.3E0F76E15CACD9123192E94E2CE74CDB.d.DDF7075FB2A7961721B86C5B3B512B4D.e.41\")>, <selenium.webdriver.remote.webelement.WebElement (session=\"5699cf8cc6ee1447ae96360c090841e2\", element=\"f.3E0F76E15CACD9123192E94E2CE74CDB.d.DDF7075FB2A7961721B86C5B3B512B4D.e.42\")>, <selenium.webdriver.remote.webelement.WebElement (session=\"5699cf8cc6ee1447ae96360c090841e2\", element=\"f.3E0F76E15CACD9123192E94E2CE74CDB.d.DDF7075FB2A7961721B86C5B3B512B4D.e.43\")>, <selenium.webdriver.remote.webelement.WebElement (session=\"5699cf8cc6ee1447ae96360c090841e2\", element=\"f.3E0F76E15CACD9123192E94E2CE74CDB.d.DDF7075FB2A7961721B86C5B3B512B4D.e.44\")>, <selenium.webdriver.remote.webelement.WebElement (session=\"5699cf8cc6ee1447ae96360c090841e2\", element=\"f.3E0F76E15CACD9123192E94E2CE74CDB.d.DDF7075FB2A7961721B86C5B3B512B4D.e.45\")>, <selenium.webdriver.remote.webelement.WebElement (session=\"5699cf8cc6ee1447ae96360c090841e2\", element=\"f.3E0F76E15CACD9123192E94E2CE74CDB.d.DDF7075FB2A7961721B86C5B3B512B4D.e.46\")>, <selenium.webdriver.remote.webelement.WebElement (session=\"5699cf8cc6ee1447ae96360c090841e2\", element=\"f.3E0F76E15CACD9123192E94E2CE74CDB.d.DDF7075FB2A7961721B86C5B3B512B4D.e.47\")>, <selenium.webdriver.remote.webelement.WebElement (session=\"5699cf8cc6ee1447ae96360c090841e2\", element=\"f.3E0F76E15CACD9123192E94E2CE74CDB.d.DDF7075FB2A7961721B86C5B3B512B4D.e.48\")>, <selenium.webdriver.remote.webelement.WebElement (session=\"5699cf8cc6ee1447ae96360c090841e2\", element=\"f.3E0F76E15CACD9123192E94E2CE74CDB.d.DDF7075FB2A7961721B86C5B3B512B4D.e.49\")>, <selenium.webdriver.remote.webelement.WebElement (session=\"5699cf8cc6ee1447ae96360c090841e2\", element=\"f.3E0F76E15CACD9123192E94E2CE74CDB.d.DDF7075FB2A7961721B86C5B3B512B4D.e.50\")>, <selenium.webdriver.remote.webelement.WebElement (session=\"5699cf8cc6ee1447ae96360c090841e2\", element=\"f.3E0F76E15CACD9123192E94E2CE74CDB.d.DDF7075FB2A7961721B86C5B3B512B4D.e.51\")>, <selenium.webdriver.remote.webelement.WebElement (session=\"5699cf8cc6ee1447ae96360c090841e2\", element=\"f.3E0F76E15CACD9123192E94E2CE74CDB.d.DDF7075FB2A7961721B86C5B3B512B4D.e.52\")>, <selenium.webdriver.remote.webelement.WebElement (session=\"5699cf8cc6ee1447ae96360c090841e2\", element=\"f.3E0F76E15CACD9123192E94E2CE74CDB.d.DDF7075FB2A7961721B86C5B3B512B4D.e.53\")>, <selenium.webdriver.remote.webelement.WebElement (session=\"5699cf8cc6ee1447ae96360c090841e2\", element=\"f.3E0F76E15CACD9123192E94E2CE74CDB.d.DDF7075FB2A7961721B86C5B3B512B4D.e.54\")>, <selenium.webdriver.remote.webelement.WebElement (session=\"5699cf8cc6ee1447ae96360c090841e2\", element=\"f.3E0F76E15CACD9123192E94E2CE74CDB.d.DDF7075FB2A7961721B86C5B3B512B4D.e.55\")>, <selenium.webdriver.remote.webelement.WebElement (session=\"5699cf8cc6ee1447ae96360c090841e2\", element=\"f.3E0F76E15CACD9123192E94E2CE74CDB.d.DDF7075FB2A7961721B86C5B3B512B4D.e.56\")>, <selenium.webdriver.remote.webelement.WebElement (session=\"5699cf8cc6ee1447ae96360c090841e2\", element=\"f.3E0F76E15CACD9123192E94E2CE74CDB.d.DDF7075FB2A7961721B86C5B3B512B4D.e.9\")>, <selenium.webdriver.remote.webelement.WebElement (session=\"5699cf8cc6ee1447ae96360c090841e2\", element=\"f.3E0F76E15CACD9123192E94E2CE74CDB.d.DDF7075FB2A7961721B86C5B3B512B4D.e.57\")>, <selenium.webdriver.remote.webelement.WebElement (session=\"5699cf8cc6ee1447ae96360c090841e2\", element=\"f.3E0F76E15CACD9123192E94E2CE74CDB.d.DDF7075FB2A7961721B86C5B3B512B4D.e.58\")>, <selenium.webdriver.remote.webelement.WebElement (session=\"5699cf8cc6ee1447ae96360c090841e2\", element=\"f.3E0F76E15CACD9123192E94E2CE74CDB.d.DDF7075FB2A7961721B86C5B3B512B4D.e.59\")>, <selenium.webdriver.remote.webelement.WebElement (session=\"5699cf8cc6ee1447ae96360c090841e2\", element=\"f.3E0F76E15CACD9123192E94E2CE74CDB.d.DDF7075FB2A7961721B86C5B3B512B4D.e.60\")>, <selenium.webdriver.remote.webelement.WebElement (session=\"5699cf8cc6ee1447ae96360c090841e2\", element=\"f.3E0F76E15CACD9123192E94E2CE74CDB.d.DDF7075FB2A7961721B86C5B3B512B4D.e.61\")>, <selenium.webdriver.remote.webelement.WebElement (session=\"5699cf8cc6ee1447ae96360c090841e2\", element=\"f.3E0F76E15CACD9123192E94E2CE74CDB.d.DDF7075FB2A7961721B86C5B3B512B4D.e.62\")>, <selenium.webdriver.remote.webelement.WebElement (session=\"5699cf8cc6ee1447ae96360c090841e2\", element=\"f.3E0F76E15CACD9123192E94E2CE74CDB.d.DDF7075FB2A7961721B86C5B3B512B4D.e.63\")>, <selenium.webdriver.remote.webelement.WebElement (session=\"5699cf8cc6ee1447ae96360c090841e2\", element=\"f.3E0F76E15CACD9123192E94E2CE74CDB.d.DDF7075FB2A7961721B86C5B3B512B4D.e.64\")>, <selenium.webdriver.remote.webelement.WebElement (session=\"5699cf8cc6ee1447ae96360c090841e2\", element=\"f.3E0F76E15CACD9123192E94E2CE74CDB.d.DDF7075FB2A7961721B86C5B3B512B4D.e.65\")>, <selenium.webdriver.remote.webelement.WebElement (session=\"5699cf8cc6ee1447ae96360c090841e2\", element=\"f.3E0F76E15CACD9123192E94E2CE74CDB.d.DDF7075FB2A7961721B86C5B3B512B4D.e.66\")>, <selenium.webdriver.remote.webelement.WebElement (session=\"5699cf8cc6ee1447ae96360c090841e2\", element=\"f.3E0F76E15CACD9123192E94E2CE74CDB.d.DDF7075FB2A7961721B86C5B3B512B4D.e.67\")>, <selenium.webdriver.remote.webelement.WebElement (session=\"5699cf8cc6ee1447ae96360c090841e2\", element=\"f.3E0F76E15CACD9123192E94E2CE74CDB.d.DDF7075FB2A7961721B86C5B3B512B4D.e.8\")>, <selenium.webdriver.remote.webelement.WebElement (session=\"5699cf8cc6ee1447ae96360c090841e2\", element=\"f.3E0F76E15CACD9123192E94E2CE74CDB.d.DDF7075FB2A7961721B86C5B3B512B4D.e.68\")>, <selenium.webdriver.remote.webelement.WebElement (session=\"5699cf8cc6ee1447ae96360c090841e2\", element=\"f.3E0F76E15CACD9123192E94E2CE74CDB.d.DDF7075FB2A7961721B86C5B3B512B4D.e.69\")>, <selenium.webdriver.remote.webelement.WebElement (session=\"5699cf8cc6ee1447ae96360c090841e2\", element=\"f.3E0F76E15CACD9123192E94E2CE74CDB.d.DDF7075FB2A7961721B86C5B3B512B4D.e.70\")>, <selenium.webdriver.remote.webelement.WebElement (session=\"5699cf8cc6ee1447ae96360c090841e2\", element=\"f.3E0F76E15CACD9123192E94E2CE74CDB.d.DDF7075FB2A7961721B86C5B3B512B4D.e.71\")>, <selenium.webdriver.remote.webelement.WebElement (session=\"5699cf8cc6ee1447ae96360c090841e2\", element=\"f.3E0F76E15CACD9123192E94E2CE74CDB.d.DDF7075FB2A7961721B86C5B3B512B4D.e.72\")>, <selenium.webdriver.remote.webelement.WebElement (session=\"5699cf8cc6ee1447ae96360c090841e2\", element=\"f.3E0F76E15CACD9123192E94E2CE74CDB.d.DDF7075FB2A7961721B86C5B3B512B4D.e.73\")>, <selenium.webdriver.remote.webelement.WebElement (session=\"5699cf8cc6ee1447ae96360c090841e2\", element=\"f.3E0F76E15CACD9123192E94E2CE74CDB.d.DDF7075FB2A7961721B86C5B3B512B4D.e.74\")>, <selenium.webdriver.remote.webelement.WebElement (session=\"5699cf8cc6ee1447ae96360c090841e2\", element=\"f.3E0F76E15CACD9123192E94E2CE74CDB.d.DDF7075FB2A7961721B86C5B3B512B4D.e.75\")>, <selenium.webdriver.remote.webelement.WebElement (session=\"5699cf8cc6ee1447ae96360c090841e2\", element=\"f.3E0F76E15CACD9123192E94E2CE74CDB.d.DDF7075FB2A7961721B86C5B3B512B4D.e.76\")>, <selenium.webdriver.remote.webelement.WebElement (session=\"5699cf8cc6ee1447ae96360c090841e2\", element=\"f.3E0F76E15CACD9123192E94E2CE74CDB.d.DDF7075FB2A7961721B86C5B3B512B4D.e.77\")>, <selenium.webdriver.remote.webelement.WebElement (session=\"5699cf8cc6ee1447ae96360c090841e2\", element=\"f.3E0F76E15CACD9123192E94E2CE74CDB.d.DDF7075FB2A7961721B86C5B3B512B4D.e.78\")>, <selenium.webdriver.remote.webelement.WebElement (session=\"5699cf8cc6ee1447ae96360c090841e2\", element=\"f.3E0F76E15CACD9123192E94E2CE74CDB.d.DDF7075FB2A7961721B86C5B3B512B4D.e.79\")>, <selenium.webdriver.remote.webelement.WebElement (session=\"5699cf8cc6ee1447ae96360c090841e2\", element=\"f.3E0F76E15CACD9123192E94E2CE74CDB.d.DDF7075FB2A7961721B86C5B3B512B4D.e.80\")>, <selenium.webdriver.remote.webelement.WebElement (session=\"5699cf8cc6ee1447ae96360c090841e2\", element=\"f.3E0F76E15CACD9123192E94E2CE74CDB.d.DDF7075FB2A7961721B86C5B3B512B4D.e.81\")>, <selenium.webdriver.remote.webelement.WebElement (session=\"5699cf8cc6ee1447ae96360c090841e2\", element=\"f.3E0F76E15CACD9123192E94E2CE74CDB.d.DDF7075FB2A7961721B86C5B3B512B4D.e.82\")>, <selenium.webdriver.remote.webelement.WebElement (session=\"5699cf8cc6ee1447ae96360c090841e2\", element=\"f.3E0F76E15CACD9123192E94E2CE74CDB.d.DDF7075FB2A7961721B86C5B3B512B4D.e.83\")>, <selenium.webdriver.remote.webelement.WebElement (session=\"5699cf8cc6ee1447ae96360c090841e2\", element=\"f.3E0F76E15CACD9123192E94E2CE74CDB.d.DDF7075FB2A7961721B86C5B3B512B4D.e.84\")>, <selenium.webdriver.remote.webelement.WebElement (session=\"5699cf8cc6ee1447ae96360c090841e2\", element=\"f.3E0F76E15CACD9123192E94E2CE74CDB.d.DDF7075FB2A7961721B86C5B3B512B4D.e.85\")>, <selenium.webdriver.remote.webelement.WebElement (session=\"5699cf8cc6ee1447ae96360c090841e2\", element=\"f.3E0F76E15CACD9123192E94E2CE74CDB.d.DDF7075FB2A7961721B86C5B3B512B4D.e.86\")>, <selenium.webdriver.remote.webelement.WebElement (session=\"5699cf8cc6ee1447ae96360c090841e2\", element=\"f.3E0F76E15CACD9123192E94E2CE74CDB.d.DDF7075FB2A7961721B86C5B3B512B4D.e.87\")>, <selenium.webdriver.remote.webelement.WebElement (session=\"5699cf8cc6ee1447ae96360c090841e2\", element=\"f.3E0F76E15CACD9123192E94E2CE74CDB.d.DDF7075FB2A7961721B86C5B3B512B4D.e.88\")>, <selenium.webdriver.remote.webelement.WebElement (session=\"5699cf8cc6ee1447ae96360c090841e2\", element=\"f.3E0F76E15CACD9123192E94E2CE74CDB.d.DDF7075FB2A7961721B86C5B3B512B4D.e.89\")>, <selenium.webdriver.remote.webelement.WebElement (session=\"5699cf8cc6ee1447ae96360c090841e2\", element=\"f.3E0F76E15CACD9123192E94E2CE74CDB.d.DDF7075FB2A7961721B86C5B3B512B4D.e.90\")>]\n"
     ]
    }
   ],
   "source": [
    "ref = 'https://rosstat.gov.ru/storage/mediabank/munst.htm'\n",
    "driver.get(ref)\n",
    "driver.implicitly_wait(0.5)\n",
    "driver.maximize_window()\n",
    "driver.implicitly_wait(1)\n",
    "\n",
    "region_links = driver.find_elements(By.XPATH, \"//a[contains(@href, 'munst')]\")\n",
    "print(region_links)\n",
    "links = []\n",
    "for link in region_links:\n",
    "    links.append((link.get_attribute('href'), link.text))\n"
   ]
  },
  {
   "cell_type": "code",
   "execution_count": 8,
   "metadata": {},
   "outputs": [],
   "source": [
    "links = links[1:]"
   ]
  },
  {
   "cell_type": "code",
   "execution_count": 4,
   "metadata": {},
   "outputs": [
    {
     "name": "stdout",
     "output_type": "stream",
     "text": [
      "[]\n"
     ]
    }
   ],
   "source": [
    "print(links)\n"
   ]
  },
  {
   "cell_type": "code",
   "execution_count": 9,
   "metadata": {},
   "outputs": [],
   "source": [
    "def get_table_one_mun(link, cnt):\n",
    "    name_mun = link[1]\n",
    "    link = link[0]\n",
    "    try:\n",
    "        # print(1)\n",
    "        if cnt == 0:\n",
    "\n",
    "            driver.implicitly_wait(0.5)\n",
    "            driver.maximize_window()\n",
    "            driver.implicitly_wait(1)\n",
    "            # print('cnt=0')\n",
    "        else:\n",
    "            window_handles = driver.window_handles\n",
    "            # # Переключаемся на последнюю открытую вкладку (новую)\n",
    "            driver.switch_to.window(window_handles[-1])\n",
    "            # print('cnt=1')\n",
    "        driver.get(link)\n",
    "        search_dir = driver.find_element(By.LINK_TEXT, 'Коммунальная сфера') # сюда вставлять название папки со сферой, которую парсим на данный момент\n",
    "        search_dir.click()\n",
    "        search_elem = driver.find_element(By.NAME, 'p8008025') # сюда вставлять id для критерий\n",
    "        search_elem.click()\n",
    "        button_next = driver.find_element(By.ID, 'Knopka')\n",
    "        button_next.click()\n",
    "        all_mun = driver.find_element(By.NAME, 'munr_chk')\n",
    "        all_mun.click()\n",
    "\n",
    "\n",
    "        mun_obr = driver.find_element(By.NAME, 'oktmo_chk')\n",
    "        mun_obr.click()\n",
    "        chk_years = driver.find_element(By.NAME, 'god_chk')\n",
    "        chk_years.click()\n",
    "        try:\n",
    "            type_pos = driver.find_element(By.XPATH, \"//select//option[contains(text(), 'Муниципальный район')]\")\n",
    "        except:\n",
    "            type_pos = driver.find_element(By.XPATH, \"//select//option[contains(text(), 'Муниципальные районы')]\")\n",
    "        type_pos.click()\n",
    "        type_pos.click()\n",
    "        aa = driver.find_element(By.NAME, 'STbl')\n",
    "        aa.click()\n",
    "        window_handles = driver.window_handles\n",
    "        # # Переключаемся на последнюю открытую вкладку (новую)\n",
    "        driver.switch_to.window(window_handles[-1])\n",
    "        a = driver.find_element(By.NAME, 'Format')\n",
    "        a.click()\n",
    "        b = driver.find_element(By.XPATH, '//select//option[contains(text(), \"CSV\")]')\n",
    "        b.click()\n",
    "        c = driver.find_element(By.NAME, 'showtbl0')\n",
    "        c.click()\n",
    "        # name_file = f'Report ({cnt}).csv' if cnt > 0 else 'Report.csv'\n",
    "        # curr_path = '/home/nomad/Downloads' + name_file\n",
    "        # df = pd.read_csv(curr_path, sep=';', encoding='cp1251', skiprows=2, header=0, index_col=0)\n",
    "\n",
    "        # # Теперь вы можете выполнять действия на новой вкладке\n",
    "        # # Например, получить заголовок страницы\n",
    "        # print(driver.title)\n",
    "\n",
    "        # # Закрытие новой вкладки (по желанию)\n",
    "\n",
    "        # # Переключение обратно на первую вкладку\n",
    "        # # driver.switch_to.window(window_handles[0])\n",
    "        driver.close()\n",
    "        # driver.quit()\n",
    "    except Exception as error:\n",
    "        print(error)\n",
    "        print(name_mun)"
   ]
  },
  {
   "cell_type": "code",
   "execution_count": 6,
   "metadata": {},
   "outputs": [
    {
     "ename": "IndexError",
     "evalue": "list index out of range",
     "output_type": "error",
     "traceback": [
      "\u001b[0;31m---------------------------------------------------------------------------\u001b[0m",
      "\u001b[0;31mIndexError\u001b[0m                                Traceback (most recent call last)",
      "Cell \u001b[0;32mIn[6], line 1\u001b[0m\n\u001b[0;32m----> 1\u001b[0m \u001b[38;5;28mprint\u001b[39m(\u001b[43mlinks\u001b[49m\u001b[43m[\u001b[49m\u001b[38;5;241;43m0\u001b[39;49m\u001b[43m]\u001b[49m[\u001b[38;5;241m0\u001b[39m])\n",
      "\u001b[0;31mIndexError\u001b[0m: list index out of range"
     ]
    }
   ],
   "source": [
    "print(links[0][0])"
   ]
  },
  {
   "cell_type": "code",
   "execution_count": 10,
   "metadata": {},
   "outputs": [],
   "source": [
    "driver.get(links[0][0])"
   ]
  },
  {
   "cell_type": "code",
   "execution_count": 20,
   "metadata": {},
   "outputs": [
    {
     "name": "stderr",
     "output_type": "stream",
     "text": [
      "  0%|          | 0/82 [00:00<?, ?it/s]"
     ]
    },
    {
     "name": "stdout",
     "output_type": "stream",
     "text": [
      "0\n"
     ]
    },
    {
     "name": "stderr",
     "output_type": "stream",
     "text": [
      "  1%|          | 1/82 [00:05<07:05,  5.25s/it]"
     ]
    },
    {
     "name": "stdout",
     "output_type": "stream",
     "text": [
      "Message: no such element: Unable to locate element: {\"method\":\"link text\",\"selector\":\"Коммунальная сфера\"}\n",
      "  (Session info: chrome=133.0.6943.53); For documentation on this error, please visit: https://www.selenium.dev/documentation/webdriver/troubleshooting/errors#no-such-element-exception\n",
      "Stacktrace:\n",
      "#0 0x5cb12edacbba <unknown>\n",
      "#1 0x5cb12e84a790 <unknown>\n",
      "#2 0x5cb12e89bc80 <unknown>\n",
      "#3 0x5cb12e89be01 <unknown>\n",
      "#4 0x5cb12e8ea944 <unknown>\n",
      "#5 0x5cb12e8c1a7d <unknown>\n",
      "#6 0x5cb12e8e7ccc <unknown>\n",
      "#7 0x5cb12e8c1823 <unknown>\n",
      "#8 0x5cb12e88da88 <unknown>\n",
      "#9 0x5cb12e88ebf1 <unknown>\n",
      "#10 0x5cb12ed7615b <unknown>\n",
      "#11 0x5cb12ed7a0e2 <unknown>\n",
      "#12 0x5cb12ed6301c <unknown>\n",
      "#13 0x5cb12ed7acd4 <unknown>\n",
      "#14 0x5cb12ed4748f <unknown>\n",
      "#15 0x5cb12ed9b4f8 <unknown>\n",
      "#16 0x5cb12ed9b6c9 <unknown>\n",
      "#17 0x5cb12edaba36 <unknown>\n",
      "#18 0x7bc93489caa4 <unknown>\n",
      "#19 0x7bc934929c3c <unknown>\n",
      "\n",
      "Белгородская область\n",
      "1\n"
     ]
    },
    {
     "name": "stderr",
     "output_type": "stream",
     "text": [
      "  2%|▏         | 2/82 [00:06<04:07,  3.10s/it]"
     ]
    },
    {
     "name": "stdout",
     "output_type": "stream",
     "text": [
      "Message: no such element: Unable to locate element: {\"method\":\"link text\",\"selector\":\"Коммунальная сфера\"}\n",
      "  (Session info: chrome=133.0.6943.53); For documentation on this error, please visit: https://www.selenium.dev/documentation/webdriver/troubleshooting/errors#no-such-element-exception\n",
      "Stacktrace:\n",
      "#0 0x5cb12edacbba <unknown>\n",
      "#1 0x5cb12e84a790 <unknown>\n",
      "#2 0x5cb12e89bc80 <unknown>\n",
      "#3 0x5cb12e89be01 <unknown>\n",
      "#4 0x5cb12e8ea944 <unknown>\n",
      "#5 0x5cb12e8c1a7d <unknown>\n",
      "#6 0x5cb12e8e7ccc <unknown>\n",
      "#7 0x5cb12e8c1823 <unknown>\n",
      "#8 0x5cb12e88da88 <unknown>\n",
      "#9 0x5cb12e88ebf1 <unknown>\n",
      "#10 0x5cb12ed7615b <unknown>\n",
      "#11 0x5cb12ed7a0e2 <unknown>\n",
      "#12 0x5cb12ed6301c <unknown>\n",
      "#13 0x5cb12ed7acd4 <unknown>\n",
      "#14 0x5cb12ed4748f <unknown>\n",
      "#15 0x5cb12ed9b4f8 <unknown>\n",
      "#16 0x5cb12ed9b6c9 <unknown>\n",
      "#17 0x5cb12edaba36 <unknown>\n",
      "#18 0x7bc93489caa4 <unknown>\n",
      "#19 0x7bc934929c3c <unknown>\n",
      "\n",
      "Брянская область\n",
      "2\n"
     ]
    },
    {
     "name": "stderr",
     "output_type": "stream",
     "text": [
      "  4%|▎         | 3/82 [00:09<03:39,  2.78s/it]"
     ]
    },
    {
     "name": "stdout",
     "output_type": "stream",
     "text": [
      "Message: no such element: Unable to locate element: {\"method\":\"link text\",\"selector\":\"Коммунальная сфера\"}\n",
      "  (Session info: chrome=133.0.6943.53); For documentation on this error, please visit: https://www.selenium.dev/documentation/webdriver/troubleshooting/errors#no-such-element-exception\n",
      "Stacktrace:\n",
      "#0 0x5cb12edacbba <unknown>\n",
      "#1 0x5cb12e84a790 <unknown>\n",
      "#2 0x5cb12e89bc80 <unknown>\n",
      "#3 0x5cb12e89be01 <unknown>\n",
      "#4 0x5cb12e8ea944 <unknown>\n",
      "#5 0x5cb12e8c1a7d <unknown>\n",
      "#6 0x5cb12e8e7ccc <unknown>\n",
      "#7 0x5cb12e8c1823 <unknown>\n",
      "#8 0x5cb12e88da88 <unknown>\n",
      "#9 0x5cb12e88ebf1 <unknown>\n",
      "#10 0x5cb12ed7615b <unknown>\n",
      "#11 0x5cb12ed7a0e2 <unknown>\n",
      "#12 0x5cb12ed6301c <unknown>\n",
      "#13 0x5cb12ed7acd4 <unknown>\n",
      "#14 0x5cb12ed4748f <unknown>\n",
      "#15 0x5cb12ed9b4f8 <unknown>\n",
      "#16 0x5cb12ed9b6c9 <unknown>\n",
      "#17 0x5cb12edaba36 <unknown>\n",
      "#18 0x7bc93489caa4 <unknown>\n",
      "#19 0x7bc934929c3c <unknown>\n",
      "\n",
      "Владимирская область\n",
      "3\n"
     ]
    },
    {
     "name": "stderr",
     "output_type": "stream",
     "text": [
      "  5%|▍         | 4/82 [00:10<02:55,  2.25s/it]"
     ]
    },
    {
     "name": "stdout",
     "output_type": "stream",
     "text": [
      "Message: no such element: Unable to locate element: {\"method\":\"link text\",\"selector\":\"Коммунальная сфера\"}\n",
      "  (Session info: chrome=133.0.6943.53); For documentation on this error, please visit: https://www.selenium.dev/documentation/webdriver/troubleshooting/errors#no-such-element-exception\n",
      "Stacktrace:\n",
      "#0 0x5cb12edacbba <unknown>\n",
      "#1 0x5cb12e84a790 <unknown>\n",
      "#2 0x5cb12e89bc80 <unknown>\n",
      "#3 0x5cb12e89be01 <unknown>\n",
      "#4 0x5cb12e8ea944 <unknown>\n",
      "#5 0x5cb12e8c1a7d <unknown>\n",
      "#6 0x5cb12e8e7ccc <unknown>\n",
      "#7 0x5cb12e8c1823 <unknown>\n",
      "#8 0x5cb12e88da88 <unknown>\n",
      "#9 0x5cb12e88ebf1 <unknown>\n",
      "#10 0x5cb12ed7615b <unknown>\n",
      "#11 0x5cb12ed7a0e2 <unknown>\n",
      "#12 0x5cb12ed6301c <unknown>\n",
      "#13 0x5cb12ed7acd4 <unknown>\n",
      "#14 0x5cb12ed4748f <unknown>\n",
      "#15 0x5cb12ed9b4f8 <unknown>\n",
      "#16 0x5cb12ed9b6c9 <unknown>\n",
      "#17 0x5cb12edaba36 <unknown>\n",
      "#18 0x7bc93489caa4 <unknown>\n",
      "#19 0x7bc934929c3c <unknown>\n",
      "\n",
      "Воронежская область\n",
      "4\n"
     ]
    },
    {
     "name": "stderr",
     "output_type": "stream",
     "text": [
      "  6%|▌         | 5/82 [00:12<02:34,  2.00s/it]"
     ]
    },
    {
     "name": "stdout",
     "output_type": "stream",
     "text": [
      "Message: no such element: Unable to locate element: {\"method\":\"link text\",\"selector\":\"Коммунальная сфера\"}\n",
      "  (Session info: chrome=133.0.6943.53); For documentation on this error, please visit: https://www.selenium.dev/documentation/webdriver/troubleshooting/errors#no-such-element-exception\n",
      "Stacktrace:\n",
      "#0 0x5cb12edacbba <unknown>\n",
      "#1 0x5cb12e84a790 <unknown>\n",
      "#2 0x5cb12e89bc80 <unknown>\n",
      "#3 0x5cb12e89be01 <unknown>\n",
      "#4 0x5cb12e8ea944 <unknown>\n",
      "#5 0x5cb12e8c1a7d <unknown>\n",
      "#6 0x5cb12e8e7ccc <unknown>\n",
      "#7 0x5cb12e8c1823 <unknown>\n",
      "#8 0x5cb12e88da88 <unknown>\n",
      "#9 0x5cb12e88ebf1 <unknown>\n",
      "#10 0x5cb12ed7615b <unknown>\n",
      "#11 0x5cb12ed7a0e2 <unknown>\n",
      "#12 0x5cb12ed6301c <unknown>\n",
      "#13 0x5cb12ed7acd4 <unknown>\n",
      "#14 0x5cb12ed4748f <unknown>\n",
      "#15 0x5cb12ed9b4f8 <unknown>\n",
      "#16 0x5cb12ed9b6c9 <unknown>\n",
      "#17 0x5cb12edaba36 <unknown>\n",
      "#18 0x7bc93489caa4 <unknown>\n",
      "#19 0x7bc934929c3c <unknown>\n",
      "\n",
      "Ивановская область\n",
      "5\n"
     ]
    },
    {
     "name": "stderr",
     "output_type": "stream",
     "text": [
      "  7%|▋         | 6/82 [00:14<02:31,  2.00s/it]"
     ]
    },
    {
     "name": "stdout",
     "output_type": "stream",
     "text": [
      "Message: no such element: Unable to locate element: {\"method\":\"link text\",\"selector\":\"Коммунальная сфера\"}\n",
      "  (Session info: chrome=133.0.6943.53); For documentation on this error, please visit: https://www.selenium.dev/documentation/webdriver/troubleshooting/errors#no-such-element-exception\n",
      "Stacktrace:\n",
      "#0 0x5cb12edacbba <unknown>\n",
      "#1 0x5cb12e84a790 <unknown>\n",
      "#2 0x5cb12e89bc80 <unknown>\n",
      "#3 0x5cb12e89be01 <unknown>\n",
      "#4 0x5cb12e8ea944 <unknown>\n",
      "#5 0x5cb12e8c1a7d <unknown>\n",
      "#6 0x5cb12e8e7ccc <unknown>\n",
      "#7 0x5cb12e8c1823 <unknown>\n",
      "#8 0x5cb12e88da88 <unknown>\n",
      "#9 0x5cb12e88ebf1 <unknown>\n",
      "#10 0x5cb12ed7615b <unknown>\n",
      "#11 0x5cb12ed7a0e2 <unknown>\n",
      "#12 0x5cb12ed6301c <unknown>\n",
      "#13 0x5cb12ed7acd4 <unknown>\n",
      "#14 0x5cb12ed4748f <unknown>\n",
      "#15 0x5cb12ed9b4f8 <unknown>\n",
      "#16 0x5cb12ed9b6c9 <unknown>\n",
      "#17 0x5cb12edaba36 <unknown>\n",
      "#18 0x7bc93489caa4 <unknown>\n",
      "#19 0x7bc934929c3c <unknown>\n",
      "\n",
      "Калужская область\n",
      "6\n"
     ]
    },
    {
     "name": "stderr",
     "output_type": "stream",
     "text": [
      "  7%|▋         | 6/82 [00:15<03:15,  2.58s/it]\n"
     ]
    },
    {
     "ename": "KeyboardInterrupt",
     "evalue": "",
     "output_type": "error",
     "traceback": [
      "\u001b[0;31m---------------------------------------------------------------------------\u001b[0m",
      "\u001b[0;31mKeyboardInterrupt\u001b[0m                         Traceback (most recent call last)",
      "Cell \u001b[0;32mIn[20], line 5\u001b[0m\n\u001b[1;32m      3\u001b[0m \u001b[38;5;28;01mfor\u001b[39;00m i \u001b[38;5;129;01min\u001b[39;00m tqdm(links):\n\u001b[1;32m      4\u001b[0m     \u001b[38;5;28mprint\u001b[39m(cnt)\n\u001b[0;32m----> 5\u001b[0m     \u001b[43mget_table_one_mun\u001b[49m\u001b[43m(\u001b[49m\u001b[43mi\u001b[49m\u001b[43m,\u001b[49m\u001b[43m \u001b[49m\u001b[43mcnt\u001b[49m\u001b[43m)\u001b[49m\n\u001b[1;32m      6\u001b[0m     cnt \u001b[38;5;241m+\u001b[39m\u001b[38;5;241m=\u001b[39m \u001b[38;5;241m1\u001b[39m\n",
      "Cell \u001b[0;32mIn[18], line 18\u001b[0m, in \u001b[0;36mget_table_one_mun\u001b[0;34m(link, cnt)\u001b[0m\n\u001b[1;32m     16\u001b[0m     \u001b[38;5;66;03m# print('cnt=1')\u001b[39;00m\n\u001b[1;32m     17\u001b[0m driver\u001b[38;5;241m.\u001b[39mget(link)\n\u001b[0;32m---> 18\u001b[0m search_dir \u001b[38;5;241m=\u001b[39m \u001b[43mdriver\u001b[49m\u001b[38;5;241;43m.\u001b[39;49m\u001b[43mfind_element\u001b[49m\u001b[43m(\u001b[49m\u001b[43mBy\u001b[49m\u001b[38;5;241;43m.\u001b[39;49m\u001b[43mLINK_TEXT\u001b[49m\u001b[43m,\u001b[49m\u001b[43m \u001b[49m\u001b[38;5;124;43m'\u001b[39;49m\u001b[38;5;124;43mКоммунальная сфера\u001b[39;49m\u001b[38;5;124;43m'\u001b[39;49m\u001b[43m)\u001b[49m \u001b[38;5;66;03m# сюда вставлять название папки со сферой, которую парсим на данный момент\u001b[39;00m\n\u001b[1;32m     19\u001b[0m search_dir\u001b[38;5;241m.\u001b[39mclick()\n\u001b[1;32m     20\u001b[0m search_elem \u001b[38;5;241m=\u001b[39m driver\u001b[38;5;241m.\u001b[39mfind_element(By\u001b[38;5;241m.\u001b[39mNAME, \u001b[38;5;124m'\u001b[39m\u001b[38;5;124mp8008025\u001b[39m\u001b[38;5;124m'\u001b[39m) \u001b[38;5;66;03m# сюда вставлять id для критерий\u001b[39;00m\n",
      "File \u001b[0;32m~/Downloads/mainpy/.venv/lib/python3.12/site-packages/selenium/webdriver/remote/webdriver.py:888\u001b[0m, in \u001b[0;36mWebDriver.find_element\u001b[0;34m(self, by, value)\u001b[0m\n\u001b[1;32m    885\u001b[0m         \u001b[38;5;28;01mraise\u001b[39;00m NoSuchElementException(\u001b[38;5;124mf\u001b[39m\u001b[38;5;124m\"\u001b[39m\u001b[38;5;124mCannot locate relative element with: \u001b[39m\u001b[38;5;132;01m{\u001b[39;00mby\u001b[38;5;241m.\u001b[39mroot\u001b[38;5;132;01m}\u001b[39;00m\u001b[38;5;124m\"\u001b[39m)\n\u001b[1;32m    886\u001b[0m     \u001b[38;5;28;01mreturn\u001b[39;00m elements[\u001b[38;5;241m0\u001b[39m]\n\u001b[0;32m--> 888\u001b[0m \u001b[38;5;28;01mreturn\u001b[39;00m \u001b[38;5;28;43mself\u001b[39;49m\u001b[38;5;241;43m.\u001b[39;49m\u001b[43mexecute\u001b[49m\u001b[43m(\u001b[49m\u001b[43mCommand\u001b[49m\u001b[38;5;241;43m.\u001b[39;49m\u001b[43mFIND_ELEMENT\u001b[49m\u001b[43m,\u001b[49m\u001b[43m \u001b[49m\u001b[43m{\u001b[49m\u001b[38;5;124;43m\"\u001b[39;49m\u001b[38;5;124;43musing\u001b[39;49m\u001b[38;5;124;43m\"\u001b[39;49m\u001b[43m:\u001b[49m\u001b[43m \u001b[49m\u001b[43mby\u001b[49m\u001b[43m,\u001b[49m\u001b[43m \u001b[49m\u001b[38;5;124;43m\"\u001b[39;49m\u001b[38;5;124;43mvalue\u001b[39;49m\u001b[38;5;124;43m\"\u001b[39;49m\u001b[43m:\u001b[49m\u001b[43m \u001b[49m\u001b[43mvalue\u001b[49m\u001b[43m}\u001b[49m\u001b[43m)\u001b[49m[\u001b[38;5;124m\"\u001b[39m\u001b[38;5;124mvalue\u001b[39m\u001b[38;5;124m\"\u001b[39m]\n",
      "File \u001b[0;32m~/Downloads/mainpy/.venv/lib/python3.12/site-packages/selenium/webdriver/remote/webdriver.py:427\u001b[0m, in \u001b[0;36mWebDriver.execute\u001b[0;34m(self, driver_command, params)\u001b[0m\n\u001b[1;32m    424\u001b[0m     \u001b[38;5;28;01melif\u001b[39;00m \u001b[38;5;124m\"\u001b[39m\u001b[38;5;124msessionId\u001b[39m\u001b[38;5;124m\"\u001b[39m \u001b[38;5;129;01mnot\u001b[39;00m \u001b[38;5;129;01min\u001b[39;00m params:\n\u001b[1;32m    425\u001b[0m         params[\u001b[38;5;124m\"\u001b[39m\u001b[38;5;124msessionId\u001b[39m\u001b[38;5;124m\"\u001b[39m] \u001b[38;5;241m=\u001b[39m \u001b[38;5;28mself\u001b[39m\u001b[38;5;241m.\u001b[39msession_id\n\u001b[0;32m--> 427\u001b[0m response \u001b[38;5;241m=\u001b[39m \u001b[38;5;28;43mself\u001b[39;49m\u001b[38;5;241;43m.\u001b[39;49m\u001b[43mcommand_executor\u001b[49m\u001b[38;5;241;43m.\u001b[39;49m\u001b[43mexecute\u001b[49m\u001b[43m(\u001b[49m\u001b[43mdriver_command\u001b[49m\u001b[43m,\u001b[49m\u001b[43m \u001b[49m\u001b[43mparams\u001b[49m\u001b[43m)\u001b[49m\n\u001b[1;32m    428\u001b[0m \u001b[38;5;28;01mif\u001b[39;00m response:\n\u001b[1;32m    429\u001b[0m     \u001b[38;5;28mself\u001b[39m\u001b[38;5;241m.\u001b[39merror_handler\u001b[38;5;241m.\u001b[39mcheck_response(response)\n",
      "File \u001b[0;32m~/Downloads/mainpy/.venv/lib/python3.12/site-packages/selenium/webdriver/remote/remote_connection.py:404\u001b[0m, in \u001b[0;36mRemoteConnection.execute\u001b[0;34m(self, command, params)\u001b[0m\n\u001b[1;32m    402\u001b[0m trimmed \u001b[38;5;241m=\u001b[39m \u001b[38;5;28mself\u001b[39m\u001b[38;5;241m.\u001b[39m_trim_large_entries(params)\n\u001b[1;32m    403\u001b[0m LOGGER\u001b[38;5;241m.\u001b[39mdebug(\u001b[38;5;124m\"\u001b[39m\u001b[38;5;132;01m%s\u001b[39;00m\u001b[38;5;124m \u001b[39m\u001b[38;5;132;01m%s\u001b[39;00m\u001b[38;5;124m \u001b[39m\u001b[38;5;132;01m%s\u001b[39;00m\u001b[38;5;124m\"\u001b[39m, command_info[\u001b[38;5;241m0\u001b[39m], url, \u001b[38;5;28mstr\u001b[39m(trimmed))\n\u001b[0;32m--> 404\u001b[0m \u001b[38;5;28;01mreturn\u001b[39;00m \u001b[38;5;28;43mself\u001b[39;49m\u001b[38;5;241;43m.\u001b[39;49m\u001b[43m_request\u001b[49m\u001b[43m(\u001b[49m\u001b[43mcommand_info\u001b[49m\u001b[43m[\u001b[49m\u001b[38;5;241;43m0\u001b[39;49m\u001b[43m]\u001b[49m\u001b[43m,\u001b[49m\u001b[43m \u001b[49m\u001b[43murl\u001b[49m\u001b[43m,\u001b[49m\u001b[43m \u001b[49m\u001b[43mbody\u001b[49m\u001b[38;5;241;43m=\u001b[39;49m\u001b[43mdata\u001b[49m\u001b[43m)\u001b[49m\n",
      "File \u001b[0;32m~/Downloads/mainpy/.venv/lib/python3.12/site-packages/selenium/webdriver/remote/remote_connection.py:428\u001b[0m, in \u001b[0;36mRemoteConnection._request\u001b[0;34m(self, method, url, body)\u001b[0m\n\u001b[1;32m    425\u001b[0m     body \u001b[38;5;241m=\u001b[39m \u001b[38;5;28;01mNone\u001b[39;00m\n\u001b[1;32m    427\u001b[0m \u001b[38;5;28;01mif\u001b[39;00m \u001b[38;5;28mself\u001b[39m\u001b[38;5;241m.\u001b[39m_client_config\u001b[38;5;241m.\u001b[39mkeep_alive:\n\u001b[0;32m--> 428\u001b[0m     response \u001b[38;5;241m=\u001b[39m \u001b[38;5;28;43mself\u001b[39;49m\u001b[38;5;241;43m.\u001b[39;49m\u001b[43m_conn\u001b[49m\u001b[38;5;241;43m.\u001b[39;49m\u001b[43mrequest\u001b[49m\u001b[43m(\u001b[49m\u001b[43mmethod\u001b[49m\u001b[43m,\u001b[49m\u001b[43m \u001b[49m\u001b[43murl\u001b[49m\u001b[43m,\u001b[49m\u001b[43m \u001b[49m\u001b[43mbody\u001b[49m\u001b[38;5;241;43m=\u001b[39;49m\u001b[43mbody\u001b[49m\u001b[43m,\u001b[49m\u001b[43m \u001b[49m\u001b[43mheaders\u001b[49m\u001b[38;5;241;43m=\u001b[39;49m\u001b[43mheaders\u001b[49m\u001b[43m,\u001b[49m\u001b[43m \u001b[49m\u001b[43mtimeout\u001b[49m\u001b[38;5;241;43m=\u001b[39;49m\u001b[38;5;28;43mself\u001b[39;49m\u001b[38;5;241;43m.\u001b[39;49m\u001b[43m_client_config\u001b[49m\u001b[38;5;241;43m.\u001b[39;49m\u001b[43mtimeout\u001b[49m\u001b[43m)\u001b[49m\n\u001b[1;32m    429\u001b[0m     statuscode \u001b[38;5;241m=\u001b[39m response\u001b[38;5;241m.\u001b[39mstatus\n\u001b[1;32m    430\u001b[0m \u001b[38;5;28;01melse\u001b[39;00m:\n",
      "File \u001b[0;32m~/Downloads/mainpy/.venv/lib/python3.12/site-packages/urllib3/_request_methods.py:143\u001b[0m, in \u001b[0;36mRequestMethods.request\u001b[0;34m(self, method, url, body, fields, headers, json, **urlopen_kw)\u001b[0m\n\u001b[1;32m    135\u001b[0m     \u001b[38;5;28;01mreturn\u001b[39;00m \u001b[38;5;28mself\u001b[39m\u001b[38;5;241m.\u001b[39mrequest_encode_url(\n\u001b[1;32m    136\u001b[0m         method,\n\u001b[1;32m    137\u001b[0m         url,\n\u001b[0;32m   (...)\u001b[0m\n\u001b[1;32m    140\u001b[0m         \u001b[38;5;241m*\u001b[39m\u001b[38;5;241m*\u001b[39murlopen_kw,\n\u001b[1;32m    141\u001b[0m     )\n\u001b[1;32m    142\u001b[0m \u001b[38;5;28;01melse\u001b[39;00m:\n\u001b[0;32m--> 143\u001b[0m     \u001b[38;5;28;01mreturn\u001b[39;00m \u001b[38;5;28;43mself\u001b[39;49m\u001b[38;5;241;43m.\u001b[39;49m\u001b[43mrequest_encode_body\u001b[49m\u001b[43m(\u001b[49m\n\u001b[1;32m    144\u001b[0m \u001b[43m        \u001b[49m\u001b[43mmethod\u001b[49m\u001b[43m,\u001b[49m\u001b[43m \u001b[49m\u001b[43murl\u001b[49m\u001b[43m,\u001b[49m\u001b[43m \u001b[49m\u001b[43mfields\u001b[49m\u001b[38;5;241;43m=\u001b[39;49m\u001b[43mfields\u001b[49m\u001b[43m,\u001b[49m\u001b[43m \u001b[49m\u001b[43mheaders\u001b[49m\u001b[38;5;241;43m=\u001b[39;49m\u001b[43mheaders\u001b[49m\u001b[43m,\u001b[49m\u001b[43m \u001b[49m\u001b[38;5;241;43m*\u001b[39;49m\u001b[38;5;241;43m*\u001b[39;49m\u001b[43murlopen_kw\u001b[49m\n\u001b[1;32m    145\u001b[0m \u001b[43m    \u001b[49m\u001b[43m)\u001b[49m\n",
      "File \u001b[0;32m~/Downloads/mainpy/.venv/lib/python3.12/site-packages/urllib3/_request_methods.py:278\u001b[0m, in \u001b[0;36mRequestMethods.request_encode_body\u001b[0;34m(self, method, url, fields, headers, encode_multipart, multipart_boundary, **urlopen_kw)\u001b[0m\n\u001b[1;32m    274\u001b[0m     extra_kw[\u001b[38;5;124m\"\u001b[39m\u001b[38;5;124mheaders\u001b[39m\u001b[38;5;124m\"\u001b[39m]\u001b[38;5;241m.\u001b[39msetdefault(\u001b[38;5;124m\"\u001b[39m\u001b[38;5;124mContent-Type\u001b[39m\u001b[38;5;124m\"\u001b[39m, content_type)\n\u001b[1;32m    276\u001b[0m extra_kw\u001b[38;5;241m.\u001b[39mupdate(urlopen_kw)\n\u001b[0;32m--> 278\u001b[0m \u001b[38;5;28;01mreturn\u001b[39;00m \u001b[38;5;28;43mself\u001b[39;49m\u001b[38;5;241;43m.\u001b[39;49m\u001b[43murlopen\u001b[49m\u001b[43m(\u001b[49m\u001b[43mmethod\u001b[49m\u001b[43m,\u001b[49m\u001b[43m \u001b[49m\u001b[43murl\u001b[49m\u001b[43m,\u001b[49m\u001b[43m \u001b[49m\u001b[38;5;241;43m*\u001b[39;49m\u001b[38;5;241;43m*\u001b[39;49m\u001b[43mextra_kw\u001b[49m\u001b[43m)\u001b[49m\n",
      "File \u001b[0;32m~/Downloads/mainpy/.venv/lib/python3.12/site-packages/urllib3/poolmanager.py:443\u001b[0m, in \u001b[0;36mPoolManager.urlopen\u001b[0;34m(self, method, url, redirect, **kw)\u001b[0m\n\u001b[1;32m    441\u001b[0m     response \u001b[38;5;241m=\u001b[39m conn\u001b[38;5;241m.\u001b[39murlopen(method, url, \u001b[38;5;241m*\u001b[39m\u001b[38;5;241m*\u001b[39mkw)\n\u001b[1;32m    442\u001b[0m \u001b[38;5;28;01melse\u001b[39;00m:\n\u001b[0;32m--> 443\u001b[0m     response \u001b[38;5;241m=\u001b[39m \u001b[43mconn\u001b[49m\u001b[38;5;241;43m.\u001b[39;49m\u001b[43murlopen\u001b[49m\u001b[43m(\u001b[49m\u001b[43mmethod\u001b[49m\u001b[43m,\u001b[49m\u001b[43m \u001b[49m\u001b[43mu\u001b[49m\u001b[38;5;241;43m.\u001b[39;49m\u001b[43mrequest_uri\u001b[49m\u001b[43m,\u001b[49m\u001b[43m \u001b[49m\u001b[38;5;241;43m*\u001b[39;49m\u001b[38;5;241;43m*\u001b[39;49m\u001b[43mkw\u001b[49m\u001b[43m)\u001b[49m\n\u001b[1;32m    445\u001b[0m redirect_location \u001b[38;5;241m=\u001b[39m redirect \u001b[38;5;129;01mand\u001b[39;00m response\u001b[38;5;241m.\u001b[39mget_redirect_location()\n\u001b[1;32m    446\u001b[0m \u001b[38;5;28;01mif\u001b[39;00m \u001b[38;5;129;01mnot\u001b[39;00m redirect_location:\n",
      "File \u001b[0;32m~/Downloads/mainpy/.venv/lib/python3.12/site-packages/urllib3/connectionpool.py:787\u001b[0m, in \u001b[0;36mHTTPConnectionPool.urlopen\u001b[0;34m(self, method, url, body, headers, retries, redirect, assert_same_host, timeout, pool_timeout, release_conn, chunked, body_pos, preload_content, decode_content, **response_kw)\u001b[0m\n\u001b[1;32m    784\u001b[0m response_conn \u001b[38;5;241m=\u001b[39m conn \u001b[38;5;28;01mif\u001b[39;00m \u001b[38;5;129;01mnot\u001b[39;00m release_conn \u001b[38;5;28;01melse\u001b[39;00m \u001b[38;5;28;01mNone\u001b[39;00m\n\u001b[1;32m    786\u001b[0m \u001b[38;5;66;03m# Make the request on the HTTPConnection object\u001b[39;00m\n\u001b[0;32m--> 787\u001b[0m response \u001b[38;5;241m=\u001b[39m \u001b[38;5;28;43mself\u001b[39;49m\u001b[38;5;241;43m.\u001b[39;49m\u001b[43m_make_request\u001b[49m\u001b[43m(\u001b[49m\n\u001b[1;32m    788\u001b[0m \u001b[43m    \u001b[49m\u001b[43mconn\u001b[49m\u001b[43m,\u001b[49m\n\u001b[1;32m    789\u001b[0m \u001b[43m    \u001b[49m\u001b[43mmethod\u001b[49m\u001b[43m,\u001b[49m\n\u001b[1;32m    790\u001b[0m \u001b[43m    \u001b[49m\u001b[43murl\u001b[49m\u001b[43m,\u001b[49m\n\u001b[1;32m    791\u001b[0m \u001b[43m    \u001b[49m\u001b[43mtimeout\u001b[49m\u001b[38;5;241;43m=\u001b[39;49m\u001b[43mtimeout_obj\u001b[49m\u001b[43m,\u001b[49m\n\u001b[1;32m    792\u001b[0m \u001b[43m    \u001b[49m\u001b[43mbody\u001b[49m\u001b[38;5;241;43m=\u001b[39;49m\u001b[43mbody\u001b[49m\u001b[43m,\u001b[49m\n\u001b[1;32m    793\u001b[0m \u001b[43m    \u001b[49m\u001b[43mheaders\u001b[49m\u001b[38;5;241;43m=\u001b[39;49m\u001b[43mheaders\u001b[49m\u001b[43m,\u001b[49m\n\u001b[1;32m    794\u001b[0m \u001b[43m    \u001b[49m\u001b[43mchunked\u001b[49m\u001b[38;5;241;43m=\u001b[39;49m\u001b[43mchunked\u001b[49m\u001b[43m,\u001b[49m\n\u001b[1;32m    795\u001b[0m \u001b[43m    \u001b[49m\u001b[43mretries\u001b[49m\u001b[38;5;241;43m=\u001b[39;49m\u001b[43mretries\u001b[49m\u001b[43m,\u001b[49m\n\u001b[1;32m    796\u001b[0m \u001b[43m    \u001b[49m\u001b[43mresponse_conn\u001b[49m\u001b[38;5;241;43m=\u001b[39;49m\u001b[43mresponse_conn\u001b[49m\u001b[43m,\u001b[49m\n\u001b[1;32m    797\u001b[0m \u001b[43m    \u001b[49m\u001b[43mpreload_content\u001b[49m\u001b[38;5;241;43m=\u001b[39;49m\u001b[43mpreload_content\u001b[49m\u001b[43m,\u001b[49m\n\u001b[1;32m    798\u001b[0m \u001b[43m    \u001b[49m\u001b[43mdecode_content\u001b[49m\u001b[38;5;241;43m=\u001b[39;49m\u001b[43mdecode_content\u001b[49m\u001b[43m,\u001b[49m\n\u001b[1;32m    799\u001b[0m \u001b[43m    \u001b[49m\u001b[38;5;241;43m*\u001b[39;49m\u001b[38;5;241;43m*\u001b[39;49m\u001b[43mresponse_kw\u001b[49m\u001b[43m,\u001b[49m\n\u001b[1;32m    800\u001b[0m \u001b[43m\u001b[49m\u001b[43m)\u001b[49m\n\u001b[1;32m    802\u001b[0m \u001b[38;5;66;03m# Everything went great!\u001b[39;00m\n\u001b[1;32m    803\u001b[0m clean_exit \u001b[38;5;241m=\u001b[39m \u001b[38;5;28;01mTrue\u001b[39;00m\n",
      "File \u001b[0;32m~/Downloads/mainpy/.venv/lib/python3.12/site-packages/urllib3/connectionpool.py:534\u001b[0m, in \u001b[0;36mHTTPConnectionPool._make_request\u001b[0;34m(self, conn, method, url, body, headers, retries, timeout, chunked, response_conn, preload_content, decode_content, enforce_content_length)\u001b[0m\n\u001b[1;32m    532\u001b[0m \u001b[38;5;66;03m# Receive the response from the server\u001b[39;00m\n\u001b[1;32m    533\u001b[0m \u001b[38;5;28;01mtry\u001b[39;00m:\n\u001b[0;32m--> 534\u001b[0m     response \u001b[38;5;241m=\u001b[39m \u001b[43mconn\u001b[49m\u001b[38;5;241;43m.\u001b[39;49m\u001b[43mgetresponse\u001b[49m\u001b[43m(\u001b[49m\u001b[43m)\u001b[49m\n\u001b[1;32m    535\u001b[0m \u001b[38;5;28;01mexcept\u001b[39;00m (BaseSSLError, \u001b[38;5;167;01mOSError\u001b[39;00m) \u001b[38;5;28;01mas\u001b[39;00m e:\n\u001b[1;32m    536\u001b[0m     \u001b[38;5;28mself\u001b[39m\u001b[38;5;241m.\u001b[39m_raise_timeout(err\u001b[38;5;241m=\u001b[39me, url\u001b[38;5;241m=\u001b[39murl, timeout_value\u001b[38;5;241m=\u001b[39mread_timeout)\n",
      "File \u001b[0;32m~/Downloads/mainpy/.venv/lib/python3.12/site-packages/urllib3/connection.py:516\u001b[0m, in \u001b[0;36mHTTPConnection.getresponse\u001b[0;34m(self)\u001b[0m\n\u001b[1;32m    513\u001b[0m _shutdown \u001b[38;5;241m=\u001b[39m \u001b[38;5;28mgetattr\u001b[39m(\u001b[38;5;28mself\u001b[39m\u001b[38;5;241m.\u001b[39msock, \u001b[38;5;124m\"\u001b[39m\u001b[38;5;124mshutdown\u001b[39m\u001b[38;5;124m\"\u001b[39m, \u001b[38;5;28;01mNone\u001b[39;00m)\n\u001b[1;32m    515\u001b[0m \u001b[38;5;66;03m# Get the response from http.client.HTTPConnection\u001b[39;00m\n\u001b[0;32m--> 516\u001b[0m httplib_response \u001b[38;5;241m=\u001b[39m \u001b[38;5;28;43msuper\u001b[39;49m\u001b[43m(\u001b[49m\u001b[43m)\u001b[49m\u001b[38;5;241;43m.\u001b[39;49m\u001b[43mgetresponse\u001b[49m\u001b[43m(\u001b[49m\u001b[43m)\u001b[49m\n\u001b[1;32m    518\u001b[0m \u001b[38;5;28;01mtry\u001b[39;00m:\n\u001b[1;32m    519\u001b[0m     assert_header_parsing(httplib_response\u001b[38;5;241m.\u001b[39mmsg)\n",
      "File \u001b[0;32m/usr/lib/python3.12/http/client.py:1428\u001b[0m, in \u001b[0;36mHTTPConnection.getresponse\u001b[0;34m(self)\u001b[0m\n\u001b[1;32m   1426\u001b[0m \u001b[38;5;28;01mtry\u001b[39;00m:\n\u001b[1;32m   1427\u001b[0m     \u001b[38;5;28;01mtry\u001b[39;00m:\n\u001b[0;32m-> 1428\u001b[0m         \u001b[43mresponse\u001b[49m\u001b[38;5;241;43m.\u001b[39;49m\u001b[43mbegin\u001b[49m\u001b[43m(\u001b[49m\u001b[43m)\u001b[49m\n\u001b[1;32m   1429\u001b[0m     \u001b[38;5;28;01mexcept\u001b[39;00m \u001b[38;5;167;01mConnectionError\u001b[39;00m:\n\u001b[1;32m   1430\u001b[0m         \u001b[38;5;28mself\u001b[39m\u001b[38;5;241m.\u001b[39mclose()\n",
      "File \u001b[0;32m/usr/lib/python3.12/http/client.py:331\u001b[0m, in \u001b[0;36mHTTPResponse.begin\u001b[0;34m(self)\u001b[0m\n\u001b[1;32m    329\u001b[0m \u001b[38;5;66;03m# read until we get a non-100 response\u001b[39;00m\n\u001b[1;32m    330\u001b[0m \u001b[38;5;28;01mwhile\u001b[39;00m \u001b[38;5;28;01mTrue\u001b[39;00m:\n\u001b[0;32m--> 331\u001b[0m     version, status, reason \u001b[38;5;241m=\u001b[39m \u001b[38;5;28;43mself\u001b[39;49m\u001b[38;5;241;43m.\u001b[39;49m\u001b[43m_read_status\u001b[49m\u001b[43m(\u001b[49m\u001b[43m)\u001b[49m\n\u001b[1;32m    332\u001b[0m     \u001b[38;5;28;01mif\u001b[39;00m status \u001b[38;5;241m!=\u001b[39m CONTINUE:\n\u001b[1;32m    333\u001b[0m         \u001b[38;5;28;01mbreak\u001b[39;00m\n",
      "File \u001b[0;32m/usr/lib/python3.12/http/client.py:292\u001b[0m, in \u001b[0;36mHTTPResponse._read_status\u001b[0;34m(self)\u001b[0m\n\u001b[1;32m    291\u001b[0m \u001b[38;5;28;01mdef\u001b[39;00m\u001b[38;5;250m \u001b[39m\u001b[38;5;21m_read_status\u001b[39m(\u001b[38;5;28mself\u001b[39m):\n\u001b[0;32m--> 292\u001b[0m     line \u001b[38;5;241m=\u001b[39m \u001b[38;5;28mstr\u001b[39m(\u001b[38;5;28;43mself\u001b[39;49m\u001b[38;5;241;43m.\u001b[39;49m\u001b[43mfp\u001b[49m\u001b[38;5;241;43m.\u001b[39;49m\u001b[43mreadline\u001b[49m\u001b[43m(\u001b[49m\u001b[43m_MAXLINE\u001b[49m\u001b[43m \u001b[49m\u001b[38;5;241;43m+\u001b[39;49m\u001b[43m \u001b[49m\u001b[38;5;241;43m1\u001b[39;49m\u001b[43m)\u001b[49m, \u001b[38;5;124m\"\u001b[39m\u001b[38;5;124miso-8859-1\u001b[39m\u001b[38;5;124m\"\u001b[39m)\n\u001b[1;32m    293\u001b[0m     \u001b[38;5;28;01mif\u001b[39;00m \u001b[38;5;28mlen\u001b[39m(line) \u001b[38;5;241m>\u001b[39m _MAXLINE:\n\u001b[1;32m    294\u001b[0m         \u001b[38;5;28;01mraise\u001b[39;00m LineTooLong(\u001b[38;5;124m\"\u001b[39m\u001b[38;5;124mstatus line\u001b[39m\u001b[38;5;124m\"\u001b[39m)\n",
      "File \u001b[0;32m/usr/lib/python3.12/socket.py:707\u001b[0m, in \u001b[0;36mSocketIO.readinto\u001b[0;34m(self, b)\u001b[0m\n\u001b[1;32m    705\u001b[0m \u001b[38;5;28;01mwhile\u001b[39;00m \u001b[38;5;28;01mTrue\u001b[39;00m:\n\u001b[1;32m    706\u001b[0m     \u001b[38;5;28;01mtry\u001b[39;00m:\n\u001b[0;32m--> 707\u001b[0m         \u001b[38;5;28;01mreturn\u001b[39;00m \u001b[38;5;28;43mself\u001b[39;49m\u001b[38;5;241;43m.\u001b[39;49m\u001b[43m_sock\u001b[49m\u001b[38;5;241;43m.\u001b[39;49m\u001b[43mrecv_into\u001b[49m\u001b[43m(\u001b[49m\u001b[43mb\u001b[49m\u001b[43m)\u001b[49m\n\u001b[1;32m    708\u001b[0m     \u001b[38;5;28;01mexcept\u001b[39;00m timeout:\n\u001b[1;32m    709\u001b[0m         \u001b[38;5;28mself\u001b[39m\u001b[38;5;241m.\u001b[39m_timeout_occurred \u001b[38;5;241m=\u001b[39m \u001b[38;5;28;01mTrue\u001b[39;00m\n",
      "\u001b[0;31mKeyboardInterrupt\u001b[0m: "
     ]
    }
   ],
   "source": [
    "from tqdm import tqdm\n",
    "cnt = 0\n",
    "for i in tqdm(links):\n",
    "    print(cnt)\n",
    "    get_table_one_mun(i, cnt)\n",
    "    cnt += 1"
   ]
  },
  {
   "cell_type": "code",
   "execution_count": 26,
   "metadata": {},
   "outputs": [],
   "source": [
    "get_table_one_mun(links[38], cnt)\n",
    "\n",
    "# for i in links:\n",
    "    # print(i[1])\n"
   ]
  },
  {
   "cell_type": "markdown",
   "metadata": {},
   "source": [
    "Воронежская область\n",
    "Республика Карелия\n",
    "г.Санкт-Петербург - нет данных\n",
    "Республика Ингушетия\n",
    "Оренбургская область - нет данных\n",
    "Республика Дагестан\n",
    "г. Севастополь\n",
    "Краснодарский край"
   ]
  },
  {
   "cell_type": "code",
   "execution_count": 6,
   "metadata": {},
   "outputs": [],
   "source": [
    "# search_elem = driver.find_element(By.NAME, 'p8008020') # name элемента, вроде у всех одинаковый"
   ]
  },
  {
   "cell_type": "markdown",
   "metadata": {},
   "source": [
    "в Костроме критерия с аварийным жильем"
   ]
  },
  {
   "cell_type": "code",
   "execution_count": 7,
   "metadata": {},
   "outputs": [],
   "source": [
    "# window_handles = driver.window_handles\n",
    "#         # # Переключаемся на последнюю открытую вкладку (новую)\n",
    "# driver.switch_to.window(window_handles[-1])"
   ]
  }
 ],
 "metadata": {
  "kernelspec": {
   "display_name": ".venv",
   "language": "python",
   "name": "python3"
  },
  "language_info": {
   "codemirror_mode": {
    "name": "ipython",
    "version": 3
   },
   "file_extension": ".py",
   "mimetype": "text/x-python",
   "name": "python",
   "nbconvert_exporter": "python",
   "pygments_lexer": "ipython3",
   "version": "3.12.3"
  }
 },
 "nbformat": 4,
 "nbformat_minor": 2
}
