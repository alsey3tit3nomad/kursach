{
 "cells": [
  {
   "cell_type": "code",
   "execution_count": null,
   "metadata": {},
   "outputs": [],
   "source": [
    "import pandas as pd\n",
    "import selenium \n",
    "import requests\n",
    "import bs4"
   ]
  },
  {
   "cell_type": "code",
   "execution_count": 105,
   "metadata": {},
   "outputs": [
    {
     "name": "stdout",
     "output_type": "stream",
     "text": [
      "(1, 9)\n"
     ]
    },
    {
     "data": {
      "text/html": [
       "<div>\n",
       "<style scoped>\n",
       "    .dataframe tbody tr th:only-of-type {\n",
       "        vertical-align: middle;\n",
       "    }\n",
       "\n",
       "    .dataframe tbody tr th {\n",
       "        vertical-align: top;\n",
       "    }\n",
       "\n",
       "    .dataframe thead th {\n",
       "        text-align: right;\n",
       "    }\n",
       "</style>\n",
       "<table border=\"1\" class=\"dataframe\">\n",
       "  <thead>\n",
       "    <tr style=\"text-align: right;\">\n",
       "      <th></th>\n",
       "      <th>2007</th>\n",
       "      <th>2008</th>\n",
       "      <th>2009</th>\n",
       "      <th>2010</th>\n",
       "      <th>2011</th>\n",
       "      <th>2012</th>\n",
       "      <th>2013</th>\n",
       "      <th>2014</th>\n",
       "      <th>Unnamed: 9</th>\n",
       "    </tr>\n",
       "  </thead>\n",
       "  <tbody>\n",
       "    <tr>\n",
       "      <th>Алексеевский муниципальный район и город Алексеевка</th>\n",
       "      <td>14,9</td>\n",
       "      <td>23,9</td>\n",
       "      <td>33,4</td>\n",
       "      <td>20,9</td>\n",
       "      <td>28,4</td>\n",
       "      <td>28,8</td>\n",
       "      <td>61,3</td>\n",
       "      <td>57,9</td>\n",
       "      <td>NaN</td>\n",
       "    </tr>\n",
       "  </tbody>\n",
       "</table>\n",
       "</div>"
      ],
      "text/plain": [
       "                                                    2007  2008  2009  2010  \\\n",
       "Алексеевский муниципальный район и город Алексе...  14,9  23,9  33,4  20,9   \n",
       "\n",
       "                                                    2011  2012  2013  2014  \\\n",
       "Алексеевский муниципальный район и город Алексе...  28,4  28,8  61,3  57,9   \n",
       "\n",
       "                                                    Unnamed: 9  \n",
       "Алексеевский муниципальный район и город Алексе...         NaN  "
      ]
     },
     "execution_count": 105,
     "metadata": {},
     "output_type": "execute_result"
    }
   ],
   "source": [
    "df = pd.read_csv('Report.csv', sep=';', encoding='cp1251', skiprows=2, header=0, index_col=0)\n",
    "print(df.shape)\n",
    "df\n"
   ]
  },
  {
   "cell_type": "code",
   "execution_count": 93,
   "metadata": {},
   "outputs": [
    {
     "data": {
      "text/plain": [
       "MultiIndex([(                                                  nan, ...),\n",
       "            ('Алексеевский муниципальный район и город Алексеевка', ...)],\n",
       "           )"
      ]
     },
     "execution_count": 93,
     "metadata": {},
     "output_type": "execute_result"
    }
   ],
   "source": [
    "df = pd.read_csv('Report.csv', sep=';', encoding='cp1251')\n",
    "df = df.drop(df.columns[0], axis=1)\n",
    "# df.iloc[0]\n",
    "# df1 = pd.DataFrame(columns=[df.iloc[1:]])\n",
    "df.index\n",
    "# df1.iloc[0] = df.iloc[1]\n",
    "\n",
    "# df.drop('Общая площадь жилых помещений в ветхих и аварийных жилых домах, тыс. кв.м, тысяча метров квадратных, значение показателя за год, Алексеевский муниципальный район и город Алексеевка, Муниципальный район',axis=1)"
   ]
  },
  {
   "cell_type": "code",
   "execution_count": 95,
   "metadata": {},
   "outputs": [
    {
     "data": {
      "text/plain": [
       "MultiIndex([(                                                  nan, ...),\n",
       "            ('Алексеевский муниципальный район и город Алексеевка', ...)],\n",
       "           )"
      ]
     },
     "execution_count": 95,
     "metadata": {},
     "output_type": "execute_result"
    }
   ],
   "source": [
    "# Reloading the file with the proper header row\n",
    "df_corrected = pd.read_csv('Report.csv', sep=';', encoding='cp1251', header=1)\n",
    "\n",
    "# Renaming columns to ensure the first column becomes \"Муниципалитет\", and years are the rest\n",
    "df_corrected.rename(columns={df_corrected.columns[0]: 'Муниципалитет'}, inplace=True)\n",
    "\n",
    "# Dropping any rows where \"Муниципалитет\" is NaN (likely unnecessary extra rows)\n",
    "df_cleaned = df_corrected.dropna(subset=['Муниципалитет'])\n",
    "\n",
    "# Setting \"Муниципалитет\" as the index for better structure\n",
    "df_cleaned.set_index('Муниципалитет', inplace=True)\n",
    "df.index\n",
    "# Displaying the cleaned dataframe to the user\n",
    "# import ace_tools as tools; tools.display_dataframe_to_user(name=\"Муниципальная статистика\", dataframe=df_cleaned)"
   ]
  },
  {
   "cell_type": "code",
   "execution_count": 78,
   "metadata": {},
   "outputs": [
    {
     "data": {
      "text/html": [
       "<div>\n",
       "<style scoped>\n",
       "    .dataframe tbody tr th:only-of-type {\n",
       "        vertical-align: middle;\n",
       "    }\n",
       "\n",
       "    .dataframe tbody tr th {\n",
       "        vertical-align: top;\n",
       "    }\n",
       "\n",
       "    .dataframe thead th {\n",
       "        text-align: right;\n",
       "    }\n",
       "</style>\n",
       "<table border=\"1\" class=\"dataframe\">\n",
       "  <thead>\n",
       "    <tr style=\"text-align: right;\">\n",
       "      <th></th>\n",
       "      <th></th>\n",
       "      <th></th>\n",
       "      <th></th>\n",
       "      <th></th>\n",
       "      <th></th>\n",
       "      <th></th>\n",
       "      <th></th>\n",
       "      <th></th>\n",
       "    </tr>\n",
       "  </thead>\n",
       "  <tbody>\n",
       "    <tr>\n",
       "      <th>NaN</th>\n",
       "      <th>2007</th>\n",
       "      <th>2008</th>\n",
       "      <th>2009</th>\n",
       "      <th>2010</th>\n",
       "      <th>2011</th>\n",
       "      <th>2012</th>\n",
       "      <th>2013</th>\n",
       "      <th>2014</th>\n",
       "    </tr>\n",
       "    <tr>\n",
       "      <th>Алексеевский муниципальный район и город Алексеевка</th>\n",
       "      <th>14,9</th>\n",
       "      <th>23,9</th>\n",
       "      <th>33,4</th>\n",
       "      <th>20,9</th>\n",
       "      <th>28,4</th>\n",
       "      <th>28,8</th>\n",
       "      <th>61,3</th>\n",
       "      <th>57,9</th>\n",
       "    </tr>\n",
       "  </tbody>\n",
       "</table>\n",
       "</div>"
      ],
      "text/plain": [
       "Empty DataFrame\n",
       "Columns: []\n",
       "Index: [(nan, 2007, 2008, 2009, 2010, 2011, 2012, 2013, 2014), (Алексеевский муниципальный район и город Алексеевка, 14,9, 23,9, 33,4, 20,9, 28,4, 28,8, 61,3, 57,9)]"
      ]
     },
     "execution_count": 78,
     "metadata": {},
     "output_type": "execute_result"
    }
   ],
   "source": [
    "df"
   ]
  }
 ],
 "metadata": {
  "kernelspec": {
   "display_name": ".venv",
   "language": "python",
   "name": "python3"
  },
  "language_info": {
   "codemirror_mode": {
    "name": "ipython",
    "version": 3
   },
   "file_extension": ".py",
   "mimetype": "text/x-python",
   "name": "python",
   "nbconvert_exporter": "python",
   "pygments_lexer": "ipython3",
   "version": "3.12.3"
  }
 },
 "nbformat": 4,
 "nbformat_minor": 2
}
