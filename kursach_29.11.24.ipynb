{
 "cells": [
  {
   "cell_type": "code",
   "execution_count": 66,
   "metadata": {},
   "outputs": [
    {
     "name": "stdout",
     "output_type": "stream",
     "text": [
      "5.3.0\n"
     ]
    }
   ],
   "source": [
    "import pandas as pd\n",
    "import selenium \n",
    "import requests\n",
    "from bs4 import BeautifulSoup\n",
    "import lxml\n",
    "from selenium.webdriver.common.by import By\n",
    "print(lxml.__version__)\n",
    "from selenium import webdriver\n",
    "from selenium.webdriver.chrome.service import Service\n",
    "from webdriver_manager.chrome import ChromeDriverManager\n",
    "import time\n",
    "service = Service(ChromeDriverManager().install())\n",
    "driver = webdriver.Chrome()\n",
    "\n",
    "    \n"
   ]
  },
  {
   "cell_type": "code",
   "execution_count": 67,
   "metadata": {},
   "outputs": [
    {
     "name": "stdout",
     "output_type": "stream",
     "text": [
      "[<selenium.webdriver.remote.webelement.WebElement (session=\"8e1a5f20a8a88b74e566c9f46582e82a\", element=\"f.5BFE458B9E51D873DDDFF8728B060A70.d.387FDF858A9E579FD37998A70357D736.e.7\")>, <selenium.webdriver.remote.webelement.WebElement (session=\"8e1a5f20a8a88b74e566c9f46582e82a\", element=\"f.5BFE458B9E51D873DDDFF8728B060A70.d.387FDF858A9E579FD37998A70357D736.e.8\")>, <selenium.webdriver.remote.webelement.WebElement (session=\"8e1a5f20a8a88b74e566c9f46582e82a\", element=\"f.5BFE458B9E51D873DDDFF8728B060A70.d.387FDF858A9E579FD37998A70357D736.e.9\")>, <selenium.webdriver.remote.webelement.WebElement (session=\"8e1a5f20a8a88b74e566c9f46582e82a\", element=\"f.5BFE458B9E51D873DDDFF8728B060A70.d.387FDF858A9E579FD37998A70357D736.e.10\")>, <selenium.webdriver.remote.webelement.WebElement (session=\"8e1a5f20a8a88b74e566c9f46582e82a\", element=\"f.5BFE458B9E51D873DDDFF8728B060A70.d.387FDF858A9E579FD37998A70357D736.e.11\")>, <selenium.webdriver.remote.webelement.WebElement (session=\"8e1a5f20a8a88b74e566c9f46582e82a\", element=\"f.5BFE458B9E51D873DDDFF8728B060A70.d.387FDF858A9E579FD37998A70357D736.e.12\")>, <selenium.webdriver.remote.webelement.WebElement (session=\"8e1a5f20a8a88b74e566c9f46582e82a\", element=\"f.5BFE458B9E51D873DDDFF8728B060A70.d.387FDF858A9E579FD37998A70357D736.e.13\")>, <selenium.webdriver.remote.webelement.WebElement (session=\"8e1a5f20a8a88b74e566c9f46582e82a\", element=\"f.5BFE458B9E51D873DDDFF8728B060A70.d.387FDF858A9E579FD37998A70357D736.e.14\")>, <selenium.webdriver.remote.webelement.WebElement (session=\"8e1a5f20a8a88b74e566c9f46582e82a\", element=\"f.5BFE458B9E51D873DDDFF8728B060A70.d.387FDF858A9E579FD37998A70357D736.e.15\")>, <selenium.webdriver.remote.webelement.WebElement (session=\"8e1a5f20a8a88b74e566c9f46582e82a\", element=\"f.5BFE458B9E51D873DDDFF8728B060A70.d.387FDF858A9E579FD37998A70357D736.e.16\")>, <selenium.webdriver.remote.webelement.WebElement (session=\"8e1a5f20a8a88b74e566c9f46582e82a\", element=\"f.5BFE458B9E51D873DDDFF8728B060A70.d.387FDF858A9E579FD37998A70357D736.e.17\")>, <selenium.webdriver.remote.webelement.WebElement (session=\"8e1a5f20a8a88b74e566c9f46582e82a\", element=\"f.5BFE458B9E51D873DDDFF8728B060A70.d.387FDF858A9E579FD37998A70357D736.e.18\")>, <selenium.webdriver.remote.webelement.WebElement (session=\"8e1a5f20a8a88b74e566c9f46582e82a\", element=\"f.5BFE458B9E51D873DDDFF8728B060A70.d.387FDF858A9E579FD37998A70357D736.e.19\")>, <selenium.webdriver.remote.webelement.WebElement (session=\"8e1a5f20a8a88b74e566c9f46582e82a\", element=\"f.5BFE458B9E51D873DDDFF8728B060A70.d.387FDF858A9E579FD37998A70357D736.e.20\")>, <selenium.webdriver.remote.webelement.WebElement (session=\"8e1a5f20a8a88b74e566c9f46582e82a\", element=\"f.5BFE458B9E51D873DDDFF8728B060A70.d.387FDF858A9E579FD37998A70357D736.e.21\")>, <selenium.webdriver.remote.webelement.WebElement (session=\"8e1a5f20a8a88b74e566c9f46582e82a\", element=\"f.5BFE458B9E51D873DDDFF8728B060A70.d.387FDF858A9E579FD37998A70357D736.e.22\")>, <selenium.webdriver.remote.webelement.WebElement (session=\"8e1a5f20a8a88b74e566c9f46582e82a\", element=\"f.5BFE458B9E51D873DDDFF8728B060A70.d.387FDF858A9E579FD37998A70357D736.e.23\")>, <selenium.webdriver.remote.webelement.WebElement (session=\"8e1a5f20a8a88b74e566c9f46582e82a\", element=\"f.5BFE458B9E51D873DDDFF8728B060A70.d.387FDF858A9E579FD37998A70357D736.e.24\")>, <selenium.webdriver.remote.webelement.WebElement (session=\"8e1a5f20a8a88b74e566c9f46582e82a\", element=\"f.5BFE458B9E51D873DDDFF8728B060A70.d.387FDF858A9E579FD37998A70357D736.e.25\")>, <selenium.webdriver.remote.webelement.WebElement (session=\"8e1a5f20a8a88b74e566c9f46582e82a\", element=\"f.5BFE458B9E51D873DDDFF8728B060A70.d.387FDF858A9E579FD37998A70357D736.e.26\")>, <selenium.webdriver.remote.webelement.WebElement (session=\"8e1a5f20a8a88b74e566c9f46582e82a\", element=\"f.5BFE458B9E51D873DDDFF8728B060A70.d.387FDF858A9E579FD37998A70357D736.e.27\")>, <selenium.webdriver.remote.webelement.WebElement (session=\"8e1a5f20a8a88b74e566c9f46582e82a\", element=\"f.5BFE458B9E51D873DDDFF8728B060A70.d.387FDF858A9E579FD37998A70357D736.e.28\")>, <selenium.webdriver.remote.webelement.WebElement (session=\"8e1a5f20a8a88b74e566c9f46582e82a\", element=\"f.5BFE458B9E51D873DDDFF8728B060A70.d.387FDF858A9E579FD37998A70357D736.e.29\")>, <selenium.webdriver.remote.webelement.WebElement (session=\"8e1a5f20a8a88b74e566c9f46582e82a\", element=\"f.5BFE458B9E51D873DDDFF8728B060A70.d.387FDF858A9E579FD37998A70357D736.e.30\")>, <selenium.webdriver.remote.webelement.WebElement (session=\"8e1a5f20a8a88b74e566c9f46582e82a\", element=\"f.5BFE458B9E51D873DDDFF8728B060A70.d.387FDF858A9E579FD37998A70357D736.e.31\")>, <selenium.webdriver.remote.webelement.WebElement (session=\"8e1a5f20a8a88b74e566c9f46582e82a\", element=\"f.5BFE458B9E51D873DDDFF8728B060A70.d.387FDF858A9E579FD37998A70357D736.e.32\")>, <selenium.webdriver.remote.webelement.WebElement (session=\"8e1a5f20a8a88b74e566c9f46582e82a\", element=\"f.5BFE458B9E51D873DDDFF8728B060A70.d.387FDF858A9E579FD37998A70357D736.e.33\")>, <selenium.webdriver.remote.webelement.WebElement (session=\"8e1a5f20a8a88b74e566c9f46582e82a\", element=\"f.5BFE458B9E51D873DDDFF8728B060A70.d.387FDF858A9E579FD37998A70357D736.e.34\")>, <selenium.webdriver.remote.webelement.WebElement (session=\"8e1a5f20a8a88b74e566c9f46582e82a\", element=\"f.5BFE458B9E51D873DDDFF8728B060A70.d.387FDF858A9E579FD37998A70357D736.e.35\")>, <selenium.webdriver.remote.webelement.WebElement (session=\"8e1a5f20a8a88b74e566c9f46582e82a\", element=\"f.5BFE458B9E51D873DDDFF8728B060A70.d.387FDF858A9E579FD37998A70357D736.e.36\")>, <selenium.webdriver.remote.webelement.WebElement (session=\"8e1a5f20a8a88b74e566c9f46582e82a\", element=\"f.5BFE458B9E51D873DDDFF8728B060A70.d.387FDF858A9E579FD37998A70357D736.e.37\")>, <selenium.webdriver.remote.webelement.WebElement (session=\"8e1a5f20a8a88b74e566c9f46582e82a\", element=\"f.5BFE458B9E51D873DDDFF8728B060A70.d.387FDF858A9E579FD37998A70357D736.e.38\")>, <selenium.webdriver.remote.webelement.WebElement (session=\"8e1a5f20a8a88b74e566c9f46582e82a\", element=\"f.5BFE458B9E51D873DDDFF8728B060A70.d.387FDF858A9E579FD37998A70357D736.e.39\")>, <selenium.webdriver.remote.webelement.WebElement (session=\"8e1a5f20a8a88b74e566c9f46582e82a\", element=\"f.5BFE458B9E51D873DDDFF8728B060A70.d.387FDF858A9E579FD37998A70357D736.e.40\")>, <selenium.webdriver.remote.webelement.WebElement (session=\"8e1a5f20a8a88b74e566c9f46582e82a\", element=\"f.5BFE458B9E51D873DDDFF8728B060A70.d.387FDF858A9E579FD37998A70357D736.e.41\")>, <selenium.webdriver.remote.webelement.WebElement (session=\"8e1a5f20a8a88b74e566c9f46582e82a\", element=\"f.5BFE458B9E51D873DDDFF8728B060A70.d.387FDF858A9E579FD37998A70357D736.e.42\")>, <selenium.webdriver.remote.webelement.WebElement (session=\"8e1a5f20a8a88b74e566c9f46582e82a\", element=\"f.5BFE458B9E51D873DDDFF8728B060A70.d.387FDF858A9E579FD37998A70357D736.e.43\")>, <selenium.webdriver.remote.webelement.WebElement (session=\"8e1a5f20a8a88b74e566c9f46582e82a\", element=\"f.5BFE458B9E51D873DDDFF8728B060A70.d.387FDF858A9E579FD37998A70357D736.e.44\")>, <selenium.webdriver.remote.webelement.WebElement (session=\"8e1a5f20a8a88b74e566c9f46582e82a\", element=\"f.5BFE458B9E51D873DDDFF8728B060A70.d.387FDF858A9E579FD37998A70357D736.e.45\")>, <selenium.webdriver.remote.webelement.WebElement (session=\"8e1a5f20a8a88b74e566c9f46582e82a\", element=\"f.5BFE458B9E51D873DDDFF8728B060A70.d.387FDF858A9E579FD37998A70357D736.e.46\")>, <selenium.webdriver.remote.webelement.WebElement (session=\"8e1a5f20a8a88b74e566c9f46582e82a\", element=\"f.5BFE458B9E51D873DDDFF8728B060A70.d.387FDF858A9E579FD37998A70357D736.e.47\")>, <selenium.webdriver.remote.webelement.WebElement (session=\"8e1a5f20a8a88b74e566c9f46582e82a\", element=\"f.5BFE458B9E51D873DDDFF8728B060A70.d.387FDF858A9E579FD37998A70357D736.e.48\")>, <selenium.webdriver.remote.webelement.WebElement (session=\"8e1a5f20a8a88b74e566c9f46582e82a\", element=\"f.5BFE458B9E51D873DDDFF8728B060A70.d.387FDF858A9E579FD37998A70357D736.e.49\")>, <selenium.webdriver.remote.webelement.WebElement (session=\"8e1a5f20a8a88b74e566c9f46582e82a\", element=\"f.5BFE458B9E51D873DDDFF8728B060A70.d.387FDF858A9E579FD37998A70357D736.e.50\")>, <selenium.webdriver.remote.webelement.WebElement (session=\"8e1a5f20a8a88b74e566c9f46582e82a\", element=\"f.5BFE458B9E51D873DDDFF8728B060A70.d.387FDF858A9E579FD37998A70357D736.e.51\")>, <selenium.webdriver.remote.webelement.WebElement (session=\"8e1a5f20a8a88b74e566c9f46582e82a\", element=\"f.5BFE458B9E51D873DDDFF8728B060A70.d.387FDF858A9E579FD37998A70357D736.e.52\")>, <selenium.webdriver.remote.webelement.WebElement (session=\"8e1a5f20a8a88b74e566c9f46582e82a\", element=\"f.5BFE458B9E51D873DDDFF8728B060A70.d.387FDF858A9E579FD37998A70357D736.e.53\")>, <selenium.webdriver.remote.webelement.WebElement (session=\"8e1a5f20a8a88b74e566c9f46582e82a\", element=\"f.5BFE458B9E51D873DDDFF8728B060A70.d.387FDF858A9E579FD37998A70357D736.e.54\")>, <selenium.webdriver.remote.webelement.WebElement (session=\"8e1a5f20a8a88b74e566c9f46582e82a\", element=\"f.5BFE458B9E51D873DDDFF8728B060A70.d.387FDF858A9E579FD37998A70357D736.e.55\")>, <selenium.webdriver.remote.webelement.WebElement (session=\"8e1a5f20a8a88b74e566c9f46582e82a\", element=\"f.5BFE458B9E51D873DDDFF8728B060A70.d.387FDF858A9E579FD37998A70357D736.e.56\")>, <selenium.webdriver.remote.webelement.WebElement (session=\"8e1a5f20a8a88b74e566c9f46582e82a\", element=\"f.5BFE458B9E51D873DDDFF8728B060A70.d.387FDF858A9E579FD37998A70357D736.e.57\")>, <selenium.webdriver.remote.webelement.WebElement (session=\"8e1a5f20a8a88b74e566c9f46582e82a\", element=\"f.5BFE458B9E51D873DDDFF8728B060A70.d.387FDF858A9E579FD37998A70357D736.e.58\")>, <selenium.webdriver.remote.webelement.WebElement (session=\"8e1a5f20a8a88b74e566c9f46582e82a\", element=\"f.5BFE458B9E51D873DDDFF8728B060A70.d.387FDF858A9E579FD37998A70357D736.e.2\")>, <selenium.webdriver.remote.webelement.WebElement (session=\"8e1a5f20a8a88b74e566c9f46582e82a\", element=\"f.5BFE458B9E51D873DDDFF8728B060A70.d.387FDF858A9E579FD37998A70357D736.e.59\")>, <selenium.webdriver.remote.webelement.WebElement (session=\"8e1a5f20a8a88b74e566c9f46582e82a\", element=\"f.5BFE458B9E51D873DDDFF8728B060A70.d.387FDF858A9E579FD37998A70357D736.e.60\")>, <selenium.webdriver.remote.webelement.WebElement (session=\"8e1a5f20a8a88b74e566c9f46582e82a\", element=\"f.5BFE458B9E51D873DDDFF8728B060A70.d.387FDF858A9E579FD37998A70357D736.e.61\")>, <selenium.webdriver.remote.webelement.WebElement (session=\"8e1a5f20a8a88b74e566c9f46582e82a\", element=\"f.5BFE458B9E51D873DDDFF8728B060A70.d.387FDF858A9E579FD37998A70357D736.e.62\")>, <selenium.webdriver.remote.webelement.WebElement (session=\"8e1a5f20a8a88b74e566c9f46582e82a\", element=\"f.5BFE458B9E51D873DDDFF8728B060A70.d.387FDF858A9E579FD37998A70357D736.e.63\")>, <selenium.webdriver.remote.webelement.WebElement (session=\"8e1a5f20a8a88b74e566c9f46582e82a\", element=\"f.5BFE458B9E51D873DDDFF8728B060A70.d.387FDF858A9E579FD37998A70357D736.e.64\")>, <selenium.webdriver.remote.webelement.WebElement (session=\"8e1a5f20a8a88b74e566c9f46582e82a\", element=\"f.5BFE458B9E51D873DDDFF8728B060A70.d.387FDF858A9E579FD37998A70357D736.e.65\")>, <selenium.webdriver.remote.webelement.WebElement (session=\"8e1a5f20a8a88b74e566c9f46582e82a\", element=\"f.5BFE458B9E51D873DDDFF8728B060A70.d.387FDF858A9E579FD37998A70357D736.e.66\")>, <selenium.webdriver.remote.webelement.WebElement (session=\"8e1a5f20a8a88b74e566c9f46582e82a\", element=\"f.5BFE458B9E51D873DDDFF8728B060A70.d.387FDF858A9E579FD37998A70357D736.e.67\")>, <selenium.webdriver.remote.webelement.WebElement (session=\"8e1a5f20a8a88b74e566c9f46582e82a\", element=\"f.5BFE458B9E51D873DDDFF8728B060A70.d.387FDF858A9E579FD37998A70357D736.e.68\")>, <selenium.webdriver.remote.webelement.WebElement (session=\"8e1a5f20a8a88b74e566c9f46582e82a\", element=\"f.5BFE458B9E51D873DDDFF8728B060A70.d.387FDF858A9E579FD37998A70357D736.e.69\")>, <selenium.webdriver.remote.webelement.WebElement (session=\"8e1a5f20a8a88b74e566c9f46582e82a\", element=\"f.5BFE458B9E51D873DDDFF8728B060A70.d.387FDF858A9E579FD37998A70357D736.e.70\")>, <selenium.webdriver.remote.webelement.WebElement (session=\"8e1a5f20a8a88b74e566c9f46582e82a\", element=\"f.5BFE458B9E51D873DDDFF8728B060A70.d.387FDF858A9E579FD37998A70357D736.e.71\")>, <selenium.webdriver.remote.webelement.WebElement (session=\"8e1a5f20a8a88b74e566c9f46582e82a\", element=\"f.5BFE458B9E51D873DDDFF8728B060A70.d.387FDF858A9E579FD37998A70357D736.e.72\")>, <selenium.webdriver.remote.webelement.WebElement (session=\"8e1a5f20a8a88b74e566c9f46582e82a\", element=\"f.5BFE458B9E51D873DDDFF8728B060A70.d.387FDF858A9E579FD37998A70357D736.e.73\")>, <selenium.webdriver.remote.webelement.WebElement (session=\"8e1a5f20a8a88b74e566c9f46582e82a\", element=\"f.5BFE458B9E51D873DDDFF8728B060A70.d.387FDF858A9E579FD37998A70357D736.e.74\")>, <selenium.webdriver.remote.webelement.WebElement (session=\"8e1a5f20a8a88b74e566c9f46582e82a\", element=\"f.5BFE458B9E51D873DDDFF8728B060A70.d.387FDF858A9E579FD37998A70357D736.e.75\")>, <selenium.webdriver.remote.webelement.WebElement (session=\"8e1a5f20a8a88b74e566c9f46582e82a\", element=\"f.5BFE458B9E51D873DDDFF8728B060A70.d.387FDF858A9E579FD37998A70357D736.e.76\")>, <selenium.webdriver.remote.webelement.WebElement (session=\"8e1a5f20a8a88b74e566c9f46582e82a\", element=\"f.5BFE458B9E51D873DDDFF8728B060A70.d.387FDF858A9E579FD37998A70357D736.e.77\")>, <selenium.webdriver.remote.webelement.WebElement (session=\"8e1a5f20a8a88b74e566c9f46582e82a\", element=\"f.5BFE458B9E51D873DDDFF8728B060A70.d.387FDF858A9E579FD37998A70357D736.e.78\")>, <selenium.webdriver.remote.webelement.WebElement (session=\"8e1a5f20a8a88b74e566c9f46582e82a\", element=\"f.5BFE458B9E51D873DDDFF8728B060A70.d.387FDF858A9E579FD37998A70357D736.e.79\")>, <selenium.webdriver.remote.webelement.WebElement (session=\"8e1a5f20a8a88b74e566c9f46582e82a\", element=\"f.5BFE458B9E51D873DDDFF8728B060A70.d.387FDF858A9E579FD37998A70357D736.e.80\")>, <selenium.webdriver.remote.webelement.WebElement (session=\"8e1a5f20a8a88b74e566c9f46582e82a\", element=\"f.5BFE458B9E51D873DDDFF8728B060A70.d.387FDF858A9E579FD37998A70357D736.e.81\")>, <selenium.webdriver.remote.webelement.WebElement (session=\"8e1a5f20a8a88b74e566c9f46582e82a\", element=\"f.5BFE458B9E51D873DDDFF8728B060A70.d.387FDF858A9E579FD37998A70357D736.e.82\")>, <selenium.webdriver.remote.webelement.WebElement (session=\"8e1a5f20a8a88b74e566c9f46582e82a\", element=\"f.5BFE458B9E51D873DDDFF8728B060A70.d.387FDF858A9E579FD37998A70357D736.e.83\")>, <selenium.webdriver.remote.webelement.WebElement (session=\"8e1a5f20a8a88b74e566c9f46582e82a\", element=\"f.5BFE458B9E51D873DDDFF8728B060A70.d.387FDF858A9E579FD37998A70357D736.e.84\")>, <selenium.webdriver.remote.webelement.WebElement (session=\"8e1a5f20a8a88b74e566c9f46582e82a\", element=\"f.5BFE458B9E51D873DDDFF8728B060A70.d.387FDF858A9E579FD37998A70357D736.e.85\")>, <selenium.webdriver.remote.webelement.WebElement (session=\"8e1a5f20a8a88b74e566c9f46582e82a\", element=\"f.5BFE458B9E51D873DDDFF8728B060A70.d.387FDF858A9E579FD37998A70357D736.e.86\")>, <selenium.webdriver.remote.webelement.WebElement (session=\"8e1a5f20a8a88b74e566c9f46582e82a\", element=\"f.5BFE458B9E51D873DDDFF8728B060A70.d.387FDF858A9E579FD37998A70357D736.e.87\")>, <selenium.webdriver.remote.webelement.WebElement (session=\"8e1a5f20a8a88b74e566c9f46582e82a\", element=\"f.5BFE458B9E51D873DDDFF8728B060A70.d.387FDF858A9E579FD37998A70357D736.e.88\")>]\n"
     ]
    }
   ],
   "source": [
    "ref = 'https://rosstat.gov.ru/storage/mediabank/munst.htm'\n",
    "driver.get(ref)\n",
    "driver.implicitly_wait(0.5)\n",
    "driver.maximize_window()\n",
    "driver.implicitly_wait(1)\n",
    "\n",
    "region_links = driver.find_elements(By.XPATH, \"//a[contains(@href, 'munst')]\")\n",
    "print(region_links)\n",
    "links = []\n",
    "for link in region_links:\n",
    "    links.append((link.get_attribute('href'), link.text))\n",
    "# driver.close()\n"
   ]
  },
  {
   "cell_type": "code",
   "execution_count": 68,
   "metadata": {},
   "outputs": [],
   "source": [
    "links = links[1:]"
   ]
  },
  {
   "cell_type": "code",
   "execution_count": 69,
   "metadata": {},
   "outputs": [],
   "source": [
    "def get_table_one_mun(link, cnt):\n",
    "    \n",
    "    if cnt == 0:\n",
    "        \n",
    "        driver.implicitly_wait(0.5)\n",
    "        driver.maximize_window()\n",
    "        driver.implicitly_wait(1)\n",
    "    else:\n",
    "        window_handles = driver.window_handles\n",
    "        # # Переключаемся на последнюю открытую вкладку (новую)\n",
    "        driver.switch_to.window(window_handles[-1])\n",
    "    driver.get(link)\n",
    "    search_dir = driver.find_element(By.LINK_TEXT, 'Коммунальная сфера')\n",
    "    search_dir.click()\n",
    "    search_elem = driver.find_element(By.NAME, 'p8008020') # name элемента, вроде у всех одинаковый\n",
    "    search_elem.click()\n",
    "    button_next = driver.find_element(By.ID, 'Knopka')\n",
    "    button_next.click()\n",
    "    all_mun = driver.find_element(By.NAME, 'munr_chk')\n",
    "    all_mun.click()\n",
    "    type_pos = driver.find_element(By.NAME, \"tippos_chk\") \n",
    "    type_pos.click()\n",
    "    mun_obr = driver.find_element(By.NAME, 'oktmo_chk')\n",
    "    mun_obr.click()\n",
    "    chk_years = driver.find_element(By.NAME, 'god_chk')\n",
    "    chk_years.click()\n",
    "    aa = driver.find_element(By.NAME, 'STbl')\n",
    "    aa.click()\n",
    "    window_handles = driver.window_handles\n",
    "    # # Переключаемся на последнюю открытую вкладку (новую)\n",
    "    driver.switch_to.window(window_handles[-1])\n",
    "    a = driver.find_element(By.NAME, 'Format')\n",
    "    a.click()\n",
    "    b = driver.find_element(By.XPATH, '//select//option[contains(text(), \"CSV\")]')\n",
    "    b.click()\n",
    "    c = driver.find_element(By.NAME, 'showtbl0')\n",
    "    c.click()\n",
    "    # name_file = f'Report ({cnt}).csv' if cnt > 0 else 'Report.csv'\n",
    "    # curr_path = '/home/nomad/Downloads' + name_file\n",
    "    # df = pd.read_csv(curr_path, sep=';', encoding='cp1251', skiprows=2, header=0, index_col=0)\n",
    "\n",
    "    # # Теперь вы можете выполнять действия на новой вкладке\n",
    "    # # Например, получить заголовок страницы\n",
    "    # print(driver.title)\n",
    "\n",
    "    # # Закрытие новой вкладки (по желанию)\n",
    "\n",
    "    # # Переключение обратно на первую вкладку\n",
    "    # # driver.switch_to.window(window_handles[0])\n",
    "    driver.close()\n",
    "    # driver.quit()"
   ]
  },
  {
   "cell_type": "code",
   "execution_count": 70,
   "metadata": {},
   "outputs": [
    {
     "name": "stderr",
     "output_type": "stream",
     "text": [
      " 60%|██████    | 6/10 [00:53<00:35,  8.96s/it]\n"
     ]
    },
    {
     "ename": "NoSuchElementException",
     "evalue": "Message: no such element: Unable to locate element: {\"method\":\"css selector\",\"selector\":\"[name=\"p8008020\"]\"}\n  (Session info: chrome=131.0.6778.85); For documentation on this error, please visit: https://www.selenium.dev/documentation/webdriver/troubleshooting/errors#no-such-element-exception\nStacktrace:\n#0 0x5bd3e444231a <unknown>\n#1 0x5bd3e3f586e0 <unknown>\n#2 0x5bd3e3fa73e6 <unknown>\n#3 0x5bd3e3fa7681 <unknown>\n#4 0x5bd3e3fecb04 <unknown>\n#5 0x5bd3e3fcb48d <unknown>\n#6 0x5bd3e3fe9ed7 <unknown>\n#7 0x5bd3e3fcb203 <unknown>\n#8 0x5bd3e3f99cc0 <unknown>\n#9 0x5bd3e3f9ac9e <unknown>\n#10 0x5bd3e440fd0b <unknown>\n#11 0x5bd3e4413c92 <unknown>\n#12 0x5bd3e43fcb3c <unknown>\n#13 0x5bd3e4414807 <unknown>\n#14 0x5bd3e43e20df <unknown>\n#15 0x5bd3e4431578 <unknown>\n#16 0x5bd3e4431740 <unknown>\n#17 0x5bd3e4441196 <unknown>\n#18 0x71e2d329ca94 <unknown>\n#19 0x71e2d3329c3c <unknown>\n",
     "output_type": "error",
     "traceback": [
      "\u001b[0;31m---------------------------------------------------------------------------\u001b[0m",
      "\u001b[0;31mNoSuchElementException\u001b[0m                    Traceback (most recent call last)",
      "Cell \u001b[0;32mIn[70], line 4\u001b[0m\n\u001b[1;32m      2\u001b[0m cnt \u001b[38;5;241m=\u001b[39m \u001b[38;5;241m0\u001b[39m\n\u001b[1;32m      3\u001b[0m \u001b[38;5;28;01mfor\u001b[39;00m i \u001b[38;5;129;01min\u001b[39;00m tqdm(links[:\u001b[38;5;241m10\u001b[39m]):\n\u001b[0;32m----> 4\u001b[0m     \u001b[43mget_table_one_mun\u001b[49m\u001b[43m(\u001b[49m\u001b[43mi\u001b[49m\u001b[43m[\u001b[49m\u001b[38;5;241;43m0\u001b[39;49m\u001b[43m]\u001b[49m\u001b[43m,\u001b[49m\u001b[43m \u001b[49m\u001b[43mcnt\u001b[49m\u001b[43m)\u001b[49m\n\u001b[1;32m      5\u001b[0m     cnt \u001b[38;5;241m+\u001b[39m\u001b[38;5;241m=\u001b[39m \u001b[38;5;241m1\u001b[39m\n",
      "Cell \u001b[0;32mIn[69], line 15\u001b[0m, in \u001b[0;36mget_table_one_mun\u001b[0;34m(link, cnt)\u001b[0m\n\u001b[1;32m     13\u001b[0m search_dir \u001b[38;5;241m=\u001b[39m driver\u001b[38;5;241m.\u001b[39mfind_element(By\u001b[38;5;241m.\u001b[39mLINK_TEXT, \u001b[38;5;124m'\u001b[39m\u001b[38;5;124mКоммунальная сфера\u001b[39m\u001b[38;5;124m'\u001b[39m)\n\u001b[1;32m     14\u001b[0m search_dir\u001b[38;5;241m.\u001b[39mclick()\n\u001b[0;32m---> 15\u001b[0m search_elem \u001b[38;5;241m=\u001b[39m \u001b[43mdriver\u001b[49m\u001b[38;5;241;43m.\u001b[39;49m\u001b[43mfind_element\u001b[49m\u001b[43m(\u001b[49m\u001b[43mBy\u001b[49m\u001b[38;5;241;43m.\u001b[39;49m\u001b[43mNAME\u001b[49m\u001b[43m,\u001b[49m\u001b[43m \u001b[49m\u001b[38;5;124;43m'\u001b[39;49m\u001b[38;5;124;43mp8008020\u001b[39;49m\u001b[38;5;124;43m'\u001b[39;49m\u001b[43m)\u001b[49m \u001b[38;5;66;03m# name элемента, вроде у всех одинаковый\u001b[39;00m\n\u001b[1;32m     16\u001b[0m search_elem\u001b[38;5;241m.\u001b[39mclick()\n\u001b[1;32m     17\u001b[0m button_next \u001b[38;5;241m=\u001b[39m driver\u001b[38;5;241m.\u001b[39mfind_element(By\u001b[38;5;241m.\u001b[39mID, \u001b[38;5;124m'\u001b[39m\u001b[38;5;124mKnopka\u001b[39m\u001b[38;5;124m'\u001b[39m)\n",
      "File \u001b[0;32m~/Downloads/mainpy/.venv/lib/python3.12/site-packages/selenium/webdriver/remote/webdriver.py:770\u001b[0m, in \u001b[0;36mWebDriver.find_element\u001b[0;34m(self, by, value)\u001b[0m\n\u001b[1;32m    767\u001b[0m         \u001b[38;5;28;01mraise\u001b[39;00m NoSuchElementException(\u001b[38;5;124mf\u001b[39m\u001b[38;5;124m\"\u001b[39m\u001b[38;5;124mCannot locate relative element with: \u001b[39m\u001b[38;5;132;01m{\u001b[39;00mby\u001b[38;5;241m.\u001b[39mroot\u001b[38;5;132;01m}\u001b[39;00m\u001b[38;5;124m\"\u001b[39m)\n\u001b[1;32m    768\u001b[0m     \u001b[38;5;28;01mreturn\u001b[39;00m elements[\u001b[38;5;241m0\u001b[39m]\n\u001b[0;32m--> 770\u001b[0m \u001b[38;5;28;01mreturn\u001b[39;00m \u001b[38;5;28;43mself\u001b[39;49m\u001b[38;5;241;43m.\u001b[39;49m\u001b[43mexecute\u001b[49m\u001b[43m(\u001b[49m\u001b[43mCommand\u001b[49m\u001b[38;5;241;43m.\u001b[39;49m\u001b[43mFIND_ELEMENT\u001b[49m\u001b[43m,\u001b[49m\u001b[43m \u001b[49m\u001b[43m{\u001b[49m\u001b[38;5;124;43m\"\u001b[39;49m\u001b[38;5;124;43musing\u001b[39;49m\u001b[38;5;124;43m\"\u001b[39;49m\u001b[43m:\u001b[49m\u001b[43m \u001b[49m\u001b[43mby\u001b[49m\u001b[43m,\u001b[49m\u001b[43m \u001b[49m\u001b[38;5;124;43m\"\u001b[39;49m\u001b[38;5;124;43mvalue\u001b[39;49m\u001b[38;5;124;43m\"\u001b[39;49m\u001b[43m:\u001b[49m\u001b[43m \u001b[49m\u001b[43mvalue\u001b[49m\u001b[43m}\u001b[49m\u001b[43m)\u001b[49m[\u001b[38;5;124m\"\u001b[39m\u001b[38;5;124mvalue\u001b[39m\u001b[38;5;124m\"\u001b[39m]\n",
      "File \u001b[0;32m~/Downloads/mainpy/.venv/lib/python3.12/site-packages/selenium/webdriver/remote/webdriver.py:384\u001b[0m, in \u001b[0;36mWebDriver.execute\u001b[0;34m(self, driver_command, params)\u001b[0m\n\u001b[1;32m    382\u001b[0m response \u001b[38;5;241m=\u001b[39m \u001b[38;5;28mself\u001b[39m\u001b[38;5;241m.\u001b[39mcommand_executor\u001b[38;5;241m.\u001b[39mexecute(driver_command, params)\n\u001b[1;32m    383\u001b[0m \u001b[38;5;28;01mif\u001b[39;00m response:\n\u001b[0;32m--> 384\u001b[0m     \u001b[38;5;28;43mself\u001b[39;49m\u001b[38;5;241;43m.\u001b[39;49m\u001b[43merror_handler\u001b[49m\u001b[38;5;241;43m.\u001b[39;49m\u001b[43mcheck_response\u001b[49m\u001b[43m(\u001b[49m\u001b[43mresponse\u001b[49m\u001b[43m)\u001b[49m\n\u001b[1;32m    385\u001b[0m     response[\u001b[38;5;124m\"\u001b[39m\u001b[38;5;124mvalue\u001b[39m\u001b[38;5;124m\"\u001b[39m] \u001b[38;5;241m=\u001b[39m \u001b[38;5;28mself\u001b[39m\u001b[38;5;241m.\u001b[39m_unwrap_value(response\u001b[38;5;241m.\u001b[39mget(\u001b[38;5;124m\"\u001b[39m\u001b[38;5;124mvalue\u001b[39m\u001b[38;5;124m\"\u001b[39m, \u001b[38;5;28;01mNone\u001b[39;00m))\n\u001b[1;32m    386\u001b[0m     \u001b[38;5;28;01mreturn\u001b[39;00m response\n",
      "File \u001b[0;32m~/Downloads/mainpy/.venv/lib/python3.12/site-packages/selenium/webdriver/remote/errorhandler.py:232\u001b[0m, in \u001b[0;36mErrorHandler.check_response\u001b[0;34m(self, response)\u001b[0m\n\u001b[1;32m    230\u001b[0m         alert_text \u001b[38;5;241m=\u001b[39m value[\u001b[38;5;124m\"\u001b[39m\u001b[38;5;124malert\u001b[39m\u001b[38;5;124m\"\u001b[39m]\u001b[38;5;241m.\u001b[39mget(\u001b[38;5;124m\"\u001b[39m\u001b[38;5;124mtext\u001b[39m\u001b[38;5;124m\"\u001b[39m)\n\u001b[1;32m    231\u001b[0m     \u001b[38;5;28;01mraise\u001b[39;00m exception_class(message, screen, stacktrace, alert_text)  \u001b[38;5;66;03m# type: ignore[call-arg]  # mypy is not smart enough here\u001b[39;00m\n\u001b[0;32m--> 232\u001b[0m \u001b[38;5;28;01mraise\u001b[39;00m exception_class(message, screen, stacktrace)\n",
      "\u001b[0;31mNoSuchElementException\u001b[0m: Message: no such element: Unable to locate element: {\"method\":\"css selector\",\"selector\":\"[name=\"p8008020\"]\"}\n  (Session info: chrome=131.0.6778.85); For documentation on this error, please visit: https://www.selenium.dev/documentation/webdriver/troubleshooting/errors#no-such-element-exception\nStacktrace:\n#0 0x5bd3e444231a <unknown>\n#1 0x5bd3e3f586e0 <unknown>\n#2 0x5bd3e3fa73e6 <unknown>\n#3 0x5bd3e3fa7681 <unknown>\n#4 0x5bd3e3fecb04 <unknown>\n#5 0x5bd3e3fcb48d <unknown>\n#6 0x5bd3e3fe9ed7 <unknown>\n#7 0x5bd3e3fcb203 <unknown>\n#8 0x5bd3e3f99cc0 <unknown>\n#9 0x5bd3e3f9ac9e <unknown>\n#10 0x5bd3e440fd0b <unknown>\n#11 0x5bd3e4413c92 <unknown>\n#12 0x5bd3e43fcb3c <unknown>\n#13 0x5bd3e4414807 <unknown>\n#14 0x5bd3e43e20df <unknown>\n#15 0x5bd3e4431578 <unknown>\n#16 0x5bd3e4431740 <unknown>\n#17 0x5bd3e4441196 <unknown>\n#18 0x71e2d329ca94 <unknown>\n#19 0x71e2d3329c3c <unknown>\n"
     ]
    }
   ],
   "source": [
    "from tqdm import tqdm\n",
    "cnt = 0\n",
    "for i in tqdm(links[:10]):\n",
    "    get_table_one_mun(i[0], cnt)\n",
    "    cnt += 1"
   ]
  },
  {
   "cell_type": "code",
   "execution_count": 71,
   "metadata": {},
   "outputs": [
    {
     "ename": "NoSuchElementException",
     "evalue": "Message: no such element: Unable to locate element: {\"method\":\"css selector\",\"selector\":\"[name=\"p8008020\"]\"}\n  (Session info: chrome=131.0.6778.85); For documentation on this error, please visit: https://www.selenium.dev/documentation/webdriver/troubleshooting/errors#no-such-element-exception\nStacktrace:\n#0 0x5bd3e444231a <unknown>\n#1 0x5bd3e3f586e0 <unknown>\n#2 0x5bd3e3fa73e6 <unknown>\n#3 0x5bd3e3fa7681 <unknown>\n#4 0x5bd3e3fecb04 <unknown>\n#5 0x5bd3e3fcb48d <unknown>\n#6 0x5bd3e3fe9ed7 <unknown>\n#7 0x5bd3e3fcb203 <unknown>\n#8 0x5bd3e3f99cc0 <unknown>\n#9 0x5bd3e3f9ac9e <unknown>\n#10 0x5bd3e440fd0b <unknown>\n#11 0x5bd3e4413c92 <unknown>\n#12 0x5bd3e43fcb3c <unknown>\n#13 0x5bd3e4414807 <unknown>\n#14 0x5bd3e43e20df <unknown>\n#15 0x5bd3e4431578 <unknown>\n#16 0x5bd3e4431740 <unknown>\n#17 0x5bd3e4441196 <unknown>\n#18 0x71e2d329ca94 <unknown>\n#19 0x71e2d3329c3c <unknown>\n",
     "output_type": "error",
     "traceback": [
      "\u001b[0;31m---------------------------------------------------------------------------\u001b[0m",
      "\u001b[0;31mNoSuchElementException\u001b[0m                    Traceback (most recent call last)",
      "Cell \u001b[0;32mIn[71], line 1\u001b[0m\n\u001b[0;32m----> 1\u001b[0m search_elem \u001b[38;5;241m=\u001b[39m \u001b[43mdriver\u001b[49m\u001b[38;5;241;43m.\u001b[39;49m\u001b[43mfind_element\u001b[49m\u001b[43m(\u001b[49m\u001b[43mBy\u001b[49m\u001b[38;5;241;43m.\u001b[39;49m\u001b[43mNAME\u001b[49m\u001b[43m,\u001b[49m\u001b[43m \u001b[49m\u001b[38;5;124;43m'\u001b[39;49m\u001b[38;5;124;43mp8008020\u001b[39;49m\u001b[38;5;124;43m'\u001b[39;49m\u001b[43m)\u001b[49m \u001b[38;5;66;03m# name элемента, вроде у всех одинаковый\u001b[39;00m\n",
      "File \u001b[0;32m~/Downloads/mainpy/.venv/lib/python3.12/site-packages/selenium/webdriver/remote/webdriver.py:770\u001b[0m, in \u001b[0;36mWebDriver.find_element\u001b[0;34m(self, by, value)\u001b[0m\n\u001b[1;32m    767\u001b[0m         \u001b[38;5;28;01mraise\u001b[39;00m NoSuchElementException(\u001b[38;5;124mf\u001b[39m\u001b[38;5;124m\"\u001b[39m\u001b[38;5;124mCannot locate relative element with: \u001b[39m\u001b[38;5;132;01m{\u001b[39;00mby\u001b[38;5;241m.\u001b[39mroot\u001b[38;5;132;01m}\u001b[39;00m\u001b[38;5;124m\"\u001b[39m)\n\u001b[1;32m    768\u001b[0m     \u001b[38;5;28;01mreturn\u001b[39;00m elements[\u001b[38;5;241m0\u001b[39m]\n\u001b[0;32m--> 770\u001b[0m \u001b[38;5;28;01mreturn\u001b[39;00m \u001b[38;5;28;43mself\u001b[39;49m\u001b[38;5;241;43m.\u001b[39;49m\u001b[43mexecute\u001b[49m\u001b[43m(\u001b[49m\u001b[43mCommand\u001b[49m\u001b[38;5;241;43m.\u001b[39;49m\u001b[43mFIND_ELEMENT\u001b[49m\u001b[43m,\u001b[49m\u001b[43m \u001b[49m\u001b[43m{\u001b[49m\u001b[38;5;124;43m\"\u001b[39;49m\u001b[38;5;124;43musing\u001b[39;49m\u001b[38;5;124;43m\"\u001b[39;49m\u001b[43m:\u001b[49m\u001b[43m \u001b[49m\u001b[43mby\u001b[49m\u001b[43m,\u001b[49m\u001b[43m \u001b[49m\u001b[38;5;124;43m\"\u001b[39;49m\u001b[38;5;124;43mvalue\u001b[39;49m\u001b[38;5;124;43m\"\u001b[39;49m\u001b[43m:\u001b[49m\u001b[43m \u001b[49m\u001b[43mvalue\u001b[49m\u001b[43m}\u001b[49m\u001b[43m)\u001b[49m[\u001b[38;5;124m\"\u001b[39m\u001b[38;5;124mvalue\u001b[39m\u001b[38;5;124m\"\u001b[39m]\n",
      "File \u001b[0;32m~/Downloads/mainpy/.venv/lib/python3.12/site-packages/selenium/webdriver/remote/webdriver.py:384\u001b[0m, in \u001b[0;36mWebDriver.execute\u001b[0;34m(self, driver_command, params)\u001b[0m\n\u001b[1;32m    382\u001b[0m response \u001b[38;5;241m=\u001b[39m \u001b[38;5;28mself\u001b[39m\u001b[38;5;241m.\u001b[39mcommand_executor\u001b[38;5;241m.\u001b[39mexecute(driver_command, params)\n\u001b[1;32m    383\u001b[0m \u001b[38;5;28;01mif\u001b[39;00m response:\n\u001b[0;32m--> 384\u001b[0m     \u001b[38;5;28;43mself\u001b[39;49m\u001b[38;5;241;43m.\u001b[39;49m\u001b[43merror_handler\u001b[49m\u001b[38;5;241;43m.\u001b[39;49m\u001b[43mcheck_response\u001b[49m\u001b[43m(\u001b[49m\u001b[43mresponse\u001b[49m\u001b[43m)\u001b[49m\n\u001b[1;32m    385\u001b[0m     response[\u001b[38;5;124m\"\u001b[39m\u001b[38;5;124mvalue\u001b[39m\u001b[38;5;124m\"\u001b[39m] \u001b[38;5;241m=\u001b[39m \u001b[38;5;28mself\u001b[39m\u001b[38;5;241m.\u001b[39m_unwrap_value(response\u001b[38;5;241m.\u001b[39mget(\u001b[38;5;124m\"\u001b[39m\u001b[38;5;124mvalue\u001b[39m\u001b[38;5;124m\"\u001b[39m, \u001b[38;5;28;01mNone\u001b[39;00m))\n\u001b[1;32m    386\u001b[0m     \u001b[38;5;28;01mreturn\u001b[39;00m response\n",
      "File \u001b[0;32m~/Downloads/mainpy/.venv/lib/python3.12/site-packages/selenium/webdriver/remote/errorhandler.py:232\u001b[0m, in \u001b[0;36mErrorHandler.check_response\u001b[0;34m(self, response)\u001b[0m\n\u001b[1;32m    230\u001b[0m         alert_text \u001b[38;5;241m=\u001b[39m value[\u001b[38;5;124m\"\u001b[39m\u001b[38;5;124malert\u001b[39m\u001b[38;5;124m\"\u001b[39m]\u001b[38;5;241m.\u001b[39mget(\u001b[38;5;124m\"\u001b[39m\u001b[38;5;124mtext\u001b[39m\u001b[38;5;124m\"\u001b[39m)\n\u001b[1;32m    231\u001b[0m     \u001b[38;5;28;01mraise\u001b[39;00m exception_class(message, screen, stacktrace, alert_text)  \u001b[38;5;66;03m# type: ignore[call-arg]  # mypy is not smart enough here\u001b[39;00m\n\u001b[0;32m--> 232\u001b[0m \u001b[38;5;28;01mraise\u001b[39;00m exception_class(message, screen, stacktrace)\n",
      "\u001b[0;31mNoSuchElementException\u001b[0m: Message: no such element: Unable to locate element: {\"method\":\"css selector\",\"selector\":\"[name=\"p8008020\"]\"}\n  (Session info: chrome=131.0.6778.85); For documentation on this error, please visit: https://www.selenium.dev/documentation/webdriver/troubleshooting/errors#no-such-element-exception\nStacktrace:\n#0 0x5bd3e444231a <unknown>\n#1 0x5bd3e3f586e0 <unknown>\n#2 0x5bd3e3fa73e6 <unknown>\n#3 0x5bd3e3fa7681 <unknown>\n#4 0x5bd3e3fecb04 <unknown>\n#5 0x5bd3e3fcb48d <unknown>\n#6 0x5bd3e3fe9ed7 <unknown>\n#7 0x5bd3e3fcb203 <unknown>\n#8 0x5bd3e3f99cc0 <unknown>\n#9 0x5bd3e3f9ac9e <unknown>\n#10 0x5bd3e440fd0b <unknown>\n#11 0x5bd3e4413c92 <unknown>\n#12 0x5bd3e43fcb3c <unknown>\n#13 0x5bd3e4414807 <unknown>\n#14 0x5bd3e43e20df <unknown>\n#15 0x5bd3e4431578 <unknown>\n#16 0x5bd3e4431740 <unknown>\n#17 0x5bd3e4441196 <unknown>\n#18 0x71e2d329ca94 <unknown>\n#19 0x71e2d3329c3c <unknown>\n"
     ]
    }
   ],
   "source": [
    "search_elem = driver.find_element(By.NAME, 'p8008020') # name элемента, вроде у всех одинаковый"
   ]
  },
  {
   "cell_type": "markdown",
   "metadata": {},
   "source": [
    "в Костроме критерия с аварийным жильем"
   ]
  },
  {
   "cell_type": "code",
   "execution_count": null,
   "metadata": {},
   "outputs": [],
   "source": [
    "window_handles = driver.window_handles\n",
    "        # # Переключаемся на последнюю открытую вкладку (новую)\n",
    "driver.switch_to.window(window_handles[-1])"
   ]
  },
  {
   "cell_type": "code",
   "execution_count": null,
   "metadata": {},
   "outputs": [],
   "source": [
    "driver.get('https://github.com/SadeghHayeri/GreenTunnel')"
   ]
  }
 ],
 "metadata": {
  "kernelspec": {
   "display_name": ".venv",
   "language": "python",
   "name": "python3"
  },
  "language_info": {
   "codemirror_mode": {
    "name": "ipython",
    "version": 3
   },
   "file_extension": ".py",
   "mimetype": "text/x-python",
   "name": "python",
   "nbconvert_exporter": "python",
   "pygments_lexer": "ipython3",
   "version": "3.12.3"
  }
 },
 "nbformat": 4,
 "nbformat_minor": 2
}
